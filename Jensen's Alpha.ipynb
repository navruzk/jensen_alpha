{
 "cells": [
  {
   "cell_type": "markdown",
   "metadata": {
    "application/vnd.databricks.v1+cell": {
     "cellMetadata": {
      "byteLimit": 2048000,
      "rowLimit": 10000
     },
     "inputWidgets": {},
     "nuid": "0b1f2314-d73f-4ec3-9cdb-e61f42e82135",
     "showTitle": false,
     "title": ""
    }
   },
   "source": [
    "# S&P500 Stocks' Jensen's Alpha"
   ]
  },
  {
   "cell_type": "markdown",
   "metadata": {
    "application/vnd.databricks.v1+cell": {
     "cellMetadata": {
      "byteLimit": 2048000,
      "rowLimit": 10000
     },
     "inputWidgets": {},
     "nuid": "cba0e73e-4304-4246-a6fc-50d2474f8cee",
     "showTitle": false,
     "title": ""
    }
   },
   "source": [
    "## Introduction\n",
    "##### Stock market is where the stocks are bought and sold, and stock prices regularly fluctuate. Diving deep into the stock price data and modeling the stock returns shows that some of stocks usually show better performance than the others. This notebook answers a very usual question of stock market enthusiasts and practitioners, what type of stocks beat the market?\n",
    "\n",
    "Notebook is organized in a research paper style. It presents data set and its source, and the usual model for estimation of the Jensen's Alpha. Next, the main results are presented and the notebook is concluded.\n",
    "\n",
    "##### But first what is the Jensen's Alpha?\n",
    "\n",
    "Stock prices are volatilem, however, not a single stock can indiciate how the market as a whole is doing. For that reason we look into all of the stocks together for example the index (S&P500, Nikkei225).\n",
    "So basically stock index shows the whole market itself. If index price is going up that means all the market is doing good.\n",
    "\n",
    "Historically, individual stocks are tested if they follow the market or not. Usually some of the stocks go up with the market or go down when the market goes up. For that reason several mathematical financial models are developed and the most practical one is called Capital Asset Pricing Model (CAPM).\n",
    "\n",
    "$$\n",
    "R_{S} - R_{F} = \\beta_{rm} (R_{M} - R_{F})\n",
    "$$\n",
    "\n",
    "Here, RS is a stock return, RF is the risk free rate, and RM is the market return. So expectation is that the stock return will relate to the market return by the parameter beta.\n",
    "\n",
    "However, some of stocks perform better than the market and the CAPM model captures that factor by alpha. It is called Jensen's Alpha (Jensen, 1967., https://papers.ssrn.com/sol3/papers.cfm?abstract_id=244153).\n",
    "\n",
    "$$\n",
    "R_{S} - R_{F} = \\alpha + \\beta_{rm} (R_{M} - R_{F})\n",
    "$$\n",
    "\n",
    "Now, stocks with the larger alpha is assumed to perform better than the market and portfolio engineers always look for that alpha.\n",
    "\n",
    "Thus, in this notebook we will look into S&P500 stocks and estimate the alpha. We also look into which industry is showing better alpha and better market and alpha relation. Since greater the alpha greater the chance of stock performing better than the market."
   ]
  },
  {
   "cell_type": "markdown",
   "metadata": {
    "application/vnd.databricks.v1+cell": {
     "cellMetadata": {
      "byteLimit": 2048000,
      "rowLimit": 10000
     },
     "inputWidgets": {},
     "nuid": "166ddfa0-6425-4ad7-b3b1-2c552554a4a9",
     "showTitle": false,
     "title": ""
    }
   },
   "source": [
    "## Data\n",
    "\n",
    "Data is coming from two sources. \n",
    "FED's open source is used to get risk free rates and Stooq.com is used to get stock prices.\n",
    "\n",
    "But before, all required packages should be installed."
   ]
  },
  {
   "cell_type": "code",
   "execution_count": 0,
   "metadata": {
    "application/vnd.databricks.v1+cell": {
     "cellMetadata": {
      "byteLimit": 2048000,
      "rowLimit": 10000
     },
     "inputWidgets": {},
     "nuid": "7be4126b-de90-446a-a455-43b7ea4b4a17",
     "showTitle": false,
     "title": ""
    }
   },
   "outputs": [
    {
     "output_type": "stream",
     "name": "stdout",
     "output_type": "stream",
     "text": [
      "\u001B[33mWARNING: You are using pip version 21.2.4; however, version 23.2.1 is available.\r\nYou should consider upgrading via the '/local_disk0/.ephemeral_nfs/envs/pythonEnv-35d262a9-03e5-4030-b713-95177aeffc02/bin/python -m pip install --upgrade pip' command.\u001B[0m\r\n"
     ]
    }
   ],
   "source": [
    "!pip install datapackage --quiet "
   ]
  },
  {
   "cell_type": "code",
   "execution_count": 0,
   "metadata": {
    "application/vnd.databricks.v1+cell": {
     "cellMetadata": {
      "byteLimit": 2048000,
      "rowLimit": 10000
     },
     "inputWidgets": {},
     "nuid": "a0579fb2-67f0-41d0-8782-0e4327f31df2",
     "showTitle": false,
     "title": ""
    }
   },
   "outputs": [
    {
     "output_type": "stream",
     "name": "stdout",
     "output_type": "stream",
     "text": [
      "\u001B[33mWARNING: You are using pip version 21.2.4; however, version 23.2.1 is available.\r\nYou should consider upgrading via the '/local_disk0/.ephemeral_nfs/envs/pythonEnv-35d262a9-03e5-4030-b713-95177aeffc02/bin/python -m pip install --upgrade pip' command.\u001B[0m\r\n"
     ]
    }
   ],
   "source": [
    "!pip install pandas_datareader --quiet "
   ]
  },
  {
   "cell_type": "code",
   "execution_count": 0,
   "metadata": {
    "application/vnd.databricks.v1+cell": {
     "cellMetadata": {
      "byteLimit": 2048000,
      "rowLimit": 10000
     },
     "inputWidgets": {},
     "nuid": "f3992d09-51b4-478e-8dcb-a0b34765438b",
     "showTitle": false,
     "title": ""
    }
   },
   "outputs": [
    {
     "output_type": "display_data",
     "data": {
      "application/vnd.databricks.v1+bamboolib_hint": "{\"pd.DataFrames\": [], \"version\": \"0.0.1\"}",
      "text/plain": []
     },
     "metadata": {},
     "output_type": "display_data"
    }
   ],
   "source": [
    "### import packages \n",
    "\n",
    "import datapackage\n",
    "import pandas as pd\n",
    "import pandas_datareader as pdr\n",
    "import statsmodels.api as sm\n",
    "import numpy as np\n",
    "np.random.seed(9876789)\n",
    "\n",
    "### here S&P500 stock names are imported\n",
    "\n",
    "data_url = \"https://datahub.io/core/s-and-p-500-companies/datapackage.json\"\n",
    "\n",
    "package = datapackage.Package(data_url)\n",
    "\n",
    "resources = package.resources\n",
    "for resource in resources:\n",
    "    if resource.tabular:\n",
    "        data = pd.read_csv(resource.descriptor['path'])\n"
   ]
  },
  {
   "cell_type": "code",
   "execution_count": 0,
   "metadata": {
    "application/vnd.databricks.v1+cell": {
     "cellMetadata": {
      "byteLimit": 2048000,
      "rowLimit": 10000
     },
     "inputWidgets": {},
     "nuid": "ba571241-7b38-4243-9fa4-03c92a99bfd7",
     "showTitle": false,
     "title": ""
    }
   },
   "outputs": [
    {
     "output_type": "display_data",
     "data": {
      "text/html": [
       "<div>\n",
       "<style scoped>\n",
       "    .dataframe tbody tr th:only-of-type {\n",
       "        vertical-align: middle;\n",
       "    }\n",
       "\n",
       "    .dataframe tbody tr th {\n",
       "        vertical-align: top;\n",
       "    }\n",
       "\n",
       "    .dataframe thead th {\n",
       "        text-align: right;\n",
       "    }\n",
       "</style>\n",
       "<table border=\"1\" class=\"dataframe\">\n",
       "  <thead>\n",
       "    <tr style=\"text-align: right;\">\n",
       "      <th></th>\n",
       "      <th>DGS1MO</th>\n",
       "      <th>rf</th>\n",
       "    </tr>\n",
       "  </thead>\n",
       "  <tbody>\n",
       "    <tr>\n",
       "      <th>count</th>\n",
       "      <td>3405.000000</td>\n",
       "      <td>3405.000000</td>\n",
       "    </tr>\n",
       "    <tr>\n",
       "      <th>mean</th>\n",
       "      <td>0.766790</td>\n",
       "      <td>0.007668</td>\n",
       "    </tr>\n",
       "    <tr>\n",
       "      <th>std</th>\n",
       "      <td>1.241183</td>\n",
       "      <td>0.012412</td>\n",
       "    </tr>\n",
       "    <tr>\n",
       "      <th>min</th>\n",
       "      <td>0.000000</td>\n",
       "      <td>0.000000</td>\n",
       "    </tr>\n",
       "    <tr>\n",
       "      <th>25%</th>\n",
       "      <td>0.040000</td>\n",
       "      <td>0.000400</td>\n",
       "    </tr>\n",
       "    <tr>\n",
       "      <th>50%</th>\n",
       "      <td>0.110000</td>\n",
       "      <td>0.001100</td>\n",
       "    </tr>\n",
       "    <tr>\n",
       "      <th>75%</th>\n",
       "      <td>1.140000</td>\n",
       "      <td>0.011400</td>\n",
       "    </tr>\n",
       "    <tr>\n",
       "      <th>max</th>\n",
       "      <td>6.020000</td>\n",
       "      <td>0.060200</td>\n",
       "    </tr>\n",
       "  </tbody>\n",
       "</table>\n",
       "</div>"
      ]
     },
     "metadata": {
      "application/vnd.databricks.v1+output": {
       "addedWidgets": {},
       "arguments": {},
       "data": "<div>\n<style scoped>\n    .dataframe tbody tr th:only-of-type {\n        vertical-align: middle;\n    }\n\n    .dataframe tbody tr th {\n        vertical-align: top;\n    }\n\n    .dataframe thead th {\n        text-align: right;\n    }\n</style>\n<table border=\"1\" class=\"dataframe\">\n  <thead>\n    <tr style=\"text-align: right;\">\n      <th></th>\n      <th>DGS1MO</th>\n      <th>rf</th>\n    </tr>\n  </thead>\n  <tbody>\n    <tr>\n      <th>count</th>\n      <td>3405.000000</td>\n      <td>3405.000000</td>\n    </tr>\n    <tr>\n      <th>mean</th>\n      <td>0.766790</td>\n      <td>0.007668</td>\n    </tr>\n    <tr>\n      <th>std</th>\n      <td>1.241183</td>\n      <td>0.012412</td>\n    </tr>\n    <tr>\n      <th>min</th>\n      <td>0.000000</td>\n      <td>0.000000</td>\n    </tr>\n    <tr>\n      <th>25%</th>\n      <td>0.040000</td>\n      <td>0.000400</td>\n    </tr>\n    <tr>\n      <th>50%</th>\n      <td>0.110000</td>\n      <td>0.001100</td>\n    </tr>\n    <tr>\n      <th>75%</th>\n      <td>1.140000</td>\n      <td>0.011400</td>\n    </tr>\n    <tr>\n      <th>max</th>\n      <td>6.020000</td>\n      <td>0.060200</td>\n    </tr>\n  </tbody>\n</table>\n</div>",
       "datasetInfos": [],
       "metadata": {},
       "removedWidgets": [],
       "textData": null,
       "type": "htmlSandbox"
      }
     },
     "output_type": "display_data"
    }
   ],
   "source": [
    "### prepare risk free rate data\n",
    "\n",
    "rf_data = pdr.get_data_fred('DGS1MO', start = \"2010-01-01\",end = \"2024-01-01\")\n",
    "rf_data[\"rf\"] = rf_data[\"DGS1MO\"] / 100\n",
    "\n",
    "### lets take a look at the description of the data\n",
    "### it looks ok since it is already processed and offered through fed source\n",
    "### min is 0% as expected and max is 6%\n",
    "### seems like rf data has std of 1.2%\n",
    "\n",
    "rf_data.describe()"
   ]
  },
  {
   "cell_type": "code",
   "execution_count": 0,
   "metadata": {
    "application/vnd.databricks.v1+cell": {
     "cellMetadata": {
      "byteLimit": 2048000,
      "rowLimit": 10000
     },
     "inputWidgets": {},
     "nuid": "595364f0-e369-45cf-94e1-b28257e76fac",
     "showTitle": false,
     "title": ""
    }
   },
   "outputs": [
    {
     "output_type": "display_data",
     "data": {
      "text/html": [
       "<div>\n",
       "<style scoped>\n",
       "    .dataframe tbody tr th:only-of-type {\n",
       "        vertical-align: middle;\n",
       "    }\n",
       "\n",
       "    .dataframe tbody tr th {\n",
       "        vertical-align: top;\n",
       "    }\n",
       "\n",
       "    .dataframe thead th {\n",
       "        text-align: right;\n",
       "    }\n",
       "</style>\n",
       "<table border=\"1\" class=\"dataframe\">\n",
       "  <thead>\n",
       "    <tr style=\"text-align: right;\">\n",
       "      <th></th>\n",
       "      <th>DGS1MO</th>\n",
       "      <th>rf</th>\n",
       "    </tr>\n",
       "    <tr>\n",
       "      <th>DATE</th>\n",
       "      <th></th>\n",
       "      <th></th>\n",
       "    </tr>\n",
       "  </thead>\n",
       "  <tbody>\n",
       "    <tr>\n",
       "      <th>2010-01-01</th>\n",
       "      <td>NaN</td>\n",
       "      <td>NaN</td>\n",
       "    </tr>\n",
       "    <tr>\n",
       "      <th>2010-01-04</th>\n",
       "      <td>0.05</td>\n",
       "      <td>0.0005</td>\n",
       "    </tr>\n",
       "    <tr>\n",
       "      <th>2010-01-05</th>\n",
       "      <td>0.03</td>\n",
       "      <td>0.0003</td>\n",
       "    </tr>\n",
       "    <tr>\n",
       "      <th>2010-01-06</th>\n",
       "      <td>0.03</td>\n",
       "      <td>0.0003</td>\n",
       "    </tr>\n",
       "    <tr>\n",
       "      <th>2010-01-07</th>\n",
       "      <td>0.02</td>\n",
       "      <td>0.0002</td>\n",
       "    </tr>\n",
       "    <tr>\n",
       "      <th>...</th>\n",
       "      <td>...</td>\n",
       "      <td>...</td>\n",
       "    </tr>\n",
       "    <tr>\n",
       "      <th>2023-08-04</th>\n",
       "      <td>5.54</td>\n",
       "      <td>0.0554</td>\n",
       "    </tr>\n",
       "    <tr>\n",
       "      <th>2023-08-07</th>\n",
       "      <td>5.54</td>\n",
       "      <td>0.0554</td>\n",
       "    </tr>\n",
       "    <tr>\n",
       "      <th>2023-08-08</th>\n",
       "      <td>5.54</td>\n",
       "      <td>0.0554</td>\n",
       "    </tr>\n",
       "    <tr>\n",
       "      <th>2023-08-09</th>\n",
       "      <td>5.51</td>\n",
       "      <td>0.0551</td>\n",
       "    </tr>\n",
       "    <tr>\n",
       "      <th>2023-08-10</th>\n",
       "      <td>5.55</td>\n",
       "      <td>0.0555</td>\n",
       "    </tr>\n",
       "  </tbody>\n",
       "</table>\n",
       "<p>3550 rows × 2 columns</p>\n",
       "</div>"
      ]
     },
     "metadata": {
      "application/vnd.databricks.v1+output": {
       "addedWidgets": {},
       "arguments": {},
       "data": "<div>\n<style scoped>\n    .dataframe tbody tr th:only-of-type {\n        vertical-align: middle;\n    }\n\n    .dataframe tbody tr th {\n        vertical-align: top;\n    }\n\n    .dataframe thead th {\n        text-align: right;\n    }\n</style>\n<table border=\"1\" class=\"dataframe\">\n  <thead>\n    <tr style=\"text-align: right;\">\n      <th></th>\n      <th>DGS1MO</th>\n      <th>rf</th>\n    </tr>\n    <tr>\n      <th>DATE</th>\n      <th></th>\n      <th></th>\n    </tr>\n  </thead>\n  <tbody>\n    <tr>\n      <th>2010-01-01</th>\n      <td>NaN</td>\n      <td>NaN</td>\n    </tr>\n    <tr>\n      <th>2010-01-04</th>\n      <td>0.05</td>\n      <td>0.0005</td>\n    </tr>\n    <tr>\n      <th>2010-01-05</th>\n      <td>0.03</td>\n      <td>0.0003</td>\n    </tr>\n    <tr>\n      <th>2010-01-06</th>\n      <td>0.03</td>\n      <td>0.0003</td>\n    </tr>\n    <tr>\n      <th>2010-01-07</th>\n      <td>0.02</td>\n      <td>0.0002</td>\n    </tr>\n    <tr>\n      <th>...</th>\n      <td>...</td>\n      <td>...</td>\n    </tr>\n    <tr>\n      <th>2023-08-04</th>\n      <td>5.54</td>\n      <td>0.0554</td>\n    </tr>\n    <tr>\n      <th>2023-08-07</th>\n      <td>5.54</td>\n      <td>0.0554</td>\n    </tr>\n    <tr>\n      <th>2023-08-08</th>\n      <td>5.54</td>\n      <td>0.0554</td>\n    </tr>\n    <tr>\n      <th>2023-08-09</th>\n      <td>5.51</td>\n      <td>0.0551</td>\n    </tr>\n    <tr>\n      <th>2023-08-10</th>\n      <td>5.55</td>\n      <td>0.0555</td>\n    </tr>\n  </tbody>\n</table>\n<p>3550 rows × 2 columns</p>\n</div>",
       "datasetInfos": [],
       "metadata": {},
       "removedWidgets": [],
       "textData": null,
       "type": "htmlSandbox"
      }
     },
     "output_type": "display_data"
    }
   ],
   "source": [
    "### so rf data is from 2010 until 2023\n",
    "rf_data"
   ]
  },
  {
   "cell_type": "code",
   "execution_count": 0,
   "metadata": {
    "application/vnd.databricks.v1+cell": {
     "cellMetadata": {
      "byteLimit": 2048000,
      "rowLimit": 10000
     },
     "inputWidgets": {},
     "nuid": "52d452fa-029a-4a21-bb7a-8ecf855464a9",
     "showTitle": false,
     "title": ""
    }
   },
   "outputs": [],
   "source": [
    "#### uncomment this section if it is the first time running the notebook\n",
    "#### here all stock data is downloaded from stooq\n",
    "\n",
    "# stock_data_all = pd.DataFrame(index = pd.date_range(\"2010-01-01\",\"2024-01-01\"))\n",
    "\n",
    "# for ticker in ticker_list[:]:\n",
    "    \n",
    "#     stock_data = pdr.get_data_stooq(ticker)\n",
    "    \n",
    "#     if stock_data.shape[0] == 0:\n",
    "#         continue\n",
    "\n",
    "#     stock_data[ticker + \"_close\"] = stock_data[\"Close\"].copy()\n",
    "    \n",
    "#     stock_data_all = pd.merge(stock_data_all, stock_data[ticker + \"_close\"], left_index=True, right_index=True, how = \"left\")"
   ]
  },
  {
   "cell_type": "code",
   "execution_count": 0,
   "metadata": {
    "application/vnd.databricks.v1+cell": {
     "cellMetadata": {
      "byteLimit": 2048000,
      "rowLimit": 10000
     },
     "inputWidgets": {},
     "nuid": "3ed1b203-a5bc-4a1c-b209-1c5e270ff217",
     "showTitle": false,
     "title": ""
    }
   },
   "outputs": [
    {
     "output_type": "stream",
     "name": "stderr",
     "output_type": "stream",
     "text": [
      "/databricks/spark/python/pyspark/sql/dataframe.py:5172: FutureWarning: DataFrame.to_pandas_on_spark is deprecated. Use DataFrame.pandas_api instead.\n  warnings.warn(\n"
     ]
    }
   ],
   "source": [
    "#### if it is the second time running the notebook simply use already downloaded data\n",
    "\n",
    "# file location and type\n",
    "file_location = \"/FileStore/tables/stck_data-2.csv\"\n",
    "file_type = \"csv\"\n",
    "\n",
    "# schema info\n",
    "infer_schema = \"true\"\n",
    "first_row_is_header = \"true\"\n",
    "delimiter = \",\"\n",
    "\n",
    "# read data\n",
    "df = spark.read.format(file_type) \\\n",
    "  .option(\"inferSchema\", infer_schema) \\\n",
    "  .option(\"header\", first_row_is_header) \\\n",
    "  .option(\"sep\", delimiter) \\\n",
    "  .load(file_location)\n",
    "\n",
    "# some cleaning and make it pandas df\n",
    "stock_data_all = df.to_pandas_on_spark()\n",
    "stock_data_all.set_index(\"_c0\", inplace = True)\n",
    "stock_data_all.dropna(inplace = True)\n",
    "\n",
    "stock_data_all = stock_data_all.to_pandas()"
   ]
  },
  {
   "cell_type": "code",
   "execution_count": 0,
   "metadata": {
    "application/vnd.databricks.v1+cell": {
     "cellMetadata": {
      "byteLimit": 2048000,
      "rowLimit": 10000
     },
     "inputWidgets": {},
     "nuid": "5cbd2863-981c-4fe1-b0de-aa1075e7444e",
     "showTitle": false,
     "title": ""
    }
   },
   "outputs": [
    {
     "output_type": "display_data",
     "data": {
      "text/html": [
       "<div>\n",
       "<style scoped>\n",
       "    .dataframe tbody tr th:only-of-type {\n",
       "        vertical-align: middle;\n",
       "    }\n",
       "\n",
       "    .dataframe tbody tr th {\n",
       "        vertical-align: top;\n",
       "    }\n",
       "\n",
       "    .dataframe thead th {\n",
       "        text-align: right;\n",
       "    }\n",
       "</style>\n",
       "<table border=\"1\" class=\"dataframe\">\n",
       "  <thead>\n",
       "    <tr style=\"text-align: right;\">\n",
       "      <th></th>\n",
       "      <th>MMM_close</th>\n",
       "      <th>AOS_close</th>\n",
       "      <th>ABT_close</th>\n",
       "      <th>ABBV_close</th>\n",
       "      <th>ACN_close</th>\n",
       "      <th>ATVI_close</th>\n",
       "      <th>ADM_close</th>\n",
       "      <th>ADBE_close</th>\n",
       "      <th>AAP_close</th>\n",
       "      <th>AMD_close</th>\n",
       "      <th>...</th>\n",
       "      <th>LRCX_close</th>\n",
       "      <th>LW_close</th>\n",
       "      <th>LVS_close</th>\n",
       "      <th>LEG_close</th>\n",
       "      <th>LDOS_close</th>\n",
       "      <th>LEN_close</th>\n",
       "      <th>LNC_close</th>\n",
       "      <th>LIN_close</th>\n",
       "      <th>LYV_close</th>\n",
       "      <th>LKQ_close</th>\n",
       "    </tr>\n",
       "  </thead>\n",
       "  <tbody>\n",
       "    <tr>\n",
       "      <th>count</th>\n",
       "      <td>842.000000</td>\n",
       "      <td>842.000000</td>\n",
       "      <td>842.000000</td>\n",
       "      <td>842.000000</td>\n",
       "      <td>842.000000</td>\n",
       "      <td>842.000000</td>\n",
       "      <td>842.000000</td>\n",
       "      <td>842.000000</td>\n",
       "      <td>842.000000</td>\n",
       "      <td>842.000000</td>\n",
       "      <td>...</td>\n",
       "      <td>842.000000</td>\n",
       "      <td>842.000000</td>\n",
       "      <td>842.000000</td>\n",
       "      <td>842.000000</td>\n",
       "      <td>842.000000</td>\n",
       "      <td>842.000000</td>\n",
       "      <td>842.000000</td>\n",
       "      <td>842.000000</td>\n",
       "      <td>842.000000</td>\n",
       "      <td>842.000000</td>\n",
       "    </tr>\n",
       "    <tr>\n",
       "      <th>mean</th>\n",
       "      <td>145.627096</td>\n",
       "      <td>61.186117</td>\n",
       "      <td>109.435773</td>\n",
       "      <td>121.166836</td>\n",
       "      <td>279.430990</td>\n",
       "      <td>79.948988</td>\n",
       "      <td>66.324533</td>\n",
       "      <td>457.088563</td>\n",
       "      <td>161.186961</td>\n",
       "      <td>90.684804</td>\n",
       "      <td>...</td>\n",
       "      <td>493.721727</td>\n",
       "      <td>75.679435</td>\n",
       "      <td>47.754466</td>\n",
       "      <td>37.181471</td>\n",
       "      <td>95.424131</td>\n",
       "      <td>88.063281</td>\n",
       "      <td>46.685898</td>\n",
       "      <td>289.769903</td>\n",
       "      <td>80.696900</td>\n",
       "      <td>45.959838</td>\n",
       "    </tr>\n",
       "    <tr>\n",
       "      <th>std</th>\n",
       "      <td>27.171471</td>\n",
       "      <td>10.120109</td>\n",
       "      <td>10.909956</td>\n",
       "      <td>27.511840</td>\n",
       "      <td>47.378502</td>\n",
       "      <td>8.467008</td>\n",
       "      <td>17.816031</td>\n",
       "      <td>97.277947</td>\n",
       "      <td>38.906535</td>\n",
       "      <td>22.851178</td>\n",
       "      <td>...</td>\n",
       "      <td>116.234307</td>\n",
       "      <td>16.797236</td>\n",
       "      <td>9.087701</td>\n",
       "      <td>5.772118</td>\n",
       "      <td>7.143269</td>\n",
       "      <td>17.942782</td>\n",
       "      <td>15.736039</td>\n",
       "      <td>49.610363</td>\n",
       "      <td>20.022655</td>\n",
       "      <td>10.596039</td>\n",
       "    </tr>\n",
       "    <tr>\n",
       "      <th>min</th>\n",
       "      <td>93.310000</td>\n",
       "      <td>36.332000</td>\n",
       "      <td>78.450500</td>\n",
       "      <td>66.494100</td>\n",
       "      <td>158.022000</td>\n",
       "      <td>56.942000</td>\n",
       "      <td>31.611200</td>\n",
       "      <td>275.200000</td>\n",
       "      <td>64.511200</td>\n",
       "      <td>47.520000</td>\n",
       "      <td>...</td>\n",
       "      <td>226.774000</td>\n",
       "      <td>49.483700</td>\n",
       "      <td>30.140000</td>\n",
       "      <td>21.949800</td>\n",
       "      <td>76.829800</td>\n",
       "      <td>37.733500</td>\n",
       "      <td>19.110000</td>\n",
       "      <td>168.683000</td>\n",
       "      <td>34.510000</td>\n",
       "      <td>19.364800</td>\n",
       "    </tr>\n",
       "    <tr>\n",
       "      <th>25%</th>\n",
       "      <td>125.016500</td>\n",
       "      <td>53.698350</td>\n",
       "      <td>103.066500</td>\n",
       "      <td>98.541200</td>\n",
       "      <td>251.318500</td>\n",
       "      <td>75.768250</td>\n",
       "      <td>51.388775</td>\n",
       "      <td>377.025000</td>\n",
       "      <td>139.498250</td>\n",
       "      <td>77.457500</td>\n",
       "      <td>...</td>\n",
       "      <td>419.520250</td>\n",
       "      <td>62.650500</td>\n",
       "      <td>38.975000</td>\n",
       "      <td>32.974975</td>\n",
       "      <td>90.289500</td>\n",
       "      <td>75.878150</td>\n",
       "      <td>32.504625</td>\n",
       "      <td>250.173000</td>\n",
       "      <td>69.142500</td>\n",
       "      <td>37.014025</td>\n",
       "    </tr>\n",
       "    <tr>\n",
       "      <th>50%</th>\n",
       "      <td>145.236000</td>\n",
       "      <td>62.082900</td>\n",
       "      <td>108.626000</td>\n",
       "      <td>116.876500</td>\n",
       "      <td>280.282000</td>\n",
       "      <td>78.875500</td>\n",
       "      <td>65.204500</td>\n",
       "      <td>453.805000</td>\n",
       "      <td>160.527500</td>\n",
       "      <td>87.150000</td>\n",
       "      <td>...</td>\n",
       "      <td>500.191500</td>\n",
       "      <td>74.019800</td>\n",
       "      <td>47.090000</td>\n",
       "      <td>36.644350</td>\n",
       "      <td>96.052100</td>\n",
       "      <td>88.088900</td>\n",
       "      <td>47.408950</td>\n",
       "      <td>293.360000</td>\n",
       "      <td>81.780000</td>\n",
       "      <td>49.470300</td>\n",
       "    </tr>\n",
       "    <tr>\n",
       "      <th>75%</th>\n",
       "      <td>168.140500</td>\n",
       "      <td>68.360300</td>\n",
       "      <td>116.659000</td>\n",
       "      <td>146.597500</td>\n",
       "      <td>312.266250</td>\n",
       "      <td>83.519250</td>\n",
       "      <td>81.946750</td>\n",
       "      <td>508.205000</td>\n",
       "      <td>192.440250</td>\n",
       "      <td>105.270000</td>\n",
       "      <td>...</td>\n",
       "      <td>588.529500</td>\n",
       "      <td>82.376325</td>\n",
       "      <td>56.527500</td>\n",
       "      <td>40.467650</td>\n",
       "      <td>100.865000</td>\n",
       "      <td>100.811000</td>\n",
       "      <td>61.588725</td>\n",
       "      <td>325.897250</td>\n",
       "      <td>91.932500</td>\n",
       "      <td>54.330000</td>\n",
       "    </tr>\n",
       "    <tr>\n",
       "      <th>max</th>\n",
       "      <td>194.591000</td>\n",
       "      <td>84.268300</td>\n",
       "      <td>139.123000</td>\n",
       "      <td>170.151000</td>\n",
       "      <td>409.834000</td>\n",
       "      <td>102.700000</td>\n",
       "      <td>97.670000</td>\n",
       "      <td>688.370000</td>\n",
       "      <td>229.551000</td>\n",
       "      <td>161.910000</td>\n",
       "      <td>...</td>\n",
       "      <td>721.260000</td>\n",
       "      <td>115.120000</td>\n",
       "      <td>66.200000</td>\n",
       "      <td>53.726800</td>\n",
       "      <td>110.117000</td>\n",
       "      <td>133.240000</td>\n",
       "      <td>73.727600</td>\n",
       "      <td>391.040000</td>\n",
       "      <td>126.040000</td>\n",
       "      <td>59.010000</td>\n",
       "    </tr>\n",
       "  </tbody>\n",
       "</table>\n",
       "<p>8 rows × 272 columns</p>\n",
       "</div>"
      ]
     },
     "metadata": {
      "application/vnd.databricks.v1+output": {
       "addedWidgets": {},
       "arguments": {},
       "data": "<div>\n<style scoped>\n    .dataframe tbody tr th:only-of-type {\n        vertical-align: middle;\n    }\n\n    .dataframe tbody tr th {\n        vertical-align: top;\n    }\n\n    .dataframe thead th {\n        text-align: right;\n    }\n</style>\n<table border=\"1\" class=\"dataframe\">\n  <thead>\n    <tr style=\"text-align: right;\">\n      <th></th>\n      <th>MMM_close</th>\n      <th>AOS_close</th>\n      <th>ABT_close</th>\n      <th>ABBV_close</th>\n      <th>ACN_close</th>\n      <th>ATVI_close</th>\n      <th>ADM_close</th>\n      <th>ADBE_close</th>\n      <th>AAP_close</th>\n      <th>AMD_close</th>\n      <th>...</th>\n      <th>LRCX_close</th>\n      <th>LW_close</th>\n      <th>LVS_close</th>\n      <th>LEG_close</th>\n      <th>LDOS_close</th>\n      <th>LEN_close</th>\n      <th>LNC_close</th>\n      <th>LIN_close</th>\n      <th>LYV_close</th>\n      <th>LKQ_close</th>\n    </tr>\n  </thead>\n  <tbody>\n    <tr>\n      <th>count</th>\n      <td>842.000000</td>\n      <td>842.000000</td>\n      <td>842.000000</td>\n      <td>842.000000</td>\n      <td>842.000000</td>\n      <td>842.000000</td>\n      <td>842.000000</td>\n      <td>842.000000</td>\n      <td>842.000000</td>\n      <td>842.000000</td>\n      <td>...</td>\n      <td>842.000000</td>\n      <td>842.000000</td>\n      <td>842.000000</td>\n      <td>842.000000</td>\n      <td>842.000000</td>\n      <td>842.000000</td>\n      <td>842.000000</td>\n      <td>842.000000</td>\n      <td>842.000000</td>\n      <td>842.000000</td>\n    </tr>\n    <tr>\n      <th>mean</th>\n      <td>145.627096</td>\n      <td>61.186117</td>\n      <td>109.435773</td>\n      <td>121.166836</td>\n      <td>279.430990</td>\n      <td>79.948988</td>\n      <td>66.324533</td>\n      <td>457.088563</td>\n      <td>161.186961</td>\n      <td>90.684804</td>\n      <td>...</td>\n      <td>493.721727</td>\n      <td>75.679435</td>\n      <td>47.754466</td>\n      <td>37.181471</td>\n      <td>95.424131</td>\n      <td>88.063281</td>\n      <td>46.685898</td>\n      <td>289.769903</td>\n      <td>80.696900</td>\n      <td>45.959838</td>\n    </tr>\n    <tr>\n      <th>std</th>\n      <td>27.171471</td>\n      <td>10.120109</td>\n      <td>10.909956</td>\n      <td>27.511840</td>\n      <td>47.378502</td>\n      <td>8.467008</td>\n      <td>17.816031</td>\n      <td>97.277947</td>\n      <td>38.906535</td>\n      <td>22.851178</td>\n      <td>...</td>\n      <td>116.234307</td>\n      <td>16.797236</td>\n      <td>9.087701</td>\n      <td>5.772118</td>\n      <td>7.143269</td>\n      <td>17.942782</td>\n      <td>15.736039</td>\n      <td>49.610363</td>\n      <td>20.022655</td>\n      <td>10.596039</td>\n    </tr>\n    <tr>\n      <th>min</th>\n      <td>93.310000</td>\n      <td>36.332000</td>\n      <td>78.450500</td>\n      <td>66.494100</td>\n      <td>158.022000</td>\n      <td>56.942000</td>\n      <td>31.611200</td>\n      <td>275.200000</td>\n      <td>64.511200</td>\n      <td>47.520000</td>\n      <td>...</td>\n      <td>226.774000</td>\n      <td>49.483700</td>\n      <td>30.140000</td>\n      <td>21.949800</td>\n      <td>76.829800</td>\n      <td>37.733500</td>\n      <td>19.110000</td>\n      <td>168.683000</td>\n      <td>34.510000</td>\n      <td>19.364800</td>\n    </tr>\n    <tr>\n      <th>25%</th>\n      <td>125.016500</td>\n      <td>53.698350</td>\n      <td>103.066500</td>\n      <td>98.541200</td>\n      <td>251.318500</td>\n      <td>75.768250</td>\n      <td>51.388775</td>\n      <td>377.025000</td>\n      <td>139.498250</td>\n      <td>77.457500</td>\n      <td>...</td>\n      <td>419.520250</td>\n      <td>62.650500</td>\n      <td>38.975000</td>\n      <td>32.974975</td>\n      <td>90.289500</td>\n      <td>75.878150</td>\n      <td>32.504625</td>\n      <td>250.173000</td>\n      <td>69.142500</td>\n      <td>37.014025</td>\n    </tr>\n    <tr>\n      <th>50%</th>\n      <td>145.236000</td>\n      <td>62.082900</td>\n      <td>108.626000</td>\n      <td>116.876500</td>\n      <td>280.282000</td>\n      <td>78.875500</td>\n      <td>65.204500</td>\n      <td>453.805000</td>\n      <td>160.527500</td>\n      <td>87.150000</td>\n      <td>...</td>\n      <td>500.191500</td>\n      <td>74.019800</td>\n      <td>47.090000</td>\n      <td>36.644350</td>\n      <td>96.052100</td>\n      <td>88.088900</td>\n      <td>47.408950</td>\n      <td>293.360000</td>\n      <td>81.780000</td>\n      <td>49.470300</td>\n    </tr>\n    <tr>\n      <th>75%</th>\n      <td>168.140500</td>\n      <td>68.360300</td>\n      <td>116.659000</td>\n      <td>146.597500</td>\n      <td>312.266250</td>\n      <td>83.519250</td>\n      <td>81.946750</td>\n      <td>508.205000</td>\n      <td>192.440250</td>\n      <td>105.270000</td>\n      <td>...</td>\n      <td>588.529500</td>\n      <td>82.376325</td>\n      <td>56.527500</td>\n      <td>40.467650</td>\n      <td>100.865000</td>\n      <td>100.811000</td>\n      <td>61.588725</td>\n      <td>325.897250</td>\n      <td>91.932500</td>\n      <td>54.330000</td>\n    </tr>\n    <tr>\n      <th>max</th>\n      <td>194.591000</td>\n      <td>84.268300</td>\n      <td>139.123000</td>\n      <td>170.151000</td>\n      <td>409.834000</td>\n      <td>102.700000</td>\n      <td>97.670000</td>\n      <td>688.370000</td>\n      <td>229.551000</td>\n      <td>161.910000</td>\n      <td>...</td>\n      <td>721.260000</td>\n      <td>115.120000</td>\n      <td>66.200000</td>\n      <td>53.726800</td>\n      <td>110.117000</td>\n      <td>133.240000</td>\n      <td>73.727600</td>\n      <td>391.040000</td>\n      <td>126.040000</td>\n      <td>59.010000</td>\n    </tr>\n  </tbody>\n</table>\n<p>8 rows × 272 columns</p>\n</div>",
       "datasetInfos": [],
       "metadata": {},
       "removedWidgets": [],
       "textData": null,
       "type": "htmlSandbox"
      }
     },
     "output_type": "display_data"
    }
   ],
   "source": [
    "### lets take a look at the description of the data\n",
    "### we have all the stock prices for most of stocks in S&P500\n",
    "\n",
    "stock_data_all.describe()"
   ]
  },
  {
   "cell_type": "code",
   "execution_count": 0,
   "metadata": {
    "application/vnd.databricks.v1+cell": {
     "cellMetadata": {
      "byteLimit": 2048000,
      "rowLimit": 10000
     },
     "inputWidgets": {},
     "nuid": "f2bfc5fb-2133-40d5-998f-dc4351be6f81",
     "showTitle": false,
     "title": ""
    }
   },
   "outputs": [
    {
     "output_type": "display_data",
     "data": {
      "text/html": [
       "<div>\n",
       "<style scoped>\n",
       "    .dataframe tbody tr th:only-of-type {\n",
       "        vertical-align: middle;\n",
       "    }\n",
       "\n",
       "    .dataframe tbody tr th {\n",
       "        vertical-align: top;\n",
       "    }\n",
       "\n",
       "    .dataframe thead th {\n",
       "        text-align: right;\n",
       "    }\n",
       "</style>\n",
       "<table border=\"1\" class=\"dataframe\">\n",
       "  <thead>\n",
       "    <tr style=\"text-align: right;\">\n",
       "      <th></th>\n",
       "      <th>MMM_close</th>\n",
       "      <th>AOS_close</th>\n",
       "      <th>ABT_close</th>\n",
       "      <th>ABBV_close</th>\n",
       "      <th>ACN_close</th>\n",
       "      <th>ATVI_close</th>\n",
       "      <th>ADM_close</th>\n",
       "      <th>ADBE_close</th>\n",
       "      <th>AAP_close</th>\n",
       "      <th>AMD_close</th>\n",
       "      <th>...</th>\n",
       "      <th>LRCX_close</th>\n",
       "      <th>LW_close</th>\n",
       "      <th>LVS_close</th>\n",
       "      <th>LEG_close</th>\n",
       "      <th>LDOS_close</th>\n",
       "      <th>LEN_close</th>\n",
       "      <th>LNC_close</th>\n",
       "      <th>LIN_close</th>\n",
       "      <th>LYV_close</th>\n",
       "      <th>LKQ_close</th>\n",
       "    </tr>\n",
       "    <tr>\n",
       "      <th>_c0</th>\n",
       "      <th></th>\n",
       "      <th></th>\n",
       "      <th></th>\n",
       "      <th></th>\n",
       "      <th></th>\n",
       "      <th></th>\n",
       "      <th></th>\n",
       "      <th></th>\n",
       "      <th></th>\n",
       "      <th></th>\n",
       "      <th></th>\n",
       "      <th></th>\n",
       "      <th></th>\n",
       "      <th></th>\n",
       "      <th></th>\n",
       "      <th></th>\n",
       "      <th></th>\n",
       "      <th></th>\n",
       "      <th></th>\n",
       "      <th></th>\n",
       "      <th></th>\n",
       "    </tr>\n",
       "  </thead>\n",
       "  <tbody>\n",
       "    <tr>\n",
       "      <th>2020-04-06</th>\n",
       "      <td>127.274</td>\n",
       "      <td>36.3320</td>\n",
       "      <td>79.2164</td>\n",
       "      <td>66.7952</td>\n",
       "      <td>159.878</td>\n",
       "      <td>60.543</td>\n",
       "      <td>33.4236</td>\n",
       "      <td>319.13</td>\n",
       "      <td>89.1787</td>\n",
       "      <td>47.52</td>\n",
       "      <td>...</td>\n",
       "      <td>242.462</td>\n",
       "      <td>49.7015</td>\n",
       "      <td>40.70</td>\n",
       "      <td>22.5810</td>\n",
       "      <td>91.2191</td>\n",
       "      <td>37.7335</td>\n",
       "      <td>24.5451</td>\n",
       "      <td>168.683</td>\n",
       "      <td>34.51</td>\n",
       "      <td>19.5797</td>\n",
       "    </tr>\n",
       "    <tr>\n",
       "      <th>2020-04-07</th>\n",
       "      <td>130.790</td>\n",
       "      <td>37.7006</td>\n",
       "      <td>78.4505</td>\n",
       "      <td>66.4941</td>\n",
       "      <td>158.022</td>\n",
       "      <td>58.842</td>\n",
       "      <td>33.6090</td>\n",
       "      <td>308.93</td>\n",
       "      <td>92.5583</td>\n",
       "      <td>47.56</td>\n",
       "      <td>...</td>\n",
       "      <td>247.753</td>\n",
       "      <td>52.8480</td>\n",
       "      <td>42.70</td>\n",
       "      <td>23.6767</td>\n",
       "      <td>89.0183</td>\n",
       "      <td>37.7731</td>\n",
       "      <td>26.7544</td>\n",
       "      <td>172.540</td>\n",
       "      <td>37.85</td>\n",
       "      <td>20.4382</td>\n",
       "    </tr>\n",
       "    <tr>\n",
       "      <th>2020-04-08</th>\n",
       "      <td>134.781</td>\n",
       "      <td>38.2330</td>\n",
       "      <td>81.3439</td>\n",
       "      <td>69.2941</td>\n",
       "      <td>165.354</td>\n",
       "      <td>60.022</td>\n",
       "      <td>34.0766</td>\n",
       "      <td>317.18</td>\n",
       "      <td>95.4183</td>\n",
       "      <td>48.79</td>\n",
       "      <td>...</td>\n",
       "      <td>257.931</td>\n",
       "      <td>55.3901</td>\n",
       "      <td>46.55</td>\n",
       "      <td>25.6483</td>\n",
       "      <td>91.7483</td>\n",
       "      <td>41.7168</td>\n",
       "      <td>29.6094</td>\n",
       "      <td>179.244</td>\n",
       "      <td>37.76</td>\n",
       "      <td>21.4732</td>\n",
       "    </tr>\n",
       "    <tr>\n",
       "      <th>2020-04-09</th>\n",
       "      <td>133.686</td>\n",
       "      <td>38.2232</td>\n",
       "      <td>82.3884</td>\n",
       "      <td>70.3415</td>\n",
       "      <td>171.296</td>\n",
       "      <td>59.423</td>\n",
       "      <td>35.1027</td>\n",
       "      <td>318.70</td>\n",
       "      <td>99.4560</td>\n",
       "      <td>48.38</td>\n",
       "      <td>...</td>\n",
       "      <td>249.752</td>\n",
       "      <td>56.0124</td>\n",
       "      <td>47.86</td>\n",
       "      <td>26.6369</td>\n",
       "      <td>91.7681</td>\n",
       "      <td>43.1033</td>\n",
       "      <td>31.5723</td>\n",
       "      <td>181.676</td>\n",
       "      <td>38.27</td>\n",
       "      <td>21.9907</td>\n",
       "    </tr>\n",
       "    <tr>\n",
       "      <th>2020-04-13</th>\n",
       "      <td>132.436</td>\n",
       "      <td>37.6729</td>\n",
       "      <td>82.2040</td>\n",
       "      <td>70.8261</td>\n",
       "      <td>166.137</td>\n",
       "      <td>61.673</td>\n",
       "      <td>33.6928</td>\n",
       "      <td>320.65</td>\n",
       "      <td>102.3750</td>\n",
       "      <td>50.94</td>\n",
       "      <td>...</td>\n",
       "      <td>250.226</td>\n",
       "      <td>55.8783</td>\n",
       "      <td>46.49</td>\n",
       "      <td>25.5683</td>\n",
       "      <td>88.5177</td>\n",
       "      <td>39.7845</td>\n",
       "      <td>29.8047</td>\n",
       "      <td>178.452</td>\n",
       "      <td>39.41</td>\n",
       "      <td>20.8286</td>\n",
       "    </tr>\n",
       "    <tr>\n",
       "      <th>...</th>\n",
       "      <td>...</td>\n",
       "      <td>...</td>\n",
       "      <td>...</td>\n",
       "      <td>...</td>\n",
       "      <td>...</td>\n",
       "      <td>...</td>\n",
       "      <td>...</td>\n",
       "      <td>...</td>\n",
       "      <td>...</td>\n",
       "      <td>...</td>\n",
       "      <td>...</td>\n",
       "      <td>...</td>\n",
       "      <td>...</td>\n",
       "      <td>...</td>\n",
       "      <td>...</td>\n",
       "      <td>...</td>\n",
       "      <td>...</td>\n",
       "      <td>...</td>\n",
       "      <td>...</td>\n",
       "      <td>...</td>\n",
       "      <td>...</td>\n",
       "    </tr>\n",
       "    <tr>\n",
       "      <th>2023-08-07</th>\n",
       "      <td>105.230</td>\n",
       "      <td>73.8400</td>\n",
       "      <td>108.4500</td>\n",
       "      <td>150.3300</td>\n",
       "      <td>315.870</td>\n",
       "      <td>91.570</td>\n",
       "      <td>87.2100</td>\n",
       "      <td>529.73</td>\n",
       "      <td>71.3000</td>\n",
       "      <td>116.81</td>\n",
       "      <td>...</td>\n",
       "      <td>705.360</td>\n",
       "      <td>103.1000</td>\n",
       "      <td>58.14</td>\n",
       "      <td>29.6900</td>\n",
       "      <td>97.6300</td>\n",
       "      <td>127.3100</td>\n",
       "      <td>27.6500</td>\n",
       "      <td>384.970</td>\n",
       "      <td>89.22</td>\n",
       "      <td>54.2300</td>\n",
       "    </tr>\n",
       "    <tr>\n",
       "      <th>2023-08-08</th>\n",
       "      <td>104.120</td>\n",
       "      <td>73.2400</td>\n",
       "      <td>105.5800</td>\n",
       "      <td>149.6200</td>\n",
       "      <td>315.150</td>\n",
       "      <td>91.590</td>\n",
       "      <td>86.4400</td>\n",
       "      <td>520.60</td>\n",
       "      <td>70.5600</td>\n",
       "      <td>113.23</td>\n",
       "      <td>...</td>\n",
       "      <td>696.000</td>\n",
       "      <td>100.4200</td>\n",
       "      <td>57.52</td>\n",
       "      <td>29.4900</td>\n",
       "      <td>97.0000</td>\n",
       "      <td>127.0300</td>\n",
       "      <td>27.5800</td>\n",
       "      <td>381.780</td>\n",
       "      <td>87.88</td>\n",
       "      <td>53.3150</td>\n",
       "    </tr>\n",
       "    <tr>\n",
       "      <th>2023-08-09</th>\n",
       "      <td>103.710</td>\n",
       "      <td>72.7900</td>\n",
       "      <td>105.3000</td>\n",
       "      <td>150.7700</td>\n",
       "      <td>311.530</td>\n",
       "      <td>91.440</td>\n",
       "      <td>85.8500</td>\n",
       "      <td>513.78</td>\n",
       "      <td>71.2000</td>\n",
       "      <td>110.47</td>\n",
       "      <td>...</td>\n",
       "      <td>686.050</td>\n",
       "      <td>99.3300</td>\n",
       "      <td>56.85</td>\n",
       "      <td>29.5900</td>\n",
       "      <td>97.5600</td>\n",
       "      <td>125.5800</td>\n",
       "      <td>26.6400</td>\n",
       "      <td>379.560</td>\n",
       "      <td>86.30</td>\n",
       "      <td>53.3600</td>\n",
       "    </tr>\n",
       "    <tr>\n",
       "      <th>2023-08-10</th>\n",
       "      <td>103.900</td>\n",
       "      <td>71.9900</td>\n",
       "      <td>104.7400</td>\n",
       "      <td>151.4400</td>\n",
       "      <td>310.410</td>\n",
       "      <td>91.420</td>\n",
       "      <td>85.9000</td>\n",
       "      <td>515.83</td>\n",
       "      <td>71.5300</td>\n",
       "      <td>110.23</td>\n",
       "      <td>...</td>\n",
       "      <td>686.390</td>\n",
       "      <td>97.9900</td>\n",
       "      <td>57.40</td>\n",
       "      <td>29.2300</td>\n",
       "      <td>97.3300</td>\n",
       "      <td>123.3700</td>\n",
       "      <td>26.3100</td>\n",
       "      <td>382.320</td>\n",
       "      <td>86.99</td>\n",
       "      <td>53.6600</td>\n",
       "    </tr>\n",
       "    <tr>\n",
       "      <th>2023-08-11</th>\n",
       "      <td>104.550</td>\n",
       "      <td>71.3600</td>\n",
       "      <td>105.3100</td>\n",
       "      <td>152.1800</td>\n",
       "      <td>309.050</td>\n",
       "      <td>91.210</td>\n",
       "      <td>84.8200</td>\n",
       "      <td>508.45</td>\n",
       "      <td>72.2800</td>\n",
       "      <td>107.57</td>\n",
       "      <td>...</td>\n",
       "      <td>651.970</td>\n",
       "      <td>96.7800</td>\n",
       "      <td>56.41</td>\n",
       "      <td>28.9400</td>\n",
       "      <td>97.6600</td>\n",
       "      <td>123.2300</td>\n",
       "      <td>26.8100</td>\n",
       "      <td>381.820</td>\n",
       "      <td>86.61</td>\n",
       "      <td>53.6600</td>\n",
       "    </tr>\n",
       "  </tbody>\n",
       "</table>\n",
       "<p>842 rows × 272 columns</p>\n",
       "</div>"
      ]
     },
     "metadata": {
      "application/vnd.databricks.v1+output": {
       "addedWidgets": {},
       "arguments": {},
       "data": "<div>\n<style scoped>\n    .dataframe tbody tr th:only-of-type {\n        vertical-align: middle;\n    }\n\n    .dataframe tbody tr th {\n        vertical-align: top;\n    }\n\n    .dataframe thead th {\n        text-align: right;\n    }\n</style>\n<table border=\"1\" class=\"dataframe\">\n  <thead>\n    <tr style=\"text-align: right;\">\n      <th></th>\n      <th>MMM_close</th>\n      <th>AOS_close</th>\n      <th>ABT_close</th>\n      <th>ABBV_close</th>\n      <th>ACN_close</th>\n      <th>ATVI_close</th>\n      <th>ADM_close</th>\n      <th>ADBE_close</th>\n      <th>AAP_close</th>\n      <th>AMD_close</th>\n      <th>...</th>\n      <th>LRCX_close</th>\n      <th>LW_close</th>\n      <th>LVS_close</th>\n      <th>LEG_close</th>\n      <th>LDOS_close</th>\n      <th>LEN_close</th>\n      <th>LNC_close</th>\n      <th>LIN_close</th>\n      <th>LYV_close</th>\n      <th>LKQ_close</th>\n    </tr>\n    <tr>\n      <th>_c0</th>\n      <th></th>\n      <th></th>\n      <th></th>\n      <th></th>\n      <th></th>\n      <th></th>\n      <th></th>\n      <th></th>\n      <th></th>\n      <th></th>\n      <th></th>\n      <th></th>\n      <th></th>\n      <th></th>\n      <th></th>\n      <th></th>\n      <th></th>\n      <th></th>\n      <th></th>\n      <th></th>\n      <th></th>\n    </tr>\n  </thead>\n  <tbody>\n    <tr>\n      <th>2020-04-06</th>\n      <td>127.274</td>\n      <td>36.3320</td>\n      <td>79.2164</td>\n      <td>66.7952</td>\n      <td>159.878</td>\n      <td>60.543</td>\n      <td>33.4236</td>\n      <td>319.13</td>\n      <td>89.1787</td>\n      <td>47.52</td>\n      <td>...</td>\n      <td>242.462</td>\n      <td>49.7015</td>\n      <td>40.70</td>\n      <td>22.5810</td>\n      <td>91.2191</td>\n      <td>37.7335</td>\n      <td>24.5451</td>\n      <td>168.683</td>\n      <td>34.51</td>\n      <td>19.5797</td>\n    </tr>\n    <tr>\n      <th>2020-04-07</th>\n      <td>130.790</td>\n      <td>37.7006</td>\n      <td>78.4505</td>\n      <td>66.4941</td>\n      <td>158.022</td>\n      <td>58.842</td>\n      <td>33.6090</td>\n      <td>308.93</td>\n      <td>92.5583</td>\n      <td>47.56</td>\n      <td>...</td>\n      <td>247.753</td>\n      <td>52.8480</td>\n      <td>42.70</td>\n      <td>23.6767</td>\n      <td>89.0183</td>\n      <td>37.7731</td>\n      <td>26.7544</td>\n      <td>172.540</td>\n      <td>37.85</td>\n      <td>20.4382</td>\n    </tr>\n    <tr>\n      <th>2020-04-08</th>\n      <td>134.781</td>\n      <td>38.2330</td>\n      <td>81.3439</td>\n      <td>69.2941</td>\n      <td>165.354</td>\n      <td>60.022</td>\n      <td>34.0766</td>\n      <td>317.18</td>\n      <td>95.4183</td>\n      <td>48.79</td>\n      <td>...</td>\n      <td>257.931</td>\n      <td>55.3901</td>\n      <td>46.55</td>\n      <td>25.6483</td>\n      <td>91.7483</td>\n      <td>41.7168</td>\n      <td>29.6094</td>\n      <td>179.244</td>\n      <td>37.76</td>\n      <td>21.4732</td>\n    </tr>\n    <tr>\n      <th>2020-04-09</th>\n      <td>133.686</td>\n      <td>38.2232</td>\n      <td>82.3884</td>\n      <td>70.3415</td>\n      <td>171.296</td>\n      <td>59.423</td>\n      <td>35.1027</td>\n      <td>318.70</td>\n      <td>99.4560</td>\n      <td>48.38</td>\n      <td>...</td>\n      <td>249.752</td>\n      <td>56.0124</td>\n      <td>47.86</td>\n      <td>26.6369</td>\n      <td>91.7681</td>\n      <td>43.1033</td>\n      <td>31.5723</td>\n      <td>181.676</td>\n      <td>38.27</td>\n      <td>21.9907</td>\n    </tr>\n    <tr>\n      <th>2020-04-13</th>\n      <td>132.436</td>\n      <td>37.6729</td>\n      <td>82.2040</td>\n      <td>70.8261</td>\n      <td>166.137</td>\n      <td>61.673</td>\n      <td>33.6928</td>\n      <td>320.65</td>\n      <td>102.3750</td>\n      <td>50.94</td>\n      <td>...</td>\n      <td>250.226</td>\n      <td>55.8783</td>\n      <td>46.49</td>\n      <td>25.5683</td>\n      <td>88.5177</td>\n      <td>39.7845</td>\n      <td>29.8047</td>\n      <td>178.452</td>\n      <td>39.41</td>\n      <td>20.8286</td>\n    </tr>\n    <tr>\n      <th>...</th>\n      <td>...</td>\n      <td>...</td>\n      <td>...</td>\n      <td>...</td>\n      <td>...</td>\n      <td>...</td>\n      <td>...</td>\n      <td>...</td>\n      <td>...</td>\n      <td>...</td>\n      <td>...</td>\n      <td>...</td>\n      <td>...</td>\n      <td>...</td>\n      <td>...</td>\n      <td>...</td>\n      <td>...</td>\n      <td>...</td>\n      <td>...</td>\n      <td>...</td>\n      <td>...</td>\n    </tr>\n    <tr>\n      <th>2023-08-07</th>\n      <td>105.230</td>\n      <td>73.8400</td>\n      <td>108.4500</td>\n      <td>150.3300</td>\n      <td>315.870</td>\n      <td>91.570</td>\n      <td>87.2100</td>\n      <td>529.73</td>\n      <td>71.3000</td>\n      <td>116.81</td>\n      <td>...</td>\n      <td>705.360</td>\n      <td>103.1000</td>\n      <td>58.14</td>\n      <td>29.6900</td>\n      <td>97.6300</td>\n      <td>127.3100</td>\n      <td>27.6500</td>\n      <td>384.970</td>\n      <td>89.22</td>\n      <td>54.2300</td>\n    </tr>\n    <tr>\n      <th>2023-08-08</th>\n      <td>104.120</td>\n      <td>73.2400</td>\n      <td>105.5800</td>\n      <td>149.6200</td>\n      <td>315.150</td>\n      <td>91.590</td>\n      <td>86.4400</td>\n      <td>520.60</td>\n      <td>70.5600</td>\n      <td>113.23</td>\n      <td>...</td>\n      <td>696.000</td>\n      <td>100.4200</td>\n      <td>57.52</td>\n      <td>29.4900</td>\n      <td>97.0000</td>\n      <td>127.0300</td>\n      <td>27.5800</td>\n      <td>381.780</td>\n      <td>87.88</td>\n      <td>53.3150</td>\n    </tr>\n    <tr>\n      <th>2023-08-09</th>\n      <td>103.710</td>\n      <td>72.7900</td>\n      <td>105.3000</td>\n      <td>150.7700</td>\n      <td>311.530</td>\n      <td>91.440</td>\n      <td>85.8500</td>\n      <td>513.78</td>\n      <td>71.2000</td>\n      <td>110.47</td>\n      <td>...</td>\n      <td>686.050</td>\n      <td>99.3300</td>\n      <td>56.85</td>\n      <td>29.5900</td>\n      <td>97.5600</td>\n      <td>125.5800</td>\n      <td>26.6400</td>\n      <td>379.560</td>\n      <td>86.30</td>\n      <td>53.3600</td>\n    </tr>\n    <tr>\n      <th>2023-08-10</th>\n      <td>103.900</td>\n      <td>71.9900</td>\n      <td>104.7400</td>\n      <td>151.4400</td>\n      <td>310.410</td>\n      <td>91.420</td>\n      <td>85.9000</td>\n      <td>515.83</td>\n      <td>71.5300</td>\n      <td>110.23</td>\n      <td>...</td>\n      <td>686.390</td>\n      <td>97.9900</td>\n      <td>57.40</td>\n      <td>29.2300</td>\n      <td>97.3300</td>\n      <td>123.3700</td>\n      <td>26.3100</td>\n      <td>382.320</td>\n      <td>86.99</td>\n      <td>53.6600</td>\n    </tr>\n    <tr>\n      <th>2023-08-11</th>\n      <td>104.550</td>\n      <td>71.3600</td>\n      <td>105.3100</td>\n      <td>152.1800</td>\n      <td>309.050</td>\n      <td>91.210</td>\n      <td>84.8200</td>\n      <td>508.45</td>\n      <td>72.2800</td>\n      <td>107.57</td>\n      <td>...</td>\n      <td>651.970</td>\n      <td>96.7800</td>\n      <td>56.41</td>\n      <td>28.9400</td>\n      <td>97.6600</td>\n      <td>123.2300</td>\n      <td>26.8100</td>\n      <td>381.820</td>\n      <td>86.61</td>\n      <td>53.6600</td>\n    </tr>\n  </tbody>\n</table>\n<p>842 rows × 272 columns</p>\n</div>",
       "datasetInfos": [],
       "metadata": {},
       "removedWidgets": [],
       "textData": null,
       "type": "htmlSandbox"
      }
     },
     "output_type": "display_data"
    }
   ],
   "source": [
    "### our stock price data is in a daily frequency and it is from 2020 April until 2023 August\n",
    "stock_data_all"
   ]
  },
  {
   "cell_type": "code",
   "execution_count": 0,
   "metadata": {
    "application/vnd.databricks.v1+cell": {
     "cellMetadata": {
      "byteLimit": 2048000,
      "rowLimit": 10000
     },
     "inputWidgets": {},
     "nuid": "00752bc2-9853-4ceb-8369-3119b93217e2",
     "showTitle": false,
     "title": ""
    }
   },
   "outputs": [],
   "source": [
    "### data preparation\n",
    "### prepare S&P500 and risk free data\n",
    "\n",
    "market_data = pdr.get_data_fred('SP500')\n",
    "market_data[\"market_return\"] = market_data[\"SP500\"].diff() / market_data[\"SP500\"]\n",
    "\n",
    "rf_data = pdr.get_data_fred('DGS1MO', start = \"2010-01-01\",end = \"2024-01-01\")\n",
    "rf_data[\"rf\"] = rf_data[\"DGS1MO\"] / 100\n",
    "rf_data[\"yyyymm\"] = rf_data.index.year.astype(\"str\") + rf_data.index.month.astype(\"str\").str.zfill(2)\n"
   ]
  },
  {
   "cell_type": "markdown",
   "metadata": {
    "application/vnd.databricks.v1+cell": {
     "cellMetadata": {
      "byteLimit": 2048000,
      "rowLimit": 10000
     },
     "inputWidgets": {},
     "nuid": "ee7d4d3e-6172-47e4-a5e5-fefb06f9c963",
     "showTitle": false,
     "title": ""
    }
   },
   "source": [
    "## Modeling"
   ]
  },
  {
   "cell_type": "markdown",
   "metadata": {
    "application/vnd.databricks.v1+cell": {
     "cellMetadata": {
      "byteLimit": 2048000,
      "rowLimit": 10000
     },
     "inputWidgets": {},
     "nuid": "bab6b1b1-e600-41c5-8991-737d0afd412c",
     "showTitle": false,
     "title": ""
    }
   },
   "source": [
    "First we start by fitting a linear regression. By using Ordinary Least Squares method we estimate parameters. They are estimated parameters so they will have a cap on it.\n",
    "\n",
    "$$\n",
    "R_{i,t} - R_{F} = \\hat{\\alpha}_{i} + \\hat{\\beta}_{i} (R_{M}  - R_{F} )+ \\epsilon_{i,t}\n",
    "$$\n",
    "\n",
    "Here, i is for stock ticker, and t is for time.\n",
    "\n",
    "So now we have market index price data, risk free data and stock prices. We can start modeling from now on.\n",
    "\n",
    "But before that lets choose one stock and explain what is the model result and what is the estimated alpha."
   ]
  },
  {
   "cell_type": "code",
   "execution_count": 0,
   "metadata": {
    "application/vnd.databricks.v1+cell": {
     "cellMetadata": {
      "byteLimit": 2048000,
      "rowLimit": 10000
     },
     "inputWidgets": {},
     "nuid": "cda9de17-d5a3-44a8-9fbb-5adf0b24ec66",
     "showTitle": false,
     "title": ""
    }
   },
   "outputs": [],
   "source": [
    "## lets choose apple stocks\n",
    "ticker = \"AAPL\"\n",
    "\n",
    "## make temporary data\n",
    "stock_data = stock_data_all[[ticker + \"_close\"]].copy()\n",
    "\n",
    "## estimate returns\n",
    "stock_data[\"stock_return\"] = stock_data[ticker + \"_close\"].diff() / stock_data[ticker + \"_close\"]\n",
    "\n",
    "## merge with market data\n",
    "data_mr = pd.merge(market_data[\"market_return\"], \n",
    "                   stock_data[\"stock_return\"], \n",
    "                   left_index=True, \n",
    "                   right_index=True)\n",
    "\n",
    "data_mr[\"yyyymm\"] = data_mr.index.year.astype(\"str\") + data_mr.index.month.astype(\"str\").str.zfill(2)\n",
    "data_mr[\"yyyymmdd\"] = data_mr.index.copy()\n",
    "\n",
    "## merge with rf data\n",
    "data_mr = pd.merge(data_mr[[\"yyyymmdd\",\"stock_return\",\"market_return\",\"yyyymm\"]], \n",
    "                   rf_data[[\"rf\",\"yyyymm\"]], \n",
    "                   left_on=\"yyyymm\", \n",
    "                   right_on=\"yyyymm\")\n",
    "\n",
    "data_mr[\"stock_return\"] = data_mr[\"stock_return\"] - data_mr[\"rf\"] \n",
    "data_mr[\"market_return\"] = data_mr[\"market_return\"] - data_mr[\"rf\"] \n",
    "\n",
    "## clean data\n",
    "data_mr.dropna(inplace=True)\n",
    "\n",
    "## add constant into the data so model will estimate alpha\n",
    "data_mr = sm.add_constant(data_mr)\n",
    "\n",
    "## model fitting\n",
    "model = sm.OLS(data_mr.stock_return, data_mr[[\"const\",\"market_return\"]])\n",
    "results = model.fit()\n"
   ]
  },
  {
   "cell_type": "code",
   "execution_count": 0,
   "metadata": {
    "application/vnd.databricks.v1+cell": {
     "cellMetadata": {
      "byteLimit": 2048000,
      "rowLimit": 10000
     },
     "inputWidgets": {},
     "nuid": "9ff51796-a4ad-4a49-afce-e47a4d2b19a5",
     "showTitle": false,
     "title": ""
    }
   },
   "outputs": [
    {
     "output_type": "stream",
     "name": "stdout",
     "output_type": "stream",
     "text": [
      "                            OLS Regression Results                            \n==============================================================================\nDep. Variable:           stock_return   R-squared:                       0.789\nModel:                            OLS   Adj. R-squared:                  0.789\nMethod:                 Least Squares   F-statistic:                 6.301e+04\nDate:                Sun, 13 Aug 2023   Prob (F-statistic):               0.00\nTime:                        13:41:58   Log-Likelihood:                 49905.\nNo. Observations:               16835   AIC:                        -9.981e+04\nDf Residuals:                   16833   BIC:                        -9.979e+04\nDf Model:                           1                                         \nCovariance Type:            nonrobust                                         \n=================================================================================\n                    coef    std err          t      P>|t|      [0.025      0.975]\n---------------------------------------------------------------------------------\nconst             0.0015      0.000     13.636      0.000       0.001       0.002\nmarket_return     1.0679      0.004    251.023      0.000       1.060       1.076\n==============================================================================\nOmnibus:                     1987.060   Durbin-Watson:                   0.090\nProb(Omnibus):                  0.000   Jarque-Bera (JB):            15236.231\nSkew:                           0.304   Prob(JB):                         0.00\nKurtosis:                       7.621   Cond. No.                         44.2\n==============================================================================\n\nNotes:\n[1] Standard Errors assume that the covariance matrix of the errors is correctly specified.\n"
     ]
    }
   ],
   "source": [
    "print(results.summary())\n",
    "\n",
    "### here R-squared shows that mraket can explain almost 80% (0.789) of the fluctuations in apple stocks\n",
    "### looking into coef for const (that is our alpha) we see P value is almost zero\n",
    "### p value shows if the coef is statistically significant\n",
    "### so in short, apple stocks showing 0.0015 better performance than the market"
   ]
  },
  {
   "cell_type": "code",
   "execution_count": 0,
   "metadata": {
    "application/vnd.databricks.v1+cell": {
     "cellMetadata": {
      "byteLimit": 2048000,
      "rowLimit": 10000
     },
     "inputWidgets": {},
     "nuid": "0180d5b5-6a9d-4c81-a375-201776575749",
     "showTitle": false,
     "title": ""
    }
   },
   "outputs": [],
   "source": [
    "### here we repeat the same process for all other stocks \n",
    "### estimate the alpha and save them for further use"
   ]
  },
  {
   "cell_type": "code",
   "execution_count": 0,
   "metadata": {
    "application/vnd.databricks.v1+cell": {
     "cellMetadata": {
      "byteLimit": 2048000,
      "rowLimit": 10000
     },
     "inputWidgets": {},
     "nuid": "cca65134-4fc1-4f7b-957e-d2ef9a8e4ab0",
     "showTitle": false,
     "title": ""
    }
   },
   "outputs": [],
   "source": [
    "ticker_list = data[\"Symbol\"].tolist()\n",
    "\n",
    "market_pv_list = list()\n",
    "alpha_pv_list = list()\n",
    "\n",
    "market_coef_list = list()\n",
    "alpha_coef_list = list()\n",
    "\n",
    "symbol_list = list()\n",
    "    \n",
    "for ticker in ticker_list[:]:\n",
    "    \n",
    "    if ticker + \"_close\" not in stock_data_all.columns.tolist():\n",
    "        continue\n",
    "\n",
    "    stock_data = stock_data_all[[ticker + \"_close\"]].copy()\n",
    "\n",
    "    if stock_data.shape[0] == 0:\n",
    "        continue\n",
    "\n",
    "    stock_data[\"stock_return\"] = stock_data[ticker + \"_close\"].diff() / stock_data[ticker + \"_close\"]\n",
    "\n",
    "    ## merge with market data\n",
    "    data_mr = pd.merge(market_data[\"market_return\"], \n",
    "                       stock_data[\"stock_return\"], \n",
    "                       left_index=True, \n",
    "                       right_index=True)\n",
    "\n",
    "    data_mr[\"yyyymm\"] = data_mr.index.year.astype(\"str\") + data_mr.index.month.astype(\"str\").str.zfill(2)\n",
    "    data_mr[\"yyyymmdd\"] = data_mr.index.copy()\n",
    "\n",
    "    ## merge with rf data\n",
    "    data_mr = pd.merge(data_mr[[\"yyyymmdd\",\"stock_return\",\"market_return\",\"yyyymm\"]], \n",
    "                       rf_data[[\"rf\",\"yyyymm\"]], \n",
    "                       left_on=\"yyyymm\", \n",
    "                       right_on=\"yyyymm\")\n",
    "\n",
    "\n",
    "    data_mr[\"stock_return\"] = data_mr[\"stock_return\"] - data_mr[\"rf\"] \n",
    "    data_mr[\"market_return\"] = data_mr[\"market_return\"] - data_mr[\"rf\"] \n",
    "\n",
    "    ## clean data\n",
    "    data_mr.dropna(inplace=True)\n",
    "\n",
    "    ## add constant into the data so model will estimate alpha\n",
    "    data_mr = sm.add_constant(data_mr)\n",
    "\n",
    "    ## model fitting\n",
    "    model = sm.OLS(data_mr.stock_return, data_mr[[\"const\",\"market_return\"]])\n",
    "    results = model.fit()\n",
    "\n",
    "    ## save parameters\n",
    "    market_pv_list.append(results.pvalues[0]) ##market pvalue\n",
    "    alpha_pv_list.append(results.pvalues[1]) ##alpha pvalue\n",
    "\n",
    "    ## save pvalues\n",
    "    market_coef_list.append(results.params[0]) ##market pvalue\n",
    "    alpha_coef_list.append(results.params[1]) ##alpha pvalue\n",
    "\n",
    "    ## save tickers\n",
    "    symbol_list.append(ticker)\n"
   ]
  },
  {
   "cell_type": "code",
   "execution_count": 0,
   "metadata": {
    "application/vnd.databricks.v1+cell": {
     "cellMetadata": {
      "byteLimit": 2048000,
      "rowLimit": 10000
     },
     "inputWidgets": {},
     "nuid": "555e605a-0fca-4815-b66a-9a96fb3b5224",
     "showTitle": false,
     "title": ""
    }
   },
   "outputs": [],
   "source": [
    "### here save all data into dataframe\n",
    "final_data = pd.DataFrame()\n",
    "final_data[\"symbol\"] = symbol_list\n",
    "final_data[\"alpha_coef\"] = alpha_coef_list\n",
    "final_data[\"alpha_pv\"] = alpha_pv_list\n",
    "final_data[\"market_coef\"] = market_coef_list\n",
    "final_data[\"marke_pv\"] = market_pv_list\n",
    "\n",
    "### lets focus on only significant data\n",
    "final_data_significant = final_data[final_data[\"alpha_pv\"] <= 0.1]"
   ]
  },
  {
   "cell_type": "markdown",
   "metadata": {
    "application/vnd.databricks.v1+cell": {
     "cellMetadata": {
      "byteLimit": 2048000,
      "rowLimit": 10000
     },
     "inputWidgets": {},
     "nuid": "1821bf94-35a0-43e6-96ec-61c87e4421fe",
     "showTitle": false,
     "title": ""
    }
   },
   "source": [
    "## Results"
   ]
  },
  {
   "cell_type": "markdown",
   "metadata": {
    "application/vnd.databricks.v1+cell": {
     "cellMetadata": {
      "byteLimit": 2048000,
      "rowLimit": 10000
     },
     "inputWidgets": {},
     "nuid": "0af33022-e5c5-4918-92e3-bdca7b559599",
     "showTitle": false,
     "title": ""
    }
   },
   "source": [
    "### Estimated Jensen's alpha"
   ]
  },
  {
   "cell_type": "code",
   "execution_count": 0,
   "metadata": {
    "application/vnd.databricks.v1+cell": {
     "cellMetadata": {
      "byteLimit": 2048000,
      "rowLimit": 10000
     },
     "inputWidgets": {},
     "nuid": "5eb02271-18b8-4f6c-be7b-2a3fee65d2e3",
     "showTitle": false,
     "title": ""
    }
   },
   "outputs": [
    {
     "output_type": "display_data",
     "data": {
      "text/html": [
       "<div>\n",
       "<style scoped>\n",
       "    .dataframe tbody tr th:only-of-type {\n",
       "        vertical-align: middle;\n",
       "    }\n",
       "\n",
       "    .dataframe tbody tr th {\n",
       "        vertical-align: top;\n",
       "    }\n",
       "\n",
       "    .dataframe thead th {\n",
       "        text-align: right;\n",
       "    }\n",
       "</style>\n",
       "<table border=\"1\" class=\"dataframe\">\n",
       "  <thead>\n",
       "    <tr style=\"text-align: right;\">\n",
       "      <th></th>\n",
       "      <th>alpha_coef</th>\n",
       "      <th>alpha_pv</th>\n",
       "      <th>market_coef</th>\n",
       "      <th>marke_pv</th>\n",
       "    </tr>\n",
       "  </thead>\n",
       "  <tbody>\n",
       "    <tr>\n",
       "      <th>count</th>\n",
       "      <td>272.000000</td>\n",
       "      <td>272.0</td>\n",
       "      <td>272.000000</td>\n",
       "      <td>2.720000e+02</td>\n",
       "    </tr>\n",
       "    <tr>\n",
       "      <th>mean</th>\n",
       "      <td>1.003836</td>\n",
       "      <td>0.0</td>\n",
       "      <td>-0.000077</td>\n",
       "      <td>6.896246e-02</td>\n",
       "    </tr>\n",
       "    <tr>\n",
       "      <th>std</th>\n",
       "      <td>0.100255</td>\n",
       "      <td>0.0</td>\n",
       "      <td>0.001489</td>\n",
       "      <td>2.088660e-01</td>\n",
       "    </tr>\n",
       "    <tr>\n",
       "      <th>min</th>\n",
       "      <td>0.781651</td>\n",
       "      <td>0.0</td>\n",
       "      <td>-0.003749</td>\n",
       "      <td>4.270288e-139</td>\n",
       "    </tr>\n",
       "    <tr>\n",
       "      <th>25%</th>\n",
       "      <td>0.940413</td>\n",
       "      <td>0.0</td>\n",
       "      <td>-0.001065</td>\n",
       "      <td>8.226774e-27</td>\n",
       "    </tr>\n",
       "    <tr>\n",
       "      <th>50%</th>\n",
       "      <td>0.994910</td>\n",
       "      <td>0.0</td>\n",
       "      <td>-0.000081</td>\n",
       "      <td>1.222609e-10</td>\n",
       "    </tr>\n",
       "    <tr>\n",
       "      <th>75%</th>\n",
       "      <td>1.067934</td>\n",
       "      <td>0.0</td>\n",
       "      <td>0.000902</td>\n",
       "      <td>9.180182e-04</td>\n",
       "    </tr>\n",
       "    <tr>\n",
       "      <th>max</th>\n",
       "      <td>1.352819</td>\n",
       "      <td>0.0</td>\n",
       "      <td>0.004972</td>\n",
       "      <td>9.948215e-01</td>\n",
       "    </tr>\n",
       "  </tbody>\n",
       "</table>\n",
       "</div>"
      ]
     },
     "metadata": {
      "application/vnd.databricks.v1+output": {
       "addedWidgets": {},
       "arguments": {},
       "data": "<div>\n<style scoped>\n    .dataframe tbody tr th:only-of-type {\n        vertical-align: middle;\n    }\n\n    .dataframe tbody tr th {\n        vertical-align: top;\n    }\n\n    .dataframe thead th {\n        text-align: right;\n    }\n</style>\n<table border=\"1\" class=\"dataframe\">\n  <thead>\n    <tr style=\"text-align: right;\">\n      <th></th>\n      <th>alpha_coef</th>\n      <th>alpha_pv</th>\n      <th>market_coef</th>\n      <th>marke_pv</th>\n    </tr>\n  </thead>\n  <tbody>\n    <tr>\n      <th>count</th>\n      <td>272.000000</td>\n      <td>272.0</td>\n      <td>272.000000</td>\n      <td>2.720000e+02</td>\n    </tr>\n    <tr>\n      <th>mean</th>\n      <td>1.003836</td>\n      <td>0.0</td>\n      <td>-0.000077</td>\n      <td>6.896246e-02</td>\n    </tr>\n    <tr>\n      <th>std</th>\n      <td>0.100255</td>\n      <td>0.0</td>\n      <td>0.001489</td>\n      <td>2.088660e-01</td>\n    </tr>\n    <tr>\n      <th>min</th>\n      <td>0.781651</td>\n      <td>0.0</td>\n      <td>-0.003749</td>\n      <td>4.270288e-139</td>\n    </tr>\n    <tr>\n      <th>25%</th>\n      <td>0.940413</td>\n      <td>0.0</td>\n      <td>-0.001065</td>\n      <td>8.226774e-27</td>\n    </tr>\n    <tr>\n      <th>50%</th>\n      <td>0.994910</td>\n      <td>0.0</td>\n      <td>-0.000081</td>\n      <td>1.222609e-10</td>\n    </tr>\n    <tr>\n      <th>75%</th>\n      <td>1.067934</td>\n      <td>0.0</td>\n      <td>0.000902</td>\n      <td>9.180182e-04</td>\n    </tr>\n    <tr>\n      <th>max</th>\n      <td>1.352819</td>\n      <td>0.0</td>\n      <td>0.004972</td>\n      <td>9.948215e-01</td>\n    </tr>\n  </tbody>\n</table>\n</div>",
       "datasetInfos": [],
       "metadata": {},
       "removedWidgets": [],
       "textData": null,
       "type": "htmlSandbox"
      }
     },
     "output_type": "display_data"
    }
   ],
   "source": [
    "## lets check alphas\n",
    "## it seems it goes up to 1.35 and goes down to 1\n",
    "\n",
    "final_data.describe()"
   ]
  },
  {
   "cell_type": "code",
   "execution_count": 0,
   "metadata": {
    "application/vnd.databricks.v1+cell": {
     "cellMetadata": {
      "byteLimit": 2048000,
      "rowLimit": 10000
     },
     "inputWidgets": {},
     "nuid": "f76dd1d9-f7e1-4124-b315-e8b828b913d1",
     "showTitle": false,
     "title": ""
    }
   },
   "outputs": [],
   "source": [
    "### by looking into all alpha in below graph we see interesting result\n",
    "\n",
    "### just for reminder the meaning of alpha is, higher the alpha from 1 better the performance and alphas lower than 1 are the cases when stock is doing poorly than the market\n",
    "\n",
    "### thus we can conclude that stocks forming two groups\n",
    "### first, over 1 alpha. they do better than the market return\n",
    "### second is the lower than 1 alpha. they usually doing worse than the market\n",
    "\n",
    "### next we check market coef"
   ]
  },
  {
   "cell_type": "code",
   "execution_count": 0,
   "metadata": {
    "application/vnd.databricks.v1+cell": {
     "cellMetadata": {
      "byteLimit": 2048000,
      "rowLimit": 10000
     },
     "inputWidgets": {},
     "nuid": "4b897655-a866-4c7c-8b17-9b30e99d18c6",
     "showTitle": false,
     "title": ""
    }
   },
   "outputs": [
    {
     "output_type": "display_data",
     "data": {
      "text/html": [
       "<style scoped>\n",
       "  .table-result-container {\n",
       "    max-height: 300px;\n",
       "    overflow: auto;\n",
       "  }\n",
       "  table, th, td {\n",
       "    border: 1px solid black;\n",
       "    border-collapse: collapse;\n",
       "  }\n",
       "  th, td {\n",
       "    padding: 5px;\n",
       "  }\n",
       "  th {\n",
       "    text-align: left;\n",
       "  }\n",
       "</style><div class='table-result-container'><table class='table-result'><thead style='background-color: white'><tr><th>symbol</th><th>alpha_coef</th><th>alpha_pv</th><th>market_coef</th><th>marke_pv</th></tr></thead><tbody><tr><td>MMM</td><td>0.9427178083213479</td><td>0.0</td><td>-0.0015539360426961371</td><td>1.670622229561558E-38</td></tr><tr><td>AOS</td><td>0.9832066810561861</td><td>0.0</td><td>-1.8329952352246748E-4</td><td>0.17999632812561028</td></tr><tr><td>ABT</td><td>0.9437416800069042</td><td>0.0</td><td>-9.724477885143035E-4</td><td>3.3920310773315196E-18</td></tr><tr><td>ABBV</td><td>0.8681055476238482</td><td>0.0</td><td>-0.0014565050303953363</td><td>7.350443181364701E-29</td></tr><tr><td>ACN</td><td>1.0582471024393767</td><td>0.0</td><td>9.112481522191239E-4</td><td>5.303410964462857E-22</td></tr><tr><td>ATVI</td><td>0.8256361527697422</td><td>0.0</td><td>-0.002733113392205081</td><td>5.688208762751674E-72</td></tr><tr><td>ADM</td><td>0.9525470565469555</td><td>0.0</td><td>-1.5889983654266158E-4</td><td>0.23008884106774014</td></tr><tr><td>ADBE</td><td>1.073428172095016</td><td>0.0</td><td>8.681931616285828E-4</td><td>5.998061637252829E-8</td></tr><tr><td>AAP</td><td>1.090304304910073</td><td>0.0</td><td>-6.1123700666051E-5</td><td>0.790372371306961</td></tr><tr><td>AMD</td><td>1.1849455431520013</td><td>0.0</td><td>0.0023017699328884414</td><td>4.548620447868185E-22</td></tr><tr><td>AES</td><td>1.0626718270094164</td><td>0.0</td><td>6.950253852415576E-4</td><td>9.723239966007948E-6</td></tr><tr><td>AFL</td><td>0.9658377946874049</td><td>0.0</td><td>-2.036818141637425E-4</td><td>0.08010982068240016</td></tr><tr><td>A</td><td>1.0315996660212938</td><td>0.0</td><td>4.1550651986933893E-4</td><td>1.9188029193433292E-4</td></tr><tr><td>APD</td><td>0.951662294102624</td><td>0.0</td><td>-6.245830004001359E-4</td><td>1.4900566318321765E-7</td></tr><tr><td>AKAM</td><td>0.923172754726701</td><td>0.0</td><td>-0.0017405459798644075</td><td>2.518810306886582E-34</td></tr><tr><td>ALK</td><td>1.0961286966489145</td><td>0.0</td><td>9.08999859080087E-4</td><td>3.103420885669883E-5</td></tr><tr><td>ALB</td><td>1.18199406671767</td><td>0.0</td><td>0.002905551422193531</td><td>6.089474479536164E-34</td></tr><tr><td>ARE</td><td>0.999857196015646</td><td>0.0</td><td>-6.437937768330804E-4</td><td>7.104209179715952E-8</td></tr><tr><td>ALGN</td><td>1.1708967962943464</td><td>0.0</td><td>0.0021864825378635393</td><td>4.674231075233415E-19</td></tr><tr><td>ALLE</td><td>1.0146680180137948</td><td>0.0</td><td>-2.095197797456359E-4</td><td>0.08525590916516824</td></tr><tr><td>LNT</td><td>0.8899892195850232</td><td>0.0</td><td>-0.0017084154532041994</td><td>1.7758496856019961E-43</td></tr><tr><td>ALL</td><td>0.9482963704466393</td><td>0.0</td><td>-0.0010678877126320673</td><td>1.1412810386618938E-14</td></tr><tr><td>GOOGL</td><td>1.0631986777848563</td><td>0.0</td><td>8.744168932424128E-4</td><td>2.2592244830435867E-13</td></tr><tr><td>GOOG</td><td>1.063249028835795</td><td>0.0</td><td>8.829388951997084E-4</td><td>1.451311822790651E-13</td></tr><tr><td>MO</td><td>0.8753352852114085</td><td>0.0</td><td>-0.0018085117578371392</td><td>2.578824663878826E-42</td></tr><tr><td>AMZN</td><td>1.0812558554406697</td><td>0.0</td><td>3.7738633286123067E-4</td><td>0.01638653689815735</td></tr><tr><td>AMCR</td><td>0.9918388276250084</td><td>0.0</td><td>-2.621979185642417E-4</td><td>0.019425347974849787</td></tr><tr><td>AEE</td><td>0.880172793420002</td><td>0.0</td><td>-0.0017912320438818025</td><td>1.014975841942482E-51</td></tr><tr><td>AAL</td><td>1.1460790152659928</td><td>0.0</td><td>0.00113560010435567</td><td>1.2561088252241657E-4</td></tr><tr><td>AEP</td><td>0.8836331182667607</td><td>0.0</td><td>-0.0018670925896689462</td><td>5.21521529571221E-53</td></tr><tr><td>AXP</td><td>1.0680143688066623</td><td>0.0</td><td>8.993174019158853E-4</td><td>1.4534779291425182E-9</td></tr><tr><td>AIG</td><td>1.068991682073755</td><td>0.0</td><td>0.0013471363368851774</td><td>1.1389486546490022E-14</td></tr><tr><td>AMT</td><td>0.9705926752180982</td><td>0.0</td><td>-0.0013342102232540005</td><td>4.261372890449026E-25</td></tr><tr><td>AWK</td><td>0.9179652363413778</td><td>0.0</td><td>-0.001402429618024103</td><td>1.872452122037907E-31</td></tr><tr><td>AMP</td><td>1.1106406141285632</td><td>0.0</td><td>0.0021776853377490054</td><td>8.56502348445442E-62</td></tr><tr><td>ABC</td><td>0.8799736255504964</td><td>0.0</td><td>-0.001065215964541988</td><td>2.4213106296430197E-17</td></tr><tr><td>AME</td><td>0.9745025477570242</td><td>0.0</td><td>-7.053621080655683E-5</td><td>0.40801894332180155</td></tr><tr><td>AMGN</td><td>0.8646209995355305</td><td>0.0</td><td>-0.002080906485979593</td><td>2.545013837712949E-59</td></tr><tr><td>APH</td><td>1.038262501240916</td><td>0.0</td><td>8.489589493970152E-4</td><td>2.95046200171531E-24</td></tr><tr><td>ADI</td><td>1.0697612073968152</td><td>0.0</td><td>9.794917049349525E-4</td><td>3.403316862458526E-16</td></tr><tr><td>ANSS</td><td>1.0850354194445417</td><td>0.0</td><td>5.808370970209059E-4</td><td>1.2569624693341268E-5</td></tr><tr><td>AON</td><td>0.9538576978758461</td><td>0.0</td><td>-4.952369474200413E-4</td><td>1.684866972524792E-5</td></tr><tr><td>APA</td><td>1.1849970172430695</td><td>0.0</td><td>0.0036232625046840475</td><td>4.8761554958669805E-29</td></tr><tr><td>AAPL</td><td>1.0679074174565863</td><td>0.0</td><td>0.0015175869806323197</td><td>4.118234967454009E-42</td></tr><tr><td>AMAT</td><td>1.1666530262357808</td><td>0.0</td><td>0.0026477761516760672</td><td>1.3973895559178826E-46</td></tr><tr><td>APTV</td><td>1.175937761205222</td><td>0.0</td><td>0.002132117680249102</td><td>1.4955241128105234E-30</td></tr><tr><td>ANET</td><td>1.0747705781057628</td><td>0.0</td><td>0.0015103432840268146</td><td>1.203743560885424E-16</td></tr><tr><td>AJG</td><td>0.956728840840204</td><td>0.0</td><td>4.306039759631989E-5</td><td>0.6606424864215903</td></tr><tr><td>AIZ</td><td>0.9499264959934512</td><td>0.0</td><td>-8.901854528054888E-4</td><td>9.499650665262134E-10</td></tr><tr><td>T</td><td>0.8955028760612554</td><td>0.0</td><td>-0.0024516120195998167</td><td>1.2916105227256254E-71</td></tr><tr><td>ATO</td><td>0.8666025377571421</td><td>0.0</td><td>-0.0021020086232457647</td><td>8.772775111385622E-63</td></tr><tr><td>ADSK</td><td>1.1526078750212876</td><td>0.0</td><td>0.0016260554828251685</td><td>1.7774619783092997E-23</td></tr><tr><td>ADP</td><td>0.9858199001241821</td><td>0.0</td><td>-2.960809487158405E-5</td><td>0.774000862776911</td></tr><tr><td>AZO</td><td>0.9216935592379473</td><td>0.0</td><td>-3.775456168917757E-4</td><td>0.00412434432618684</td></tr><tr><td>AVB</td><td>0.97213456646979</td><td>0.0</td><td>-6.629350230893269E-4</td><td>5.783230483847686E-8</td></tr><tr><td>AVY</td><td>1.018931157853261</td><td>0.0</td><td>4.135786107052149E-4</td><td>9.012704145658941E-4</td></tr><tr><td>BKR</td><td>0.988870452959704</td><td>0.0</td><td>3.994344290262881E-4</td><td>0.06788987991512341</td></tr><tr><td>BAC</td><td>1.0430064728094735</td><td>0.0</td><td>2.6266655469461283E-4</td><td>0.07127630020616792</td></tr><tr><td>BBWI</td><td>1.1759572507981764</td><td>0.0</td><td>0.002674367745573778</td><td>2.0709109326242084E-22</td></tr><tr><td>BAX</td><td>0.9019431536970507</td><td>0.0</td><td>-0.002706494354556376</td><td>9.164951282962993E-73</td></tr><tr><td>BDX</td><td>0.8364223987614717</td><td>0.0</td><td>-0.002546377259588273</td><td>2.365258765139913E-87</td></tr><tr><td>BBY</td><td>1.0384959680616068</td><td>0.0</td><td>2.825951710717799E-4</td><td>0.10576282267830787</td></tr><tr><td>BIO</td><td>0.9959780071846346</td><td>0.0</td><td>-8.741629502951997E-4</td><td>8.912281961827417E-7</td></tr><tr><td>TECH</td><td>1.0484156011624255</td><td>0.0</td><td>5.411449437853357E-4</td><td>9.68261409127297E-4</td></tr><tr><td>BIIB</td><td>0.9079088531314186</td><td>0.0</td><td>-0.0022084825741560438</td><td>7.415255266217351E-19</td></tr><tr><td>BLK</td><td>1.0541158376087312</td><td>0.0</td><td>6.111628434500125E-4</td><td>4.120654940508942E-9</td></tr><tr><td>BK</td><td>0.9970034629477312</td><td>0.0</td><td>-3.989696062666697E-4</td><td>0.003471466226123743</td></tr><tr><td>BA</td><td>1.0749834222878256</td><td>0.0</td><td>5.77911232801151E-4</td><td>0.008595158669669194</td></tr><tr><td>BKNG</td><td>1.0387854818474171</td><td>0.0</td><td>6.337588104555899E-4</td><td>1.354018180364932E-4</td></tr><tr><td>BWA</td><td>1.0102740646341901</td><td>0.0</td><td>1.793579921366781E-5</td><td>0.9130877059379023</td></tr><tr><td>BXP</td><td>1.0380524501868367</td><td>0.0</td><td>-6.106956349819765E-4</td><td>3.008034881144944E-4</td></tr><tr><td>BSX</td><td>0.9600419547417732</td><td>0.0</td><td>-5.877716553506896E-4</td><td>1.4266099716630115E-6</td></tr><tr><td>BMY</td><td>0.8510562904934342</td><td>0.0</td><td>-0.002461320984687629</td><td>1.7275187882745422E-89</td></tr><tr><td>AVGO</td><td>1.0557413270631464</td><td>0.0</td><td>0.0015361015669123125</td><td>8.024311412137849E-36</td></tr><tr><td>BR</td><td>0.9702231344419212</td><td>0.0</td><td>-3.05160517796611E-4</td><td>0.0021973275985063528</td></tr><tr><td>BRO</td><td>0.9849540353456875</td><td>0.0</td><td>4.042419023777978E-5</td><td>0.7138494999864347</td></tr><tr><td>CHRW</td><td>0.9383090644493625</td><td>0.0</td><td>-9.967632454784222E-4</td><td>1.397017629563035E-11</td></tr><tr><td>CDNS</td><td>1.081334062375469</td><td>0.0</td><td>0.0016459245324440873</td><td>9.23802662966757E-30</td></tr><tr><td>CZR</td><td>1.3528187332088293</td><td>0.0</td><td>0.004971593790182746</td><td>1.1810836099216686E-61</td></tr><tr><td>CPB</td><td>0.794882780605422</td><td>0.0</td><td>-0.003308322895839453</td><td>2.1837108553489862E-108</td></tr><tr><td>COF</td><td>1.1254337596213322</td><td>0.0</td><td>0.001703673777252121</td><td>9.478654358458114E-20</td></tr><tr><td>CAH</td><td>0.8881703741706807</td><td>0.0</td><td>-0.0011293963363539262</td><td>5.025639545166642E-14</td></tr><tr><td>KMX</td><td>1.106802635245183</td><td>0.0</td><td>8.133209806762568E-4</td><td>1.3911996993428284E-4</td></tr><tr><td>CCL</td><td>1.2314163076689761</td><td>0.0</td><td>0.0019440832149236458</td><td>6.237478162207336E-8</td></tr><tr><td>CARR</td><td>1.0229367604143205</td><td>0.0</td><td>0.001108309917074729</td><td>1.7103828698141879E-13</td></tr><tr><td>CTLT</td><td>1.1213252267665235</td><td>0.0</td><td>4.2202563251195885E-4</td><td>0.1260131653342557</td></tr><tr><td>CAT</td><td>0.9692642285742499</td><td>0.0</td><td>-4.504813518451733E-5</td><td>0.7551956504418734</td></tr><tr><td>CBOE</td><td>0.8691106181838384</td><td>0.0</td><td>-0.0020562301525580548</td><td>1.5637599005167235E-49</td></tr><tr><td>CBRE</td><td>1.0931826199984744</td><td>0.0</td><td>0.00129729019259102</td><td>1.3400996874466995E-18</td></tr><tr><td>CDW</td><td>1.0649345190780097</td><td>0.0</td><td>0.0010137935718773528</td><td>2.1237746045830422E-18</td></tr><tr><td>CE</td><td>1.0705933531833687</td><td>0.0</td><td>9.833255031823011E-4</td><td>8.93837220888571E-11</td></tr><tr><td>CNC</td><td>0.9305512161055874</td><td>0.0</td><td>-0.001460993177879233</td><td>3.935333854682269E-17</td></tr><tr><td>CNP</td><td>0.9390708955512393</td><td>0.0</td><td>-4.760458267928231E-4</td><td>3.2562372299163426E-4</td></tr><tr><td>CDAY</td><td>1.1719874571447133</td><td>0.0</td><td>0.0017988118988905848</td><td>2.8854043282778667E-18</td></tr><tr><td>CF</td><td>0.9905814614534079</td><td>0.0</td><td>1.4457787728284506E-4</td><td>0.5210293755707411</td></tr><tr><td>CRL</td><td>1.060424661373489</td><td>0.0</td><td>4.901271472758951E-4</td><td>0.0043219331817342</td></tr><tr><td>SCHW</td><td>1.0519507034498092</td><td>0.0</td><td>5.663012965511708E-4</td><td>0.001819002611965526</td></tr><tr><td>CHTR</td><td>0.9376656737400821</td><td>0.0</td><td>-0.0015512180555600115</td><td>5.116322053187299E-22</td></tr><tr><td>CVX</td><td>0.9636938635466548</td><td>0.0</td><td>-3.399638177216951E-4</td><td>0.02888567748465741</td></tr><tr><td>CMG</td><td>1.0312556180257764</td><td>0.0</td><td>9.343052485349747E-4</td><td>4.5530121557410254E-10</td></tr><tr><td>CB</td><td>0.9480493090106554</td><td>0.0</td><td>-5.570636404801702E-4</td><td>4.21496617485796E-5</td></tr><tr><td>CHD</td><td>0.8195258230781959</td><td>0.0</td><td>-0.002532656383552639</td><td>1.0985168754225553E-85</td></tr><tr><td>CI</td><td>0.925408655632397</td><td>0.0</td><td>-0.001023803125349844</td><td>7.682567288815489E-12</td></tr><tr><td>CINF</td><td>1.0026344865698331</td><td>0.0</td><td>-2.906947497283734E-4</td><td>0.09040424855013375</td></tr><tr><td>CTAS</td><td>1.028726785655074</td><td>0.0</td><td>8.887466588486634E-4</td><td>1.0166232405369335E-16</td></tr><tr><td>CSCO</td><td>0.9525532921178632</td><td>0.0</td><td>-8.685500140810965E-4</td><td>1.542880105961118E-14</td></tr><tr><td>C</td><td>1.0480295448329777</td><td>0.0</td><td>-8.594153380131795E-5</td><td>0.5948641503307656</td></tr><tr><td>CFG</td><td>1.1249140257860981</td><td>0.0</td><td>0.0012776248424336326</td><td>1.9730658163773397E-10</td></tr><tr><td>CLX</td><td>0.7816507533772784</td><td>0.0</td><td>-0.0037485130332576442</td><td>5.25554102246793E-113</td></tr><tr><td>CME</td><td>0.8960655358535027</td><td>0.0</td><td>-0.001864185246398846</td><td>1.4701597804939374E-52</td></tr><tr><td>CMS</td><td>0.8642726069471577</td><td>0.0</td><td>-0.0021616116429067477</td><td>2.8821027862278983E-68</td></tr><tr><td>KO</td><td>0.8979230076204135</td><td>0.0</td><td>-0.0014033599494302584</td><td>6.102514754399328E-50</td></tr><tr><td>CTSH</td><td>1.032697058228088</td><td>0.0</td><td>1.9871407618416546E-4</td><td>0.10966006764489823</td></tr><tr><td>CL</td><td>0.8386521047409848</td><td>0.0</td><td>-0.0025148517036448804</td><td>1.2722283369931172E-121</td></tr><tr><td>CMCSA</td><td>0.9408599636308416</td><td>0.0</td><td>-0.0010383016355488492</td><td>1.868076338871817E-17</td></tr><tr><td>CMA</td><td>1.1670682184252965</td><td>0.0</td><td>0.0018897967797374283</td><td>1.3199442568393488E-12</td></tr><tr><td>CAG</td><td>0.8353103006212967</td><td>0.0</td><td>-0.0026109840393507984</td><td>3.59422751419684E-84</td></tr><tr><td>COP</td><td>1.0197480152110199</td><td>0.0</td><td>0.0011324444056878206</td><td>5.6442158868843577E-8</td></tr><tr><td>ED</td><td>0.8458401944029911</td><td>0.0</td><td>-0.002250035339777238</td><td>4.957250578292323E-74</td></tr><tr><td>STZ</td><td>0.9278971968819616</td><td>0.0</td><td>-7.728416027657914E-4</td><td>1.5573383609449787E-10</td></tr><tr><td>CPRT</td><td>1.019773961476432</td><td>0.0</td><td>8.066941870180174E-4</td><td>4.613946864127121E-13</td></tr><tr><td>GLW</td><td>1.0439038966133407</td><td>0.0</td><td>4.514357059979203E-4</td><td>1.4584270794922773E-4</td></tr><tr><td>CTVA</td><td>0.9688146936925344</td><td>0.0</td><td>-4.100709779436854E-5</td><td>0.7881222081489956</td></tr><tr><td>COST</td><td>0.9427955616663543</td><td>0.0</td><td>-6.835409563296167E-4</td><td>2.9110169522767837E-10</td></tr><tr><td>CTRA</td><td>0.9272654848970795</td><td>0.0</td><td>-0.0010606235027599033</td><td>1.6799466193016621E-6</td></tr><tr><td>CCI</td><td>0.9731574131167628</td><td>0.0</td><td>-0.0014523047762905754</td><td>1.4435926051828522E-28</td></tr><tr><td>CSX</td><td>0.9877497976904877</td><td>0.0</td><td>-1.949864263682832E-4</td><td>0.06797839691496203</td></tr><tr><td>CMI</td><td>0.9586679698095705</td><td>0.0</td><td>-5.274337805041959E-4</td><td>1.455491907784315E-5</td></tr><tr><td>CVS</td><td>0.9371750697472139</td><td>0.0</td><td>-0.001044911488025133</td><td>3.482569352549953E-15</td></tr><tr><td>DHI</td><td>1.0513139714649236</td><td>0.0</td><td>0.001418383757944558</td><td>1.4465452677142168E-15</td></tr><tr><td>DHR</td><td>0.9901284013545842</td><td>0.0</td><td>-1.1639125859621743E-4</td><td>0.33855309458346594</td></tr><tr><td>DRI</td><td>1.0304305543198702</td><td>0.0</td><td>0.0011145215819154946</td><td>7.638723515566308E-11</td></tr><tr><td>DVA</td><td>0.8973783965556736</td><td>0.0</td><td>-0.0013492945912018351</td><td>1.3353866804054423E-11</td></tr><tr><td>DE</td><td>0.9778352298823265</td><td>0.0</td><td>3.449113384754614E-4</td><td>0.0257728138548206</td></tr><tr><td>DAL</td><td>1.0939657955597768</td><td>0.0</td><td>9.419746293273998E-4</td><td>2.047093112273121E-5</td></tr><tr><td>XRAY</td><td>0.9744409888057242</td><td>0.0</td><td>-0.0010982640558964362</td><td>5.2949381874091195E-11</td></tr><tr><td>DVN</td><td>1.168656639746627</td><td>0.0</td><td>0.003422766758442972</td><td>2.498442070015159E-34</td></tr><tr><td>DXCM</td><td>1.085758270331082</td><td>0.0</td><td>8.184591299999032E-4</td><td>1.7260237844130948E-4</td></tr><tr><td>FANG</td><td>1.0979564494232505</td><td>0.0</td><td>0.0023064648827781434</td><td>1.6665161506281318E-16</td></tr><tr><td>DLR</td><td>0.9434430232115504</td><td>0.0</td><td>-0.001598970362396844</td><td>3.2119627736951754E-26</td></tr><tr><td>DFS</td><td>1.1480208271382675</td><td>0.0</td><td>0.0024306391002744585</td><td>2.570425930261288E-35</td></tr><tr><td>DISH</td><td>1.221240476557395</td><td>0.0</td><td>5.616824778287388E-4</td><td>0.03294387054194171</td></tr><tr><td>DG</td><td>0.9184622951216461</td><td>0.0</td><td>-0.001809712374177468</td><td>2.142946002973965E-30</td></tr><tr><td>DLTR</td><td>0.9465910568939567</td><td>0.0</td><td>-7.510569689086744E-4</td><td>7.170675665798535E-5</td></tr><tr><td>D</td><td>0.8968347922857088</td><td>0.0</td><td>-0.0020998013282308874</td><td>1.3569710910039762E-62</td></tr><tr><td>DPZ</td><td>0.8703545476941039</td><td>0.0</td><td>-0.002093011371951211</td><td>1.5288681643193528E-38</td></tr><tr><td>DOV</td><td>1.001974965202729</td><td>0.0</td><td>4.239457823739269E-5</td><td>0.6717872272630395</td></tr><tr><td>DOW</td><td>1.0171288904167124</td><td>0.0</td><td>3.556821429070208E-4</td><td>0.01878991555747929</td></tr><tr><td>DTE</td><td>0.9011998602344337</td><td>0.0</td><td>-0.0015497846800567913</td><td>1.1122070112912932E-33</td></tr><tr><td>DUK</td><td>0.8716923788084108</td><td>0.0</td><td>-0.0017957753766422034</td><td>3.5952925360163975E-51</td></tr><tr><td>DD</td><td>1.024999116571258</td><td>0.0</td><td>6.82580139140526E-4</td><td>4.5842127556251513E-7</td></tr><tr><td>DXC</td><td>1.1781730631990968</td><td>0.0</td><td>0.001984315585455547</td><td>5.063579280599732E-15</td></tr><tr><td>EMN</td><td>1.061743673874849</td><td>0.0</td><td>7.498563034330528E-4</td><td>2.166895679331162E-7</td></tr><tr><td>ETN</td><td>0.9852527034018184</td><td>0.0</td><td>3.415843760651816E-4</td><td>0.0026688817698159472</td></tr><tr><td>EBAY</td><td>1.0092406791440447</td><td>0.0</td><td>-3.6002924170130024E-4</td><td>0.027788788023672798</td></tr><tr><td>ECL</td><td>1.011452728193966</td><td>0.0</td><td>-3.03232639118935E-4</td><td>0.009241342627513685</td></tr><tr><td>EIX</td><td>0.9104476782297367</td><td>0.0</td><td>-0.0012958656904704091</td><td>1.5880817692451308E-22</td></tr><tr><td>EW</td><td>1.0259715588778382</td><td>0.0</td><td>-7.64527515928283E-5</td><td>0.6199469519031335</td></tr><tr><td>EA</td><td>0.8676355522410641</td><td>0.0</td><td>-0.0021657478980665486</td><td>4.397753873269786E-53</td></tr><tr><td>LLY</td><td>0.8614879983820816</td><td>0.0</td><td>-0.0011048040105243867</td><td>1.900318665870742E-11</td></tr><tr><td>EMR</td><td>0.9948052798204127</td><td>0.0</td><td>1.483054433476504E-4</td><td>0.18447442951128973</td></tr><tr><td>ENPH</td><td>1.2713361345766294</td><td>0.0</td><td>0.004007592496282446</td><td>1.0920912799245659E-26</td></tr><tr><td>ETR</td><td>0.9073772595161094</td><td>0.0</td><td>-0.0015161891211229598</td><td>6.1166367230584806E-33</td></tr><tr><td>EOG</td><td>1.0353356931525044</td><td>0.0</td><td>0.0012798996038833488</td><td>6.90247829342273E-8</td></tr><tr><td>EFX</td><td>1.0391930963590663</td><td>0.0</td><td>5.85669237833948E-4</td><td>7.060770114500775E-5</td></tr><tr><td>EQIX</td><td>0.946704813656568</td><td>0.0</td><td>-0.0010935305851494225</td><td>5.270174091387101E-15</td></tr><tr><td>EQR</td><td>0.9882587565659064</td><td>0.0</td><td>-6.361384204351196E-4</td><td>9.225077532271441E-7</td></tr><tr><td>ESS</td><td>0.9840180830792827</td><td>0.0</td><td>-6.538540946879596E-4</td><td>1.1325203931350689E-6</td></tr><tr><td>EL</td><td>1.1106067534384638</td><td>0.0</td><td>7.489153302040487E-4</td><td>4.0887009574058913E-7</td></tr><tr><td>ETSY</td><td>1.1991948949945537</td><td>0.0</td><td>0.002243652777024195</td><td>1.0186889965637938E-12</td></tr><tr><td>EVRG</td><td>0.8834896544137657</td><td>0.0</td><td>-0.001879072655858826</td><td>1.2786352903857442E-48</td></tr><tr><td>ES</td><td>0.8840952140346346</td><td>0.0</td><td>-0.0020328192227826326</td><td>9.550313236003824E-57</td></tr><tr><td>EXC</td><td>0.9458892548121565</td><td>0.0</td><td>-5.62301001480399E-4</td><td>1.4834686252598429E-6</td></tr><tr><td>EXPE</td><td>1.1608524775661537</td><td>0.0</td><td>0.002084168381524925</td><td>9.569170620409186E-21</td></tr><tr><td>EXPD</td><td>0.9465120334966171</td><td>0.0</td><td>-4.2995301171867254E-4</td><td>2.2648951194176165E-4</td></tr><tr><td>EXR</td><td>0.9878648428273795</td><td>0.0</td><td>-2.9941266739150934E-4</td><td>0.038148861215480376</td></tr><tr><td>XOM</td><td>0.9650173521817205</td><td>0.0</td><td>2.6513552646147146E-5</td><td>0.8809011258806709</td></tr><tr><td>FFIV</td><td>1.0187526560604443</td><td>0.0</td><td>2.718564660966297E-5</td><td>0.8470153995700593</td></tr><tr><td>FAST</td><td>0.976200636547439</td><td>0.0</td><td>-6.6907160074202E-7</td><td>0.9948215125088598</td></tr><tr><td>FRT</td><td>1.0214575499332204</td><td>0.0</td><td>-1.3352663008378347E-5</td><td>0.9345685196013263</td></tr><tr><td>FDX</td><td>1.016498110986094</td><td>0.0</td><td>4.469235038701223E-4</td><td>0.010750910873779239</td></tr><tr><td>FIS</td><td>1.0514083042987683</td><td>0.0</td><td>-0.0010658321523745362</td><td>3.377499755270294E-8</td></tr><tr><td>FITB</td><td>1.1366579418213867</td><td>0.0</td><td>0.0016115908522662788</td><td>9.599497980380268E-18</td></tr><tr><td>FE</td><td>0.8837647094837863</td><td>0.0</td><td>-0.002172413463493488</td><td>1.0973541976073541E-38</td></tr><tr><td>FLT</td><td>1.0364455194366673</td><td>0.0</td><td>-2.5862363498332458E-5</td><td>0.8535128398195918</td></tr><tr><td>FMC</td><td>0.9897761407203324</td><td>0.0</td><td>-4.6293100667877676E-4</td><td>8.483010538923533E-4</td></tr><tr><td>F</td><td>1.135843502678227</td><td>0.0</td><td>0.0019831264422039197</td><td>1.9612656044131708E-22</td></tr><tr><td>FTNT</td><td>1.1301901618760009</td><td>0.0</td><td>0.00196427285651539</td><td>1.330022714024571E-19</td></tr><tr><td>FTV</td><td>0.9936394912119327</td><td>0.0</td><td>-1.121342737579073E-4</td><td>0.3046973650831163</td></tr><tr><td>FOXA</td><td>0.9414931824659714</td><td>0.0</td><td>-0.0011087228577937836</td><td>1.5513804347351518E-10</td></tr><tr><td>FOX</td><td>0.948826193610695</td><td>0.0</td><td>-0.0010250344935531426</td><td>2.1703515598463608E-10</td></tr><tr><td>BEN</td><td>1.0878646363754003</td><td>0.0</td><td>0.001078275371616244</td><td>1.4595916629039547E-11</td></tr><tr><td>FCX</td><td>1.1659913562708153</td><td>0.0</td><td>0.002970877964825642</td><td>6.578335329892226E-38</td></tr><tr><td>GPS</td><td>1.1833013987928604</td><td>0.0</td><td>0.0020298844460224473</td><td>1.983954726080257E-10</td></tr><tr><td>GRMN</td><td>0.9941637575841773</td><td>0.0</td><td>-4.3484392511023773E-4</td><td>4.3095141205826166E-5</td></tr><tr><td>IT</td><td>1.057536413530999</td><td>0.0</td><td>0.0015388278014998756</td><td>4.3798481074865336E-29</td></tr><tr><td>GNRC</td><td>1.2238928391271475</td><td>0.0</td><td>0.00225874690221072</td><td>4.630567761440469E-17</td></tr><tr><td>GD</td><td>0.9322095938381529</td><td>0.0</td><td>-8.692572745113412E-4</td><td>7.194512826184858E-15</td></tr><tr><td>GE</td><td>0.9758846261250139</td><td>0.0</td><td>-3.9085137976207335E-4</td><td>0.0432917599226159</td></tr><tr><td>GIS</td><td>0.8136191506904056</td><td>0.0</td><td>-0.0026498204011986205</td><td>1.9977661157597323E-88</td></tr><tr><td>GM</td><td>1.1126793963759476</td><td>0.0</td><td>0.0010318021619129245</td><td>3.7143623646053834E-8</td></tr><tr><td>GPC</td><td>0.9824282169092595</td><td>0.0</td><td>1.4901524909648336E-4</td><td>0.20702505052697456</td></tr><tr><td>GILD</td><td>0.850843899326094</td><td>0.0</td><td>-0.0025662431366890058</td><td>1.6920533203384224E-89</td></tr><tr><td>GPN</td><td>1.0824146911820076</td><td>0.0</td><td>-3.860202061176844E-6</td><td>0.9804647422265421</td></tr><tr><td>GL</td><td>0.9766976478886256</td><td>0.0</td><td>-4.2933812086853293E-4</td><td>7.170083618656399E-4</td></tr><tr><td>GS</td><td>1.0142506584551543</td><td>0.0</td><td>5.026249783268351E-4</td><td>3.4581246825678724E-5</td></tr><tr><td>HAL</td><td>1.1130539155569905</td><td>0.0</td><td>0.002661302711551313</td><td>1.0815202471495915E-23</td></tr><tr><td>HBI</td><td>1.1227141445149464</td><td>0.0</td><td>3.3259896616149424E-5</td><td>0.9017596676552498</td></tr><tr><td>HAS</td><td>0.9851083532173892</td><td>0.0</td><td>-0.0010867824935514114</td><td>3.5414013115434438E-12</td></tr><tr><td>HCA</td><td>1.0228046542321687</td><td>0.0</td><td>9.291431114012826E-4</td><td>9.208164668608095E-8</td></tr><tr><td>PEAK</td><td>1.0107871394111412</td><td>0.0</td><td>-4.4027468163319536E-4</td><td>0.001302435145038834</td></tr><tr><td>HSIC</td><td>0.9538868956938249</td><td>0.0</td><td>-7.224646387011812E-4</td><td>2.9531225652033974E-7</td></tr><tr><td>HES</td><td>1.0582062565181323</td><td>0.0</td><td>0.0017800927283810211</td><td>9.098188701124834E-14</td></tr><tr><td>HPE</td><td>1.0257207920836935</td><td>0.0</td><td>3.667320571675768E-4</td><td>0.020620576471637998</td></tr><tr><td>HLT</td><td>1.0406645928692781</td><td>0.0</td><td>8.780195681040788E-4</td><td>2.9848810052516147E-9</td></tr><tr><td>HOLX</td><td>0.9306241727714867</td><td>0.0</td><td>-6.71099185290373E-4</td><td>6.781160301700623E-6</td></tr><tr><td>HD</td><td>0.9802965437729115</td><td>0.0</td><td>-5.396102601789226E-6</td><td>0.9581448300535226</td></tr><tr><td>HON</td><td>0.9914275692371154</td><td>0.0</td><td>-2.0312682053890218E-4</td><td>0.041117545736358084</td></tr><tr><td>HRL</td><td>0.8012144210997548</td><td>0.0</td><td>-0.003378910967584909</td><td>4.2702879935985835E-139</td></tr><tr><td>HST</td><td>1.0738721339621524</td><td>0.0</td><td>6.630052237625238E-4</td><td>5.052523767425878E-4</td></tr><tr><td>HWM</td><td>1.097423217259554</td><td>0.0</td><td>0.0021651037696063503</td><td>3.534814408007718E-30</td></tr><tr><td>HPQ</td><td>1.0899186217002776</td><td>0.0</td><td>0.0014458575398501245</td><td>1.0233162533962888E-19</td></tr><tr><td>HUM</td><td>0.883809292704189</td><td>0.0</td><td>-0.001839709565208138</td><td>9.069553389688313E-30</td></tr><tr><td>HBAN</td><td>1.0838844476648886</td><td>0.0</td><td>7.492924923287982E-4</td><td>1.5964037172051888E-4</td></tr><tr><td>HII</td><td>0.8900218716063717</td><td>0.0</td><td>-0.0018861673453429916</td><td>2.6139921995655953E-39</td></tr><tr><td>IBM</td><td>0.9057568818289448</td><td>0.0</td><td>-0.0014749826409163798</td><td>1.689955340915893E-33</td></tr><tr><td>IEX</td><td>0.9572732802113442</td><td>0.0</td><td>-6.155464117963022E-4</td><td>3.3456508544030727E-9</td></tr><tr><td>IDXX</td><td>1.0429373941884925</td><td>0.0</td><td>7.685532720710052E-4</td><td>2.5854659486995893E-7</td></tr><tr><td>ITW</td><td>0.9577184988540718</td><td>0.0</td><td>-5.388131096764939E-4</td><td>3.067406068427438E-9</td></tr><tr><td>ILMN</td><td>1.0725000333857504</td><td>0.0</td><td>-4.629591176765834E-4</td><td>0.03156867542658996</td></tr><tr><td>INCY</td><td>0.9008028696161169</td><td>0.0</td><td>-0.002407261765318997</td><td>8.338102909784631E-50</td></tr><tr><td>IR</td><td>1.043222388580315</td><td>0.0</td><td>9.703992993289088E-4</td><td>1.0404853275691407E-12</td></tr><tr><td>INTC</td><td>1.0099234448470635</td><td>0.0</td><td>-0.0012281969990982293</td><td>5.838014341141445E-13</td></tr><tr><td>ICE</td><td>0.9429905578873629</td><td>0.0</td><td>-9.531522546144749E-4</td><td>1.9780376709868634E-22</td></tr><tr><td>IFF</td><td>1.0310202019542145</td><td>0.0</td><td>-7.775987568903815E-4</td><td>9.13163861325361E-7</td></tr><tr><td>IP</td><td>0.973874329160281</td><td>0.0</td><td>-6.952784273315609E-4</td><td>2.8133234829432755E-6</td></tr><tr><td>IPG</td><td>1.0524496189747947</td><td>0.0</td><td>9.551825006724472E-4</td><td>1.874471794911905E-9</td></tr><tr><td>INTU</td><td>1.1407702583724812</td><td>0.0</td><td>0.0019027607041308976</td><td>2.319052235354772E-40</td></tr><tr><td>ISRG</td><td>1.0765046510994052</td><td>0.0</td><td>0.0011345503933089284</td><td>1.267741729472836E-15</td></tr><tr><td>IVZ</td><td>1.156749207935758</td><td>0.0</td><td>0.00213737934382244</td><td>1.142711757615242E-25</td></tr><tr><td>IPGP</td><td>1.0320522626849902</td><td>0.0</td><td>-6.955208860528062E-4</td><td>6.010712132742498E-4</td></tr><tr><td>IQV</td><td>1.054435951749409</td><td>0.0</td><td>8.205886666938514E-4</td><td>2.1202888269995397E-12</td></tr><tr><td>IRM</td><td>0.9620486379791862</td><td>0.0</td><td>2.2517386202773932E-4</td><td>0.14443610422082118</td></tr><tr><td>JBHT</td><td>0.9629580922366684</td><td>0.0</td><td>-3.3264717640972785E-4</td><td>0.0192595067995691</td></tr><tr><td>JKHY</td><td>0.9383913575454468</td><td>0.0</td><td>-0.0014108865774168989</td><td>1.2919199200042544E-23</td></tr><tr><td>J</td><td>0.9916104986654692</td><td>0.0</td><td>-2.786690736214856E-4</td><td>0.01829291986981962</td></tr><tr><td>SJM</td><td>0.794490015400764</td><td>0.0</td><td>-0.0029096619566952547</td><td>1.2995668939021217E-93</td></tr><tr><td>JNJ</td><td>0.8397480489695561</td><td>0.0</td><td>-0.0023867082027595383</td><td>5.394986842625022E-115</td></tr><tr><td>JCI</td><td>1.0098921001248389</td><td>0.0</td><td>5.670726406566273E-4</td><td>4.91852061342472E-6</td></tr><tr><td>JPM</td><td>0.9779815444433532</td><td>0.0</td><td>-3.5456197572493323E-4</td><td>0.005896031433249331</td></tr><tr><td>JNPR</td><td>0.995014232294039</td><td>0.0</td><td>-3.632456017071704E-4</td><td>0.003776953677366722</td></tr><tr><td>K</td><td>0.7976376716605654</td><td>0.0</td><td>-0.003107948582396924</td><td>9.305885013716079E-123</td></tr><tr><td>KEY</td><td>1.1513980027068595</td><td>0.0</td><td>0.001094087344880281</td><td>4.856842630602645E-6</td></tr><tr><td>KEYS</td><td>1.026766294467519</td><td>0.0</td><td>2.0561928127237303E-4</td><td>0.09546429436087644</td></tr><tr><td>KMB</td><td>0.8169250624621682</td><td>0.0</td><td>-0.002972773426156098</td><td>3.635247578357125E-134</td></tr><tr><td>KIM</td><td>1.0902145600191362</td><td>0.0</td><td>0.0013864479275454682</td><td>5.309973883874942E-13</td></tr><tr><td>KMI</td><td>0.9483866227396723</td><td>0.0</td><td>-8.232009268826553E-4</td><td>4.702480517987664E-10</td></tr><tr><td>KLAC</td><td>1.1548082810872649</td><td>0.0</td><td>0.002620390050857926</td><td>8.582904517749735E-49</td></tr><tr><td>KHC</td><td>0.8645119970961577</td><td>0.0</td><td>-0.001996650167923587</td><td>2.4912820898035897E-49</td></tr><tr><td>KR</td><td>0.7995018929270628</td><td>0.0</td><td>-0.002828950362289096</td><td>8.770822304654697E-58</td></tr><tr><td>LHX</td><td>0.8936396605279323</td><td>0.0</td><td>-0.002116569770241042</td><td>8.60924638026161E-51</td></tr><tr><td>LH</td><td>0.9347720862970673</td><td>0.0</td><td>-6.709718105363644E-4</td><td>5.193183633895626E-7</td></tr><tr><td>LRCX</td><td>1.1692424005857522</td><td>0.0</td><td>0.0025375507768358313</td><td>4.262231927012134E-37</td></tr><tr><td>LW</td><td>0.9591880195784392</td><td>0.0</td><td>-4.912435249956439E-4</td><td>0.004163455538202905</td></tr><tr><td>LVS</td><td>1.023724026281959</td><td>0.0</td><td>-4.2514866672966364E-4</td><td>0.0664640136978609</td></tr><tr><td>LEG</td><td>1.0511011799608525</td><td>0.0</td><td>2.5392669284588014E-4</td><td>0.15333705596613612</td></tr><tr><td>LDOS</td><td>0.9048024283977201</td><td>0.0</td><td>-0.0018324015189974906</td><td>1.229341475602258E-35</td></tr><tr><td>LEN</td><td>1.071329879884834</td><td>0.0</td><td>0.0016966838548489044</td><td>1.2216835052556513E-19</td></tr><tr><td>LNC</td><td>1.263955219032695</td><td>0.0</td><td>0.0023884437751844866</td><td>3.563456768220546E-18</td></tr><tr><td>LIN</td><td>0.9807989123640778</td><td>0.0</td><td>2.0382518661881955E-4</td><td>0.035310962891465236</td></tr><tr><td>LYV</td><td>1.107470915470754</td><td>0.0</td><td>0.0013879120327403855</td><td>3.1566593900212995E-11</td></tr><tr><td>LKQ</td><td>1.0543935125751591</td><td>0.0</td><td>0.0012388164721913624</td><td>4.344995069782056E-18</td></tr></tbody></table></div>"
      ]
     },
     "metadata": {
      "application/vnd.databricks.v1+output": {
       "addedWidgets": {},
       "aggData": [],
       "aggError": "",
       "aggOverflow": false,
       "aggSchema": [],
       "aggSeriesLimitReached": false,
       "aggType": "",
       "arguments": {},
       "columnCustomDisplayInfos": {},
       "data": [
        [
         "MMM",
         0.9427178083213479,
         0.0,
         -0.0015539360426961371,
         1.670622229561558E-38
        ],
        [
         "AOS",
         0.9832066810561861,
         0.0,
         -1.8329952352246748E-4,
         0.17999632812561028
        ],
        [
         "ABT",
         0.9437416800069042,
         0.0,
         -9.724477885143035E-4,
         3.3920310773315196E-18
        ],
        [
         "ABBV",
         0.8681055476238482,
         0.0,
         -0.0014565050303953363,
         7.350443181364701E-29
        ],
        [
         "ACN",
         1.0582471024393767,
         0.0,
         9.112481522191239E-4,
         5.303410964462857E-22
        ],
        [
         "ATVI",
         0.8256361527697422,
         0.0,
         -0.002733113392205081,
         5.688208762751674E-72
        ],
        [
         "ADM",
         0.9525470565469555,
         0.0,
         -1.5889983654266158E-4,
         0.23008884106774014
        ],
        [
         "ADBE",
         1.073428172095016,
         0.0,
         8.681931616285828E-4,
         5.998061637252829E-8
        ],
        [
         "AAP",
         1.090304304910073,
         0.0,
         -6.1123700666051E-5,
         0.790372371306961
        ],
        [
         "AMD",
         1.1849455431520013,
         0.0,
         0.0023017699328884414,
         4.548620447868185E-22
        ],
        [
         "AES",
         1.0626718270094164,
         0.0,
         6.950253852415576E-4,
         9.723239966007948E-6
        ],
        [
         "AFL",
         0.9658377946874049,
         0.0,
         -2.036818141637425E-4,
         0.08010982068240016
        ],
        [
         "A",
         1.0315996660212938,
         0.0,
         4.1550651986933893E-4,
         1.9188029193433292E-4
        ],
        [
         "APD",
         0.951662294102624,
         0.0,
         -6.245830004001359E-4,
         1.4900566318321765E-7
        ],
        [
         "AKAM",
         0.923172754726701,
         0.0,
         -0.0017405459798644075,
         2.518810306886582E-34
        ],
        [
         "ALK",
         1.0961286966489145,
         0.0,
         9.08999859080087E-4,
         3.103420885669883E-5
        ],
        [
         "ALB",
         1.18199406671767,
         0.0,
         0.002905551422193531,
         6.089474479536164E-34
        ],
        [
         "ARE",
         0.999857196015646,
         0.0,
         -6.437937768330804E-4,
         7.104209179715952E-8
        ],
        [
         "ALGN",
         1.1708967962943464,
         0.0,
         0.0021864825378635393,
         4.674231075233415E-19
        ],
        [
         "ALLE",
         1.0146680180137948,
         0.0,
         -2.095197797456359E-4,
         0.08525590916516824
        ],
        [
         "LNT",
         0.8899892195850232,
         0.0,
         -0.0017084154532041994,
         1.7758496856019961E-43
        ],
        [
         "ALL",
         0.9482963704466393,
         0.0,
         -0.0010678877126320673,
         1.1412810386618938E-14
        ],
        [
         "GOOGL",
         1.0631986777848563,
         0.0,
         8.744168932424128E-4,
         2.2592244830435867E-13
        ],
        [
         "GOOG",
         1.063249028835795,
         0.0,
         8.829388951997084E-4,
         1.451311822790651E-13
        ],
        [
         "MO",
         0.8753352852114085,
         0.0,
         -0.0018085117578371392,
         2.578824663878826E-42
        ],
        [
         "AMZN",
         1.0812558554406697,
         0.0,
         3.7738633286123067E-4,
         0.01638653689815735
        ],
        [
         "AMCR",
         0.9918388276250084,
         0.0,
         -2.621979185642417E-4,
         0.019425347974849787
        ],
        [
         "AEE",
         0.880172793420002,
         0.0,
         -0.0017912320438818025,
         1.014975841942482E-51
        ],
        [
         "AAL",
         1.1460790152659928,
         0.0,
         0.00113560010435567,
         1.2561088252241657E-4
        ],
        [
         "AEP",
         0.8836331182667607,
         0.0,
         -0.0018670925896689462,
         5.21521529571221E-53
        ],
        [
         "AXP",
         1.0680143688066623,
         0.0,
         8.993174019158853E-4,
         1.4534779291425182E-9
        ],
        [
         "AIG",
         1.068991682073755,
         0.0,
         0.0013471363368851774,
         1.1389486546490022E-14
        ],
        [
         "AMT",
         0.9705926752180982,
         0.0,
         -0.0013342102232540005,
         4.261372890449026E-25
        ],
        [
         "AWK",
         0.9179652363413778,
         0.0,
         -0.001402429618024103,
         1.872452122037907E-31
        ],
        [
         "AMP",
         1.1106406141285632,
         0.0,
         0.0021776853377490054,
         8.56502348445442E-62
        ],
        [
         "ABC",
         0.8799736255504964,
         0.0,
         -0.001065215964541988,
         2.4213106296430197E-17
        ],
        [
         "AME",
         0.9745025477570242,
         0.0,
         -7.053621080655683E-5,
         0.40801894332180155
        ],
        [
         "AMGN",
         0.8646209995355305,
         0.0,
         -0.002080906485979593,
         2.545013837712949E-59
        ],
        [
         "APH",
         1.038262501240916,
         0.0,
         8.489589493970152E-4,
         2.95046200171531E-24
        ],
        [
         "ADI",
         1.0697612073968152,
         0.0,
         9.794917049349525E-4,
         3.403316862458526E-16
        ],
        [
         "ANSS",
         1.0850354194445417,
         0.0,
         5.808370970209059E-4,
         1.2569624693341268E-5
        ],
        [
         "AON",
         0.9538576978758461,
         0.0,
         -4.952369474200413E-4,
         1.684866972524792E-5
        ],
        [
         "APA",
         1.1849970172430695,
         0.0,
         0.0036232625046840475,
         4.8761554958669805E-29
        ],
        [
         "AAPL",
         1.0679074174565863,
         0.0,
         0.0015175869806323197,
         4.118234967454009E-42
        ],
        [
         "AMAT",
         1.1666530262357808,
         0.0,
         0.0026477761516760672,
         1.3973895559178826E-46
        ],
        [
         "APTV",
         1.175937761205222,
         0.0,
         0.002132117680249102,
         1.4955241128105234E-30
        ],
        [
         "ANET",
         1.0747705781057628,
         0.0,
         0.0015103432840268146,
         1.203743560885424E-16
        ],
        [
         "AJG",
         0.956728840840204,
         0.0,
         4.306039759631989E-5,
         0.6606424864215903
        ],
        [
         "AIZ",
         0.9499264959934512,
         0.0,
         -8.901854528054888E-4,
         9.499650665262134E-10
        ],
        [
         "T",
         0.8955028760612554,
         0.0,
         -0.0024516120195998167,
         1.2916105227256254E-71
        ],
        [
         "ATO",
         0.8666025377571421,
         0.0,
         -0.0021020086232457647,
         8.772775111385622E-63
        ],
        [
         "ADSK",
         1.1526078750212876,
         0.0,
         0.0016260554828251685,
         1.7774619783092997E-23
        ],
        [
         "ADP",
         0.9858199001241821,
         0.0,
         -2.960809487158405E-5,
         0.774000862776911
        ],
        [
         "AZO",
         0.9216935592379473,
         0.0,
         -3.775456168917757E-4,
         0.00412434432618684
        ],
        [
         "AVB",
         0.97213456646979,
         0.0,
         -6.629350230893269E-4,
         5.783230483847686E-8
        ],
        [
         "AVY",
         1.018931157853261,
         0.0,
         4.135786107052149E-4,
         9.012704145658941E-4
        ],
        [
         "BKR",
         0.988870452959704,
         0.0,
         3.994344290262881E-4,
         0.06788987991512341
        ],
        [
         "BAC",
         1.0430064728094735,
         0.0,
         2.6266655469461283E-4,
         0.07127630020616792
        ],
        [
         "BBWI",
         1.1759572507981764,
         0.0,
         0.002674367745573778,
         2.0709109326242084E-22
        ],
        [
         "BAX",
         0.9019431536970507,
         0.0,
         -0.002706494354556376,
         9.164951282962993E-73
        ],
        [
         "BDX",
         0.8364223987614717,
         0.0,
         -0.002546377259588273,
         2.365258765139913E-87
        ],
        [
         "BBY",
         1.0384959680616068,
         0.0,
         2.825951710717799E-4,
         0.10576282267830787
        ],
        [
         "BIO",
         0.9959780071846346,
         0.0,
         -8.741629502951997E-4,
         8.912281961827417E-7
        ],
        [
         "TECH",
         1.0484156011624255,
         0.0,
         5.411449437853357E-4,
         9.68261409127297E-4
        ],
        [
         "BIIB",
         0.9079088531314186,
         0.0,
         -0.0022084825741560438,
         7.415255266217351E-19
        ],
        [
         "BLK",
         1.0541158376087312,
         0.0,
         6.111628434500125E-4,
         4.120654940508942E-9
        ],
        [
         "BK",
         0.9970034629477312,
         0.0,
         -3.989696062666697E-4,
         0.003471466226123743
        ],
        [
         "BA",
         1.0749834222878256,
         0.0,
         5.77911232801151E-4,
         0.008595158669669194
        ],
        [
         "BKNG",
         1.0387854818474171,
         0.0,
         6.337588104555899E-4,
         1.354018180364932E-4
        ],
        [
         "BWA",
         1.0102740646341901,
         0.0,
         1.793579921366781E-5,
         0.9130877059379023
        ],
        [
         "BXP",
         1.0380524501868367,
         0.0,
         -6.106956349819765E-4,
         3.008034881144944E-4
        ],
        [
         "BSX",
         0.9600419547417732,
         0.0,
         -5.877716553506896E-4,
         1.4266099716630115E-6
        ],
        [
         "BMY",
         0.8510562904934342,
         0.0,
         -0.002461320984687629,
         1.7275187882745422E-89
        ],
        [
         "AVGO",
         1.0557413270631464,
         0.0,
         0.0015361015669123125,
         8.024311412137849E-36
        ],
        [
         "BR",
         0.9702231344419212,
         0.0,
         -3.05160517796611E-4,
         0.0021973275985063528
        ],
        [
         "BRO",
         0.9849540353456875,
         0.0,
         4.042419023777978E-5,
         0.7138494999864347
        ],
        [
         "CHRW",
         0.9383090644493625,
         0.0,
         -9.967632454784222E-4,
         1.397017629563035E-11
        ],
        [
         "CDNS",
         1.081334062375469,
         0.0,
         0.0016459245324440873,
         9.23802662966757E-30
        ],
        [
         "CZR",
         1.3528187332088293,
         0.0,
         0.004971593790182746,
         1.1810836099216686E-61
        ],
        [
         "CPB",
         0.794882780605422,
         0.0,
         -0.003308322895839453,
         2.1837108553489862E-108
        ],
        [
         "COF",
         1.1254337596213322,
         0.0,
         0.001703673777252121,
         9.478654358458114E-20
        ],
        [
         "CAH",
         0.8881703741706807,
         0.0,
         -0.0011293963363539262,
         5.025639545166642E-14
        ],
        [
         "KMX",
         1.106802635245183,
         0.0,
         8.133209806762568E-4,
         1.3911996993428284E-4
        ],
        [
         "CCL",
         1.2314163076689761,
         0.0,
         0.0019440832149236458,
         6.237478162207336E-8
        ],
        [
         "CARR",
         1.0229367604143205,
         0.0,
         0.001108309917074729,
         1.7103828698141879E-13
        ],
        [
         "CTLT",
         1.1213252267665235,
         0.0,
         4.2202563251195885E-4,
         0.1260131653342557
        ],
        [
         "CAT",
         0.9692642285742499,
         0.0,
         -4.504813518451733E-5,
         0.7551956504418734
        ],
        [
         "CBOE",
         0.8691106181838384,
         0.0,
         -0.0020562301525580548,
         1.5637599005167235E-49
        ],
        [
         "CBRE",
         1.0931826199984744,
         0.0,
         0.00129729019259102,
         1.3400996874466995E-18
        ],
        [
         "CDW",
         1.0649345190780097,
         0.0,
         0.0010137935718773528,
         2.1237746045830422E-18
        ],
        [
         "CE",
         1.0705933531833687,
         0.0,
         9.833255031823011E-4,
         8.93837220888571E-11
        ],
        [
         "CNC",
         0.9305512161055874,
         0.0,
         -0.001460993177879233,
         3.935333854682269E-17
        ],
        [
         "CNP",
         0.9390708955512393,
         0.0,
         -4.760458267928231E-4,
         3.2562372299163426E-4
        ],
        [
         "CDAY",
         1.1719874571447133,
         0.0,
         0.0017988118988905848,
         2.8854043282778667E-18
        ],
        [
         "CF",
         0.9905814614534079,
         0.0,
         1.4457787728284506E-4,
         0.5210293755707411
        ],
        [
         "CRL",
         1.060424661373489,
         0.0,
         4.901271472758951E-4,
         0.0043219331817342
        ],
        [
         "SCHW",
         1.0519507034498092,
         0.0,
         5.663012965511708E-4,
         0.001819002611965526
        ],
        [
         "CHTR",
         0.9376656737400821,
         0.0,
         -0.0015512180555600115,
         5.116322053187299E-22
        ],
        [
         "CVX",
         0.9636938635466548,
         0.0,
         -3.399638177216951E-4,
         0.02888567748465741
        ],
        [
         "CMG",
         1.0312556180257764,
         0.0,
         9.343052485349747E-4,
         4.5530121557410254E-10
        ],
        [
         "CB",
         0.9480493090106554,
         0.0,
         -5.570636404801702E-4,
         4.21496617485796E-5
        ],
        [
         "CHD",
         0.8195258230781959,
         0.0,
         -0.002532656383552639,
         1.0985168754225553E-85
        ],
        [
         "CI",
         0.925408655632397,
         0.0,
         -0.001023803125349844,
         7.682567288815489E-12
        ],
        [
         "CINF",
         1.0026344865698331,
         0.0,
         -2.906947497283734E-4,
         0.09040424855013375
        ],
        [
         "CTAS",
         1.028726785655074,
         0.0,
         8.887466588486634E-4,
         1.0166232405369335E-16
        ],
        [
         "CSCO",
         0.9525532921178632,
         0.0,
         -8.685500140810965E-4,
         1.542880105961118E-14
        ],
        [
         "C",
         1.0480295448329777,
         0.0,
         -8.594153380131795E-5,
         0.5948641503307656
        ],
        [
         "CFG",
         1.1249140257860981,
         0.0,
         0.0012776248424336326,
         1.9730658163773397E-10
        ],
        [
         "CLX",
         0.7816507533772784,
         0.0,
         -0.0037485130332576442,
         5.25554102246793E-113
        ],
        [
         "CME",
         0.8960655358535027,
         0.0,
         -0.001864185246398846,
         1.4701597804939374E-52
        ],
        [
         "CMS",
         0.8642726069471577,
         0.0,
         -0.0021616116429067477,
         2.8821027862278983E-68
        ],
        [
         "KO",
         0.8979230076204135,
         0.0,
         -0.0014033599494302584,
         6.102514754399328E-50
        ],
        [
         "CTSH",
         1.032697058228088,
         0.0,
         1.9871407618416546E-4,
         0.10966006764489823
        ],
        [
         "CL",
         0.8386521047409848,
         0.0,
         -0.0025148517036448804,
         1.2722283369931172E-121
        ],
        [
         "CMCSA",
         0.9408599636308416,
         0.0,
         -0.0010383016355488492,
         1.868076338871817E-17
        ],
        [
         "CMA",
         1.1670682184252965,
         0.0,
         0.0018897967797374283,
         1.3199442568393488E-12
        ],
        [
         "CAG",
         0.8353103006212967,
         0.0,
         -0.0026109840393507984,
         3.59422751419684E-84
        ],
        [
         "COP",
         1.0197480152110199,
         0.0,
         0.0011324444056878206,
         5.6442158868843577E-8
        ],
        [
         "ED",
         0.8458401944029911,
         0.0,
         -0.002250035339777238,
         4.957250578292323E-74
        ],
        [
         "STZ",
         0.9278971968819616,
         0.0,
         -7.728416027657914E-4,
         1.5573383609449787E-10
        ],
        [
         "CPRT",
         1.019773961476432,
         0.0,
         8.066941870180174E-4,
         4.613946864127121E-13
        ],
        [
         "GLW",
         1.0439038966133407,
         0.0,
         4.514357059979203E-4,
         1.4584270794922773E-4
        ],
        [
         "CTVA",
         0.9688146936925344,
         0.0,
         -4.100709779436854E-5,
         0.7881222081489956
        ],
        [
         "COST",
         0.9427955616663543,
         0.0,
         -6.835409563296167E-4,
         2.9110169522767837E-10
        ],
        [
         "CTRA",
         0.9272654848970795,
         0.0,
         -0.0010606235027599033,
         1.6799466193016621E-6
        ],
        [
         "CCI",
         0.9731574131167628,
         0.0,
         -0.0014523047762905754,
         1.4435926051828522E-28
        ],
        [
         "CSX",
         0.9877497976904877,
         0.0,
         -1.949864263682832E-4,
         0.06797839691496203
        ],
        [
         "CMI",
         0.9586679698095705,
         0.0,
         -5.274337805041959E-4,
         1.455491907784315E-5
        ],
        [
         "CVS",
         0.9371750697472139,
         0.0,
         -0.001044911488025133,
         3.482569352549953E-15
        ],
        [
         "DHI",
         1.0513139714649236,
         0.0,
         0.001418383757944558,
         1.4465452677142168E-15
        ],
        [
         "DHR",
         0.9901284013545842,
         0.0,
         -1.1639125859621743E-4,
         0.33855309458346594
        ],
        [
         "DRI",
         1.0304305543198702,
         0.0,
         0.0011145215819154946,
         7.638723515566308E-11
        ],
        [
         "DVA",
         0.8973783965556736,
         0.0,
         -0.0013492945912018351,
         1.3353866804054423E-11
        ],
        [
         "DE",
         0.9778352298823265,
         0.0,
         3.449113384754614E-4,
         0.0257728138548206
        ],
        [
         "DAL",
         1.0939657955597768,
         0.0,
         9.419746293273998E-4,
         2.047093112273121E-5
        ],
        [
         "XRAY",
         0.9744409888057242,
         0.0,
         -0.0010982640558964362,
         5.2949381874091195E-11
        ],
        [
         "DVN",
         1.168656639746627,
         0.0,
         0.003422766758442972,
         2.498442070015159E-34
        ],
        [
         "DXCM",
         1.085758270331082,
         0.0,
         8.184591299999032E-4,
         1.7260237844130948E-4
        ],
        [
         "FANG",
         1.0979564494232505,
         0.0,
         0.0023064648827781434,
         1.6665161506281318E-16
        ],
        [
         "DLR",
         0.9434430232115504,
         0.0,
         -0.001598970362396844,
         3.2119627736951754E-26
        ],
        [
         "DFS",
         1.1480208271382675,
         0.0,
         0.0024306391002744585,
         2.570425930261288E-35
        ],
        [
         "DISH",
         1.221240476557395,
         0.0,
         5.616824778287388E-4,
         0.03294387054194171
        ],
        [
         "DG",
         0.9184622951216461,
         0.0,
         -0.001809712374177468,
         2.142946002973965E-30
        ],
        [
         "DLTR",
         0.9465910568939567,
         0.0,
         -7.510569689086744E-4,
         7.170675665798535E-5
        ],
        [
         "D",
         0.8968347922857088,
         0.0,
         -0.0020998013282308874,
         1.3569710910039762E-62
        ],
        [
         "DPZ",
         0.8703545476941039,
         0.0,
         -0.002093011371951211,
         1.5288681643193528E-38
        ],
        [
         "DOV",
         1.001974965202729,
         0.0,
         4.239457823739269E-5,
         0.6717872272630395
        ],
        [
         "DOW",
         1.0171288904167124,
         0.0,
         3.556821429070208E-4,
         0.01878991555747929
        ],
        [
         "DTE",
         0.9011998602344337,
         0.0,
         -0.0015497846800567913,
         1.1122070112912932E-33
        ],
        [
         "DUK",
         0.8716923788084108,
         0.0,
         -0.0017957753766422034,
         3.5952925360163975E-51
        ],
        [
         "DD",
         1.024999116571258,
         0.0,
         6.82580139140526E-4,
         4.5842127556251513E-7
        ],
        [
         "DXC",
         1.1781730631990968,
         0.0,
         0.001984315585455547,
         5.063579280599732E-15
        ],
        [
         "EMN",
         1.061743673874849,
         0.0,
         7.498563034330528E-4,
         2.166895679331162E-7
        ],
        [
         "ETN",
         0.9852527034018184,
         0.0,
         3.415843760651816E-4,
         0.0026688817698159472
        ],
        [
         "EBAY",
         1.0092406791440447,
         0.0,
         -3.6002924170130024E-4,
         0.027788788023672798
        ],
        [
         "ECL",
         1.011452728193966,
         0.0,
         -3.03232639118935E-4,
         0.009241342627513685
        ],
        [
         "EIX",
         0.9104476782297367,
         0.0,
         -0.0012958656904704091,
         1.5880817692451308E-22
        ],
        [
         "EW",
         1.0259715588778382,
         0.0,
         -7.64527515928283E-5,
         0.6199469519031335
        ],
        [
         "EA",
         0.8676355522410641,
         0.0,
         -0.0021657478980665486,
         4.397753873269786E-53
        ],
        [
         "LLY",
         0.8614879983820816,
         0.0,
         -0.0011048040105243867,
         1.900318665870742E-11
        ],
        [
         "EMR",
         0.9948052798204127,
         0.0,
         1.483054433476504E-4,
         0.18447442951128973
        ],
        [
         "ENPH",
         1.2713361345766294,
         0.0,
         0.004007592496282446,
         1.0920912799245659E-26
        ],
        [
         "ETR",
         0.9073772595161094,
         0.0,
         -0.0015161891211229598,
         6.1166367230584806E-33
        ],
        [
         "EOG",
         1.0353356931525044,
         0.0,
         0.0012798996038833488,
         6.90247829342273E-8
        ],
        [
         "EFX",
         1.0391930963590663,
         0.0,
         5.85669237833948E-4,
         7.060770114500775E-5
        ],
        [
         "EQIX",
         0.946704813656568,
         0.0,
         -0.0010935305851494225,
         5.270174091387101E-15
        ],
        [
         "EQR",
         0.9882587565659064,
         0.0,
         -6.361384204351196E-4,
         9.225077532271441E-7
        ],
        [
         "ESS",
         0.9840180830792827,
         0.0,
         -6.538540946879596E-4,
         1.1325203931350689E-6
        ],
        [
         "EL",
         1.1106067534384638,
         0.0,
         7.489153302040487E-4,
         4.0887009574058913E-7
        ],
        [
         "ETSY",
         1.1991948949945537,
         0.0,
         0.002243652777024195,
         1.0186889965637938E-12
        ],
        [
         "EVRG",
         0.8834896544137657,
         0.0,
         -0.001879072655858826,
         1.2786352903857442E-48
        ],
        [
         "ES",
         0.8840952140346346,
         0.0,
         -0.0020328192227826326,
         9.550313236003824E-57
        ],
        [
         "EXC",
         0.9458892548121565,
         0.0,
         -5.62301001480399E-4,
         1.4834686252598429E-6
        ],
        [
         "EXPE",
         1.1608524775661537,
         0.0,
         0.002084168381524925,
         9.569170620409186E-21
        ],
        [
         "EXPD",
         0.9465120334966171,
         0.0,
         -4.2995301171867254E-4,
         2.2648951194176165E-4
        ],
        [
         "EXR",
         0.9878648428273795,
         0.0,
         -2.9941266739150934E-4,
         0.038148861215480376
        ],
        [
         "XOM",
         0.9650173521817205,
         0.0,
         2.6513552646147146E-5,
         0.8809011258806709
        ],
        [
         "FFIV",
         1.0187526560604443,
         0.0,
         2.718564660966297E-5,
         0.8470153995700593
        ],
        [
         "FAST",
         0.976200636547439,
         0.0,
         -6.6907160074202E-7,
         0.9948215125088598
        ],
        [
         "FRT",
         1.0214575499332204,
         0.0,
         -1.3352663008378347E-5,
         0.9345685196013263
        ],
        [
         "FDX",
         1.016498110986094,
         0.0,
         4.469235038701223E-4,
         0.010750910873779239
        ],
        [
         "FIS",
         1.0514083042987683,
         0.0,
         -0.0010658321523745362,
         3.377499755270294E-8
        ],
        [
         "FITB",
         1.1366579418213867,
         0.0,
         0.0016115908522662788,
         9.599497980380268E-18
        ],
        [
         "FE",
         0.8837647094837863,
         0.0,
         -0.002172413463493488,
         1.0973541976073541E-38
        ],
        [
         "FLT",
         1.0364455194366673,
         0.0,
         -2.5862363498332458E-5,
         0.8535128398195918
        ],
        [
         "FMC",
         0.9897761407203324,
         0.0,
         -4.6293100667877676E-4,
         8.483010538923533E-4
        ],
        [
         "F",
         1.135843502678227,
         0.0,
         0.0019831264422039197,
         1.9612656044131708E-22
        ],
        [
         "FTNT",
         1.1301901618760009,
         0.0,
         0.00196427285651539,
         1.330022714024571E-19
        ],
        [
         "FTV",
         0.9936394912119327,
         0.0,
         -1.121342737579073E-4,
         0.3046973650831163
        ],
        [
         "FOXA",
         0.9414931824659714,
         0.0,
         -0.0011087228577937836,
         1.5513804347351518E-10
        ],
        [
         "FOX",
         0.948826193610695,
         0.0,
         -0.0010250344935531426,
         2.1703515598463608E-10
        ],
        [
         "BEN",
         1.0878646363754003,
         0.0,
         0.001078275371616244,
         1.4595916629039547E-11
        ],
        [
         "FCX",
         1.1659913562708153,
         0.0,
         0.002970877964825642,
         6.578335329892226E-38
        ],
        [
         "GPS",
         1.1833013987928604,
         0.0,
         0.0020298844460224473,
         1.983954726080257E-10
        ],
        [
         "GRMN",
         0.9941637575841773,
         0.0,
         -4.3484392511023773E-4,
         4.3095141205826166E-5
        ],
        [
         "IT",
         1.057536413530999,
         0.0,
         0.0015388278014998756,
         4.3798481074865336E-29
        ],
        [
         "GNRC",
         1.2238928391271475,
         0.0,
         0.00225874690221072,
         4.630567761440469E-17
        ],
        [
         "GD",
         0.9322095938381529,
         0.0,
         -8.692572745113412E-4,
         7.194512826184858E-15
        ],
        [
         "GE",
         0.9758846261250139,
         0.0,
         -3.9085137976207335E-4,
         0.0432917599226159
        ],
        [
         "GIS",
         0.8136191506904056,
         0.0,
         -0.0026498204011986205,
         1.9977661157597323E-88
        ],
        [
         "GM",
         1.1126793963759476,
         0.0,
         0.0010318021619129245,
         3.7143623646053834E-8
        ],
        [
         "GPC",
         0.9824282169092595,
         0.0,
         1.4901524909648336E-4,
         0.20702505052697456
        ],
        [
         "GILD",
         0.850843899326094,
         0.0,
         -0.0025662431366890058,
         1.6920533203384224E-89
        ],
        [
         "GPN",
         1.0824146911820076,
         0.0,
         -3.860202061176844E-6,
         0.9804647422265421
        ],
        [
         "GL",
         0.9766976478886256,
         0.0,
         -4.2933812086853293E-4,
         7.170083618656399E-4
        ],
        [
         "GS",
         1.0142506584551543,
         0.0,
         5.026249783268351E-4,
         3.4581246825678724E-5
        ],
        [
         "HAL",
         1.1130539155569905,
         0.0,
         0.002661302711551313,
         1.0815202471495915E-23
        ],
        [
         "HBI",
         1.1227141445149464,
         0.0,
         3.3259896616149424E-5,
         0.9017596676552498
        ],
        [
         "HAS",
         0.9851083532173892,
         0.0,
         -0.0010867824935514114,
         3.5414013115434438E-12
        ],
        [
         "HCA",
         1.0228046542321687,
         0.0,
         9.291431114012826E-4,
         9.208164668608095E-8
        ],
        [
         "PEAK",
         1.0107871394111412,
         0.0,
         -4.4027468163319536E-4,
         0.001302435145038834
        ],
        [
         "HSIC",
         0.9538868956938249,
         0.0,
         -7.224646387011812E-4,
         2.9531225652033974E-7
        ],
        [
         "HES",
         1.0582062565181323,
         0.0,
         0.0017800927283810211,
         9.098188701124834E-14
        ],
        [
         "HPE",
         1.0257207920836935,
         0.0,
         3.667320571675768E-4,
         0.020620576471637998
        ],
        [
         "HLT",
         1.0406645928692781,
         0.0,
         8.780195681040788E-4,
         2.9848810052516147E-9
        ],
        [
         "HOLX",
         0.9306241727714867,
         0.0,
         -6.71099185290373E-4,
         6.781160301700623E-6
        ],
        [
         "HD",
         0.9802965437729115,
         0.0,
         -5.396102601789226E-6,
         0.9581448300535226
        ],
        [
         "HON",
         0.9914275692371154,
         0.0,
         -2.0312682053890218E-4,
         0.041117545736358084
        ],
        [
         "HRL",
         0.8012144210997548,
         0.0,
         -0.003378910967584909,
         4.2702879935985835E-139
        ],
        [
         "HST",
         1.0738721339621524,
         0.0,
         6.630052237625238E-4,
         5.052523767425878E-4
        ],
        [
         "HWM",
         1.097423217259554,
         0.0,
         0.0021651037696063503,
         3.534814408007718E-30
        ],
        [
         "HPQ",
         1.0899186217002776,
         0.0,
         0.0014458575398501245,
         1.0233162533962888E-19
        ],
        [
         "HUM",
         0.883809292704189,
         0.0,
         -0.001839709565208138,
         9.069553389688313E-30
        ],
        [
         "HBAN",
         1.0838844476648886,
         0.0,
         7.492924923287982E-4,
         1.5964037172051888E-4
        ],
        [
         "HII",
         0.8900218716063717,
         0.0,
         -0.0018861673453429916,
         2.6139921995655953E-39
        ],
        [
         "IBM",
         0.9057568818289448,
         0.0,
         -0.0014749826409163798,
         1.689955340915893E-33
        ],
        [
         "IEX",
         0.9572732802113442,
         0.0,
         -6.155464117963022E-4,
         3.3456508544030727E-9
        ],
        [
         "IDXX",
         1.0429373941884925,
         0.0,
         7.685532720710052E-4,
         2.5854659486995893E-7
        ],
        [
         "ITW",
         0.9577184988540718,
         0.0,
         -5.388131096764939E-4,
         3.067406068427438E-9
        ],
        [
         "ILMN",
         1.0725000333857504,
         0.0,
         -4.629591176765834E-4,
         0.03156867542658996
        ],
        [
         "INCY",
         0.9008028696161169,
         0.0,
         -0.002407261765318997,
         8.338102909784631E-50
        ],
        [
         "IR",
         1.043222388580315,
         0.0,
         9.703992993289088E-4,
         1.0404853275691407E-12
        ],
        [
         "INTC",
         1.0099234448470635,
         0.0,
         -0.0012281969990982293,
         5.838014341141445E-13
        ],
        [
         "ICE",
         0.9429905578873629,
         0.0,
         -9.531522546144749E-4,
         1.9780376709868634E-22
        ],
        [
         "IFF",
         1.0310202019542145,
         0.0,
         -7.775987568903815E-4,
         9.13163861325361E-7
        ],
        [
         "IP",
         0.973874329160281,
         0.0,
         -6.952784273315609E-4,
         2.8133234829432755E-6
        ],
        [
         "IPG",
         1.0524496189747947,
         0.0,
         9.551825006724472E-4,
         1.874471794911905E-9
        ],
        [
         "INTU",
         1.1407702583724812,
         0.0,
         0.0019027607041308976,
         2.319052235354772E-40
        ],
        [
         "ISRG",
         1.0765046510994052,
         0.0,
         0.0011345503933089284,
         1.267741729472836E-15
        ],
        [
         "IVZ",
         1.156749207935758,
         0.0,
         0.00213737934382244,
         1.142711757615242E-25
        ],
        [
         "IPGP",
         1.0320522626849902,
         0.0,
         -6.955208860528062E-4,
         6.010712132742498E-4
        ],
        [
         "IQV",
         1.054435951749409,
         0.0,
         8.205886666938514E-4,
         2.1202888269995397E-12
        ],
        [
         "IRM",
         0.9620486379791862,
         0.0,
         2.2517386202773932E-4,
         0.14443610422082118
        ],
        [
         "JBHT",
         0.9629580922366684,
         0.0,
         -3.3264717640972785E-4,
         0.0192595067995691
        ],
        [
         "JKHY",
         0.9383913575454468,
         0.0,
         -0.0014108865774168989,
         1.2919199200042544E-23
        ],
        [
         "J",
         0.9916104986654692,
         0.0,
         -2.786690736214856E-4,
         0.01829291986981962
        ],
        [
         "SJM",
         0.794490015400764,
         0.0,
         -0.0029096619566952547,
         1.2995668939021217E-93
        ],
        [
         "JNJ",
         0.8397480489695561,
         0.0,
         -0.0023867082027595383,
         5.394986842625022E-115
        ],
        [
         "JCI",
         1.0098921001248389,
         0.0,
         5.670726406566273E-4,
         4.91852061342472E-6
        ],
        [
         "JPM",
         0.9779815444433532,
         0.0,
         -3.5456197572493323E-4,
         0.005896031433249331
        ],
        [
         "JNPR",
         0.995014232294039,
         0.0,
         -3.632456017071704E-4,
         0.003776953677366722
        ],
        [
         "K",
         0.7976376716605654,
         0.0,
         -0.003107948582396924,
         9.305885013716079E-123
        ],
        [
         "KEY",
         1.1513980027068595,
         0.0,
         0.001094087344880281,
         4.856842630602645E-6
        ],
        [
         "KEYS",
         1.026766294467519,
         0.0,
         2.0561928127237303E-4,
         0.09546429436087644
        ],
        [
         "KMB",
         0.8169250624621682,
         0.0,
         -0.002972773426156098,
         3.635247578357125E-134
        ],
        [
         "KIM",
         1.0902145600191362,
         0.0,
         0.0013864479275454682,
         5.309973883874942E-13
        ],
        [
         "KMI",
         0.9483866227396723,
         0.0,
         -8.232009268826553E-4,
         4.702480517987664E-10
        ],
        [
         "KLAC",
         1.1548082810872649,
         0.0,
         0.002620390050857926,
         8.582904517749735E-49
        ],
        [
         "KHC",
         0.8645119970961577,
         0.0,
         -0.001996650167923587,
         2.4912820898035897E-49
        ],
        [
         "KR",
         0.7995018929270628,
         0.0,
         -0.002828950362289096,
         8.770822304654697E-58
        ],
        [
         "LHX",
         0.8936396605279323,
         0.0,
         -0.002116569770241042,
         8.60924638026161E-51
        ],
        [
         "LH",
         0.9347720862970673,
         0.0,
         -6.709718105363644E-4,
         5.193183633895626E-7
        ],
        [
         "LRCX",
         1.1692424005857522,
         0.0,
         0.0025375507768358313,
         4.262231927012134E-37
        ],
        [
         "LW",
         0.9591880195784392,
         0.0,
         -4.912435249956439E-4,
         0.004163455538202905
        ],
        [
         "LVS",
         1.023724026281959,
         0.0,
         -4.2514866672966364E-4,
         0.0664640136978609
        ],
        [
         "LEG",
         1.0511011799608525,
         0.0,
         2.5392669284588014E-4,
         0.15333705596613612
        ],
        [
         "LDOS",
         0.9048024283977201,
         0.0,
         -0.0018324015189974906,
         1.229341475602258E-35
        ],
        [
         "LEN",
         1.071329879884834,
         0.0,
         0.0016966838548489044,
         1.2216835052556513E-19
        ],
        [
         "LNC",
         1.263955219032695,
         0.0,
         0.0023884437751844866,
         3.563456768220546E-18
        ],
        [
         "LIN",
         0.9807989123640778,
         0.0,
         2.0382518661881955E-4,
         0.035310962891465236
        ],
        [
         "LYV",
         1.107470915470754,
         0.0,
         0.0013879120327403855,
         3.1566593900212995E-11
        ],
        [
         "LKQ",
         1.0543935125751591,
         0.0,
         0.0012388164721913624,
         4.344995069782056E-18
        ]
       ],
       "datasetInfos": [],
       "dbfsResultPath": null,
       "isJsonSchema": true,
       "metadata": {},
       "overflow": false,
       "plotOptions": {
        "customPlotOptions": {},
        "displayType": "table",
        "pivotAggregation": null,
        "pivotColumns": null,
        "xColumns": null,
        "yColumns": null
       },
       "removedWidgets": [],
       "schema": [
        {
         "metadata": "{}",
         "name": "symbol",
         "type": "\"string\""
        },
        {
         "metadata": "{}",
         "name": "alpha_coef",
         "type": "\"double\""
        },
        {
         "metadata": "{}",
         "name": "alpha_pv",
         "type": "\"double\""
        },
        {
         "metadata": "{}",
         "name": "market_coef",
         "type": "\"double\""
        },
        {
         "metadata": "{}",
         "name": "marke_pv",
         "type": "\"double\""
        }
       ],
       "type": "table"
      }
     },
     "output_type": "display_data"
    },
    {
     "output_type": "display_data",
     "data": {
      "text/plain": [
       "Databricks visualization. Run in Databricks to view."
      ]
     },
     "metadata": {
      "application/vnd.databricks.v1.subcommand+json": {
       "bindings": {},
       "collapsed": false,
       "command": "%python\n__backend_agg_display_orig = display\n__backend_agg_dfs = []\ndef __backend_agg_display_new(df):\n    __backend_agg_df_modules = [\"pandas.core.frame\", \"databricks.koalas.frame\", \"pyspark.sql.dataframe\", \"pyspark.pandas.frame\", \"pyspark.sql.connect.dataframe\"]\n    if (type(df).__module__ in __backend_agg_df_modules and type(df).__name__ == 'DataFrame') or isinstance(df, list):\n        __backend_agg_dfs.append(df)\n\ndisplay = __backend_agg_display_new\n\ndef __backend_agg_user_code_fn():\n    import base64\n    exec(base64.standard_b64decode(\"ZGlzcGxheShmaW5hbF9kYXRhX3NpZ25pZmljYW50KQ==\").decode())\n\ntry:\n    # run user code\n    __backend_agg_user_code_fn()\n\n    #reset display function\n    display = __backend_agg_display_orig\n\n    if len(__backend_agg_dfs) > 0:\n        # create a temp view\n        if type(__backend_agg_dfs[0]).__module__ == \"databricks.koalas.frame\":\n            # koalas dataframe\n            __backend_agg_dfs[0].to_spark().createOrReplaceTempView(\"DatabricksViewa35fcf8\")\n        elif type(__backend_agg_dfs[0]).__module__ == \"pandas.core.frame\" or isinstance(__backend_agg_dfs[0], list):\n            # pandas dataframe\n            spark.createDataFrame(__backend_agg_dfs[0]).createOrReplaceTempView(\"DatabricksViewa35fcf8\")\n        else:\n            __backend_agg_dfs[0].createOrReplaceTempView(\"DatabricksViewa35fcf8\")\n        #run backend agg\n        display(spark.sql(\"\"\"WITH q AS (select * from DatabricksViewa35fcf8) SELECT `alpha_coef`,`symbol` FROM q\"\"\"))\n    else:\n        displayHTML(\"dataframe no longer exists. If you're using dataframe.display(), use display(dataframe) instead.\")\n\n\nfinally:\n    spark.sql(\"drop view if exists DatabricksViewa35fcf8\")\n    display = __backend_agg_display_orig\n    del __backend_agg_display_new\n    del __backend_agg_display_orig\n    del __backend_agg_dfs\n    del __backend_agg_user_code_fn\n\n",
       "commandTitle": "Visualization 1",
       "commandType": "auto",
       "commandVersion": 0,
       "commentThread": [],
       "commentsVisible": false,
       "contentSha256Hex": null,
       "customPlotOptions": {
        "redashChart": [
         {
          "key": "type",
          "value": "CHART"
         },
         {
          "key": "options",
          "value": {
           "alignYAxesAtZero": false,
           "coefficient": 1,
           "columnConfigurationMap": {
            "x": {
             "column": "alpha_coef",
             "id": "column_934e8d2763"
            },
            "y": [
             {
              "column": "symbol",
              "id": "column_934e8d2764"
             }
            ]
           },
           "dateTimeFormat": "DD/MM/YYYY HH:mm",
           "direction": {
            "type": "counterclockwise"
           },
           "error_y": {
            "type": "data",
            "visible": true
           },
           "globalSeriesType": "bubble",
           "legend": {
            "traceorder": "normal"
           },
           "missingValuesAsZero": true,
           "numberFormat": "0,0[.]00000",
           "percentFormat": "0[.]00%",
           "reverseX": false,
           "series": {
            "error_y": {
             "type": "data",
             "visible": true
            },
            "stacking": null
           },
           "seriesOptions": {
            "alpha_coef": {
             "type": "bubble",
             "yAxis": 0
            },
            "symbol": {
             "type": "bubble",
             "yAxis": 0
            }
           },
           "showDataLabels": false,
           "sizemode": "diameter",
           "sortX": true,
           "sortY": true,
           "swappedAxes": false,
           "textFormat": "",
           "useAggregationsUi": true,
           "valuesOptions": {},
           "version": 2,
           "xAxis": {
            "labels": {
             "enabled": true
            },
            "type": "-"
           },
           "yAxis": [
            {
             "type": "-"
            },
            {
             "opposite": true,
             "type": "-"
            }
           ]
          }
         }
        ]
       },
       "datasetPreviewNameToCmdIdMap": {},
       "diffDeletes": [],
       "diffInserts": [],
       "displayType": "redashChart",
       "error": null,
       "errorSummary": null,
       "errorTraceType": null,
       "finishTime": 0,
       "globalVars": {},
       "guid": "eba17e36-cf44-4520-a3b6-90a499d3c412",
       "height": "auto",
       "hideCommandCode": false,
       "hideCommandResult": false,
       "iPythonMetadata": null,
       "inputWidgets": {},
       "isLockedInExamMode": false,
       "latestUser": "a user",
       "latestUserId": null,
       "listResultMetadata": null,
       "metadata": {
        "byteLimit": 2048000,
        "rowLimit": 10000
       },
       "nuid": "0a0b4538-eda5-4134-841e-09553e54e910",
       "origId": 2735862450495335,
       "parentHierarchy": [
        "8953cc3e-f68e-4f7d-8921-14d83fbf29dd"
       ],
       "pivotAggregation": null,
       "pivotColumns": null,
       "position": 2.9375,
       "resultDbfsErrorMessage": null,
       "resultDbfsStatus": "INLINED_IN_TREE",
       "results": null,
       "showCommandTitle": false,
       "startTime": 0,
       "state": "finished",
       "streamStates": {},
       "subcommandOptions": {
        "queryPlan": {
         "selects": [
          {
           "column": "alpha_coef",
           "type": "column"
          },
          {
           "column": "symbol",
           "type": "column"
          }
         ]
        }
       },
       "submitTime": 0,
       "subtype": "tableResultSubCmd.visualization",
       "tableResultIndex": 0,
       "useConsistentColors": false,
       "version": "CommandV1",
       "width": "auto",
       "workflows": [],
       "xColumns": null,
       "yColumns": null
      }
     },
     "output_type": "display_data"
    }
   ],
   "source": [
    "display(final_data_significant)"
   ]
  },
  {
   "cell_type": "code",
   "execution_count": 0,
   "metadata": {
    "application/vnd.databricks.v1+cell": {
     "cellMetadata": {
      "byteLimit": 2048000,
      "rowLimit": 10000
     },
     "inputWidgets": {},
     "nuid": "94539a78-745a-44f6-b819-d25da9259dda",
     "showTitle": false,
     "title": ""
    }
   },
   "outputs": [],
   "source": [
    "### stocks's market relation is captured by the beta factor\n",
    "### interestingly some of stocks are showing strong relation to the overall market while other stocks are showing less then 0 relation\n",
    "\n",
    "### but most imporantly as we expected stocks vary depending on how they relate to the market\n",
    "### we can see clearly two groups are formed, one positive, higher than 0 market coef, and the other group of stocks have negative market coef.\n",
    "### stocks with positive coef will go up when the market goes up and stocks with negative coef will go down when market goes up\n"
   ]
  },
  {
   "cell_type": "code",
   "execution_count": 0,
   "metadata": {
    "application/vnd.databricks.v1+cell": {
     "cellMetadata": {
      "byteLimit": 2048000,
      "rowLimit": 10000
     },
     "inputWidgets": {},
     "nuid": "68457b35-4518-4455-9734-8578454c050a",
     "showTitle": false,
     "title": ""
    }
   },
   "outputs": [
    {
     "output_type": "display_data",
     "data": {
      "text/html": [
       "<style scoped>\n",
       "  .table-result-container {\n",
       "    max-height: 300px;\n",
       "    overflow: auto;\n",
       "  }\n",
       "  table, th, td {\n",
       "    border: 1px solid black;\n",
       "    border-collapse: collapse;\n",
       "  }\n",
       "  th, td {\n",
       "    padding: 5px;\n",
       "  }\n",
       "  th {\n",
       "    text-align: left;\n",
       "  }\n",
       "</style><div class='table-result-container'><table class='table-result'><thead style='background-color: white'><tr><th>symbol</th><th>alpha_coef</th><th>alpha_pv</th><th>market_coef</th><th>marke_pv</th></tr></thead><tbody><tr><td>MMM</td><td>0.9427178083213479</td><td>0.0</td><td>-0.0015539360426961371</td><td>1.670622229561558E-38</td></tr><tr><td>AOS</td><td>0.9832066810561861</td><td>0.0</td><td>-1.8329952352246748E-4</td><td>0.17999632812561028</td></tr><tr><td>ABT</td><td>0.9437416800069042</td><td>0.0</td><td>-9.724477885143035E-4</td><td>3.3920310773315196E-18</td></tr><tr><td>ABBV</td><td>0.8681055476238482</td><td>0.0</td><td>-0.0014565050303953363</td><td>7.350443181364701E-29</td></tr><tr><td>ACN</td><td>1.0582471024393767</td><td>0.0</td><td>9.112481522191239E-4</td><td>5.303410964462857E-22</td></tr><tr><td>ATVI</td><td>0.8256361527697422</td><td>0.0</td><td>-0.002733113392205081</td><td>5.688208762751674E-72</td></tr><tr><td>ADM</td><td>0.9525470565469555</td><td>0.0</td><td>-1.5889983654266158E-4</td><td>0.23008884106774014</td></tr><tr><td>ADBE</td><td>1.073428172095016</td><td>0.0</td><td>8.681931616285828E-4</td><td>5.998061637252829E-8</td></tr><tr><td>AAP</td><td>1.090304304910073</td><td>0.0</td><td>-6.1123700666051E-5</td><td>0.790372371306961</td></tr><tr><td>AMD</td><td>1.1849455431520013</td><td>0.0</td><td>0.0023017699328884414</td><td>4.548620447868185E-22</td></tr><tr><td>AES</td><td>1.0626718270094164</td><td>0.0</td><td>6.950253852415576E-4</td><td>9.723239966007948E-6</td></tr><tr><td>AFL</td><td>0.9658377946874049</td><td>0.0</td><td>-2.036818141637425E-4</td><td>0.08010982068240016</td></tr><tr><td>A</td><td>1.0315996660212938</td><td>0.0</td><td>4.1550651986933893E-4</td><td>1.9188029193433292E-4</td></tr><tr><td>APD</td><td>0.951662294102624</td><td>0.0</td><td>-6.245830004001359E-4</td><td>1.4900566318321765E-7</td></tr><tr><td>AKAM</td><td>0.923172754726701</td><td>0.0</td><td>-0.0017405459798644075</td><td>2.518810306886582E-34</td></tr><tr><td>ALK</td><td>1.0961286966489145</td><td>0.0</td><td>9.08999859080087E-4</td><td>3.103420885669883E-5</td></tr><tr><td>ALB</td><td>1.18199406671767</td><td>0.0</td><td>0.002905551422193531</td><td>6.089474479536164E-34</td></tr><tr><td>ARE</td><td>0.999857196015646</td><td>0.0</td><td>-6.437937768330804E-4</td><td>7.104209179715952E-8</td></tr><tr><td>ALGN</td><td>1.1708967962943464</td><td>0.0</td><td>0.0021864825378635393</td><td>4.674231075233415E-19</td></tr><tr><td>ALLE</td><td>1.0146680180137948</td><td>0.0</td><td>-2.095197797456359E-4</td><td>0.08525590916516824</td></tr><tr><td>LNT</td><td>0.8899892195850232</td><td>0.0</td><td>-0.0017084154532041994</td><td>1.7758496856019961E-43</td></tr><tr><td>ALL</td><td>0.9482963704466393</td><td>0.0</td><td>-0.0010678877126320673</td><td>1.1412810386618938E-14</td></tr><tr><td>GOOGL</td><td>1.0631986777848563</td><td>0.0</td><td>8.744168932424128E-4</td><td>2.2592244830435867E-13</td></tr><tr><td>GOOG</td><td>1.063249028835795</td><td>0.0</td><td>8.829388951997084E-4</td><td>1.451311822790651E-13</td></tr><tr><td>MO</td><td>0.8753352852114085</td><td>0.0</td><td>-0.0018085117578371392</td><td>2.578824663878826E-42</td></tr><tr><td>AMZN</td><td>1.0812558554406697</td><td>0.0</td><td>3.7738633286123067E-4</td><td>0.01638653689815735</td></tr><tr><td>AMCR</td><td>0.9918388276250084</td><td>0.0</td><td>-2.621979185642417E-4</td><td>0.019425347974849787</td></tr><tr><td>AEE</td><td>0.880172793420002</td><td>0.0</td><td>-0.0017912320438818025</td><td>1.014975841942482E-51</td></tr><tr><td>AAL</td><td>1.1460790152659928</td><td>0.0</td><td>0.00113560010435567</td><td>1.2561088252241657E-4</td></tr><tr><td>AEP</td><td>0.8836331182667607</td><td>0.0</td><td>-0.0018670925896689462</td><td>5.21521529571221E-53</td></tr><tr><td>AXP</td><td>1.0680143688066623</td><td>0.0</td><td>8.993174019158853E-4</td><td>1.4534779291425182E-9</td></tr><tr><td>AIG</td><td>1.068991682073755</td><td>0.0</td><td>0.0013471363368851774</td><td>1.1389486546490022E-14</td></tr><tr><td>AMT</td><td>0.9705926752180982</td><td>0.0</td><td>-0.0013342102232540005</td><td>4.261372890449026E-25</td></tr><tr><td>AWK</td><td>0.9179652363413778</td><td>0.0</td><td>-0.001402429618024103</td><td>1.872452122037907E-31</td></tr><tr><td>AMP</td><td>1.1106406141285632</td><td>0.0</td><td>0.0021776853377490054</td><td>8.56502348445442E-62</td></tr><tr><td>ABC</td><td>0.8799736255504964</td><td>0.0</td><td>-0.001065215964541988</td><td>2.4213106296430197E-17</td></tr><tr><td>AME</td><td>0.9745025477570242</td><td>0.0</td><td>-7.053621080655683E-5</td><td>0.40801894332180155</td></tr><tr><td>AMGN</td><td>0.8646209995355305</td><td>0.0</td><td>-0.002080906485979593</td><td>2.545013837712949E-59</td></tr><tr><td>APH</td><td>1.038262501240916</td><td>0.0</td><td>8.489589493970152E-4</td><td>2.95046200171531E-24</td></tr><tr><td>ADI</td><td>1.0697612073968152</td><td>0.0</td><td>9.794917049349525E-4</td><td>3.403316862458526E-16</td></tr><tr><td>ANSS</td><td>1.0850354194445417</td><td>0.0</td><td>5.808370970209059E-4</td><td>1.2569624693341268E-5</td></tr><tr><td>AON</td><td>0.9538576978758461</td><td>0.0</td><td>-4.952369474200413E-4</td><td>1.684866972524792E-5</td></tr><tr><td>APA</td><td>1.1849970172430695</td><td>0.0</td><td>0.0036232625046840475</td><td>4.8761554958669805E-29</td></tr><tr><td>AAPL</td><td>1.0679074174565863</td><td>0.0</td><td>0.0015175869806323197</td><td>4.118234967454009E-42</td></tr><tr><td>AMAT</td><td>1.1666530262357808</td><td>0.0</td><td>0.0026477761516760672</td><td>1.3973895559178826E-46</td></tr><tr><td>APTV</td><td>1.175937761205222</td><td>0.0</td><td>0.002132117680249102</td><td>1.4955241128105234E-30</td></tr><tr><td>ANET</td><td>1.0747705781057628</td><td>0.0</td><td>0.0015103432840268146</td><td>1.203743560885424E-16</td></tr><tr><td>AJG</td><td>0.956728840840204</td><td>0.0</td><td>4.306039759631989E-5</td><td>0.6606424864215903</td></tr><tr><td>AIZ</td><td>0.9499264959934512</td><td>0.0</td><td>-8.901854528054888E-4</td><td>9.499650665262134E-10</td></tr><tr><td>T</td><td>0.8955028760612554</td><td>0.0</td><td>-0.0024516120195998167</td><td>1.2916105227256254E-71</td></tr><tr><td>ATO</td><td>0.8666025377571421</td><td>0.0</td><td>-0.0021020086232457647</td><td>8.772775111385622E-63</td></tr><tr><td>ADSK</td><td>1.1526078750212876</td><td>0.0</td><td>0.0016260554828251685</td><td>1.7774619783092997E-23</td></tr><tr><td>ADP</td><td>0.9858199001241821</td><td>0.0</td><td>-2.960809487158405E-5</td><td>0.774000862776911</td></tr><tr><td>AZO</td><td>0.9216935592379473</td><td>0.0</td><td>-3.775456168917757E-4</td><td>0.00412434432618684</td></tr><tr><td>AVB</td><td>0.97213456646979</td><td>0.0</td><td>-6.629350230893269E-4</td><td>5.783230483847686E-8</td></tr><tr><td>AVY</td><td>1.018931157853261</td><td>0.0</td><td>4.135786107052149E-4</td><td>9.012704145658941E-4</td></tr><tr><td>BKR</td><td>0.988870452959704</td><td>0.0</td><td>3.994344290262881E-4</td><td>0.06788987991512341</td></tr><tr><td>BAC</td><td>1.0430064728094735</td><td>0.0</td><td>2.6266655469461283E-4</td><td>0.07127630020616792</td></tr><tr><td>BBWI</td><td>1.1759572507981764</td><td>0.0</td><td>0.002674367745573778</td><td>2.0709109326242084E-22</td></tr><tr><td>BAX</td><td>0.9019431536970507</td><td>0.0</td><td>-0.002706494354556376</td><td>9.164951282962993E-73</td></tr><tr><td>BDX</td><td>0.8364223987614717</td><td>0.0</td><td>-0.002546377259588273</td><td>2.365258765139913E-87</td></tr><tr><td>BBY</td><td>1.0384959680616068</td><td>0.0</td><td>2.825951710717799E-4</td><td>0.10576282267830787</td></tr><tr><td>BIO</td><td>0.9959780071846346</td><td>0.0</td><td>-8.741629502951997E-4</td><td>8.912281961827417E-7</td></tr><tr><td>TECH</td><td>1.0484156011624255</td><td>0.0</td><td>5.411449437853357E-4</td><td>9.68261409127297E-4</td></tr><tr><td>BIIB</td><td>0.9079088531314186</td><td>0.0</td><td>-0.0022084825741560438</td><td>7.415255266217351E-19</td></tr><tr><td>BLK</td><td>1.0541158376087312</td><td>0.0</td><td>6.111628434500125E-4</td><td>4.120654940508942E-9</td></tr><tr><td>BK</td><td>0.9970034629477312</td><td>0.0</td><td>-3.989696062666697E-4</td><td>0.003471466226123743</td></tr><tr><td>BA</td><td>1.0749834222878256</td><td>0.0</td><td>5.77911232801151E-4</td><td>0.008595158669669194</td></tr><tr><td>BKNG</td><td>1.0387854818474171</td><td>0.0</td><td>6.337588104555899E-4</td><td>1.354018180364932E-4</td></tr><tr><td>BWA</td><td>1.0102740646341901</td><td>0.0</td><td>1.793579921366781E-5</td><td>0.9130877059379023</td></tr><tr><td>BXP</td><td>1.0380524501868367</td><td>0.0</td><td>-6.106956349819765E-4</td><td>3.008034881144944E-4</td></tr><tr><td>BSX</td><td>0.9600419547417732</td><td>0.0</td><td>-5.877716553506896E-4</td><td>1.4266099716630115E-6</td></tr><tr><td>BMY</td><td>0.8510562904934342</td><td>0.0</td><td>-0.002461320984687629</td><td>1.7275187882745422E-89</td></tr><tr><td>AVGO</td><td>1.0557413270631464</td><td>0.0</td><td>0.0015361015669123125</td><td>8.024311412137849E-36</td></tr><tr><td>BR</td><td>0.9702231344419212</td><td>0.0</td><td>-3.05160517796611E-4</td><td>0.0021973275985063528</td></tr><tr><td>BRO</td><td>0.9849540353456875</td><td>0.0</td><td>4.042419023777978E-5</td><td>0.7138494999864347</td></tr><tr><td>CHRW</td><td>0.9383090644493625</td><td>0.0</td><td>-9.967632454784222E-4</td><td>1.397017629563035E-11</td></tr><tr><td>CDNS</td><td>1.081334062375469</td><td>0.0</td><td>0.0016459245324440873</td><td>9.23802662966757E-30</td></tr><tr><td>CZR</td><td>1.3528187332088293</td><td>0.0</td><td>0.004971593790182746</td><td>1.1810836099216686E-61</td></tr><tr><td>CPB</td><td>0.794882780605422</td><td>0.0</td><td>-0.003308322895839453</td><td>2.1837108553489862E-108</td></tr><tr><td>COF</td><td>1.1254337596213322</td><td>0.0</td><td>0.001703673777252121</td><td>9.478654358458114E-20</td></tr><tr><td>CAH</td><td>0.8881703741706807</td><td>0.0</td><td>-0.0011293963363539262</td><td>5.025639545166642E-14</td></tr><tr><td>KMX</td><td>1.106802635245183</td><td>0.0</td><td>8.133209806762568E-4</td><td>1.3911996993428284E-4</td></tr><tr><td>CCL</td><td>1.2314163076689761</td><td>0.0</td><td>0.0019440832149236458</td><td>6.237478162207336E-8</td></tr><tr><td>CARR</td><td>1.0229367604143205</td><td>0.0</td><td>0.001108309917074729</td><td>1.7103828698141879E-13</td></tr><tr><td>CTLT</td><td>1.1213252267665235</td><td>0.0</td><td>4.2202563251195885E-4</td><td>0.1260131653342557</td></tr><tr><td>CAT</td><td>0.9692642285742499</td><td>0.0</td><td>-4.504813518451733E-5</td><td>0.7551956504418734</td></tr><tr><td>CBOE</td><td>0.8691106181838384</td><td>0.0</td><td>-0.0020562301525580548</td><td>1.5637599005167235E-49</td></tr><tr><td>CBRE</td><td>1.0931826199984744</td><td>0.0</td><td>0.00129729019259102</td><td>1.3400996874466995E-18</td></tr><tr><td>CDW</td><td>1.0649345190780097</td><td>0.0</td><td>0.0010137935718773528</td><td>2.1237746045830422E-18</td></tr><tr><td>CE</td><td>1.0705933531833687</td><td>0.0</td><td>9.833255031823011E-4</td><td>8.93837220888571E-11</td></tr><tr><td>CNC</td><td>0.9305512161055874</td><td>0.0</td><td>-0.001460993177879233</td><td>3.935333854682269E-17</td></tr><tr><td>CNP</td><td>0.9390708955512393</td><td>0.0</td><td>-4.760458267928231E-4</td><td>3.2562372299163426E-4</td></tr><tr><td>CDAY</td><td>1.1719874571447133</td><td>0.0</td><td>0.0017988118988905848</td><td>2.8854043282778667E-18</td></tr><tr><td>CF</td><td>0.9905814614534079</td><td>0.0</td><td>1.4457787728284506E-4</td><td>0.5210293755707411</td></tr><tr><td>CRL</td><td>1.060424661373489</td><td>0.0</td><td>4.901271472758951E-4</td><td>0.0043219331817342</td></tr><tr><td>SCHW</td><td>1.0519507034498092</td><td>0.0</td><td>5.663012965511708E-4</td><td>0.001819002611965526</td></tr><tr><td>CHTR</td><td>0.9376656737400821</td><td>0.0</td><td>-0.0015512180555600115</td><td>5.116322053187299E-22</td></tr><tr><td>CVX</td><td>0.9636938635466548</td><td>0.0</td><td>-3.399638177216951E-4</td><td>0.02888567748465741</td></tr><tr><td>CMG</td><td>1.0312556180257764</td><td>0.0</td><td>9.343052485349747E-4</td><td>4.5530121557410254E-10</td></tr><tr><td>CB</td><td>0.9480493090106554</td><td>0.0</td><td>-5.570636404801702E-4</td><td>4.21496617485796E-5</td></tr><tr><td>CHD</td><td>0.8195258230781959</td><td>0.0</td><td>-0.002532656383552639</td><td>1.0985168754225553E-85</td></tr><tr><td>CI</td><td>0.925408655632397</td><td>0.0</td><td>-0.001023803125349844</td><td>7.682567288815489E-12</td></tr><tr><td>CINF</td><td>1.0026344865698331</td><td>0.0</td><td>-2.906947497283734E-4</td><td>0.09040424855013375</td></tr><tr><td>CTAS</td><td>1.028726785655074</td><td>0.0</td><td>8.887466588486634E-4</td><td>1.0166232405369335E-16</td></tr><tr><td>CSCO</td><td>0.9525532921178632</td><td>0.0</td><td>-8.685500140810965E-4</td><td>1.542880105961118E-14</td></tr><tr><td>C</td><td>1.0480295448329777</td><td>0.0</td><td>-8.594153380131795E-5</td><td>0.5948641503307656</td></tr><tr><td>CFG</td><td>1.1249140257860981</td><td>0.0</td><td>0.0012776248424336326</td><td>1.9730658163773397E-10</td></tr><tr><td>CLX</td><td>0.7816507533772784</td><td>0.0</td><td>-0.0037485130332576442</td><td>5.25554102246793E-113</td></tr><tr><td>CME</td><td>0.8960655358535027</td><td>0.0</td><td>-0.001864185246398846</td><td>1.4701597804939374E-52</td></tr><tr><td>CMS</td><td>0.8642726069471577</td><td>0.0</td><td>-0.0021616116429067477</td><td>2.8821027862278983E-68</td></tr><tr><td>KO</td><td>0.8979230076204135</td><td>0.0</td><td>-0.0014033599494302584</td><td>6.102514754399328E-50</td></tr><tr><td>CTSH</td><td>1.032697058228088</td><td>0.0</td><td>1.9871407618416546E-4</td><td>0.10966006764489823</td></tr><tr><td>CL</td><td>0.8386521047409848</td><td>0.0</td><td>-0.0025148517036448804</td><td>1.2722283369931172E-121</td></tr><tr><td>CMCSA</td><td>0.9408599636308416</td><td>0.0</td><td>-0.0010383016355488492</td><td>1.868076338871817E-17</td></tr><tr><td>CMA</td><td>1.1670682184252965</td><td>0.0</td><td>0.0018897967797374283</td><td>1.3199442568393488E-12</td></tr><tr><td>CAG</td><td>0.8353103006212967</td><td>0.0</td><td>-0.0026109840393507984</td><td>3.59422751419684E-84</td></tr><tr><td>COP</td><td>1.0197480152110199</td><td>0.0</td><td>0.0011324444056878206</td><td>5.6442158868843577E-8</td></tr><tr><td>ED</td><td>0.8458401944029911</td><td>0.0</td><td>-0.002250035339777238</td><td>4.957250578292323E-74</td></tr><tr><td>STZ</td><td>0.9278971968819616</td><td>0.0</td><td>-7.728416027657914E-4</td><td>1.5573383609449787E-10</td></tr><tr><td>CPRT</td><td>1.019773961476432</td><td>0.0</td><td>8.066941870180174E-4</td><td>4.613946864127121E-13</td></tr><tr><td>GLW</td><td>1.0439038966133407</td><td>0.0</td><td>4.514357059979203E-4</td><td>1.4584270794922773E-4</td></tr><tr><td>CTVA</td><td>0.9688146936925344</td><td>0.0</td><td>-4.100709779436854E-5</td><td>0.7881222081489956</td></tr><tr><td>COST</td><td>0.9427955616663543</td><td>0.0</td><td>-6.835409563296167E-4</td><td>2.9110169522767837E-10</td></tr><tr><td>CTRA</td><td>0.9272654848970795</td><td>0.0</td><td>-0.0010606235027599033</td><td>1.6799466193016621E-6</td></tr><tr><td>CCI</td><td>0.9731574131167628</td><td>0.0</td><td>-0.0014523047762905754</td><td>1.4435926051828522E-28</td></tr><tr><td>CSX</td><td>0.9877497976904877</td><td>0.0</td><td>-1.949864263682832E-4</td><td>0.06797839691496203</td></tr><tr><td>CMI</td><td>0.9586679698095705</td><td>0.0</td><td>-5.274337805041959E-4</td><td>1.455491907784315E-5</td></tr><tr><td>CVS</td><td>0.9371750697472139</td><td>0.0</td><td>-0.001044911488025133</td><td>3.482569352549953E-15</td></tr><tr><td>DHI</td><td>1.0513139714649236</td><td>0.0</td><td>0.001418383757944558</td><td>1.4465452677142168E-15</td></tr><tr><td>DHR</td><td>0.9901284013545842</td><td>0.0</td><td>-1.1639125859621743E-4</td><td>0.33855309458346594</td></tr><tr><td>DRI</td><td>1.0304305543198702</td><td>0.0</td><td>0.0011145215819154946</td><td>7.638723515566308E-11</td></tr><tr><td>DVA</td><td>0.8973783965556736</td><td>0.0</td><td>-0.0013492945912018351</td><td>1.3353866804054423E-11</td></tr><tr><td>DE</td><td>0.9778352298823265</td><td>0.0</td><td>3.449113384754614E-4</td><td>0.0257728138548206</td></tr><tr><td>DAL</td><td>1.0939657955597768</td><td>0.0</td><td>9.419746293273998E-4</td><td>2.047093112273121E-5</td></tr><tr><td>XRAY</td><td>0.9744409888057242</td><td>0.0</td><td>-0.0010982640558964362</td><td>5.2949381874091195E-11</td></tr><tr><td>DVN</td><td>1.168656639746627</td><td>0.0</td><td>0.003422766758442972</td><td>2.498442070015159E-34</td></tr><tr><td>DXCM</td><td>1.085758270331082</td><td>0.0</td><td>8.184591299999032E-4</td><td>1.7260237844130948E-4</td></tr><tr><td>FANG</td><td>1.0979564494232505</td><td>0.0</td><td>0.0023064648827781434</td><td>1.6665161506281318E-16</td></tr><tr><td>DLR</td><td>0.9434430232115504</td><td>0.0</td><td>-0.001598970362396844</td><td>3.2119627736951754E-26</td></tr><tr><td>DFS</td><td>1.1480208271382675</td><td>0.0</td><td>0.0024306391002744585</td><td>2.570425930261288E-35</td></tr><tr><td>DISH</td><td>1.221240476557395</td><td>0.0</td><td>5.616824778287388E-4</td><td>0.03294387054194171</td></tr><tr><td>DG</td><td>0.9184622951216461</td><td>0.0</td><td>-0.001809712374177468</td><td>2.142946002973965E-30</td></tr><tr><td>DLTR</td><td>0.9465910568939567</td><td>0.0</td><td>-7.510569689086744E-4</td><td>7.170675665798535E-5</td></tr><tr><td>D</td><td>0.8968347922857088</td><td>0.0</td><td>-0.0020998013282308874</td><td>1.3569710910039762E-62</td></tr><tr><td>DPZ</td><td>0.8703545476941039</td><td>0.0</td><td>-0.002093011371951211</td><td>1.5288681643193528E-38</td></tr><tr><td>DOV</td><td>1.001974965202729</td><td>0.0</td><td>4.239457823739269E-5</td><td>0.6717872272630395</td></tr><tr><td>DOW</td><td>1.0171288904167124</td><td>0.0</td><td>3.556821429070208E-4</td><td>0.01878991555747929</td></tr><tr><td>DTE</td><td>0.9011998602344337</td><td>0.0</td><td>-0.0015497846800567913</td><td>1.1122070112912932E-33</td></tr><tr><td>DUK</td><td>0.8716923788084108</td><td>0.0</td><td>-0.0017957753766422034</td><td>3.5952925360163975E-51</td></tr><tr><td>DD</td><td>1.024999116571258</td><td>0.0</td><td>6.82580139140526E-4</td><td>4.5842127556251513E-7</td></tr><tr><td>DXC</td><td>1.1781730631990968</td><td>0.0</td><td>0.001984315585455547</td><td>5.063579280599732E-15</td></tr><tr><td>EMN</td><td>1.061743673874849</td><td>0.0</td><td>7.498563034330528E-4</td><td>2.166895679331162E-7</td></tr><tr><td>ETN</td><td>0.9852527034018184</td><td>0.0</td><td>3.415843760651816E-4</td><td>0.0026688817698159472</td></tr><tr><td>EBAY</td><td>1.0092406791440447</td><td>0.0</td><td>-3.6002924170130024E-4</td><td>0.027788788023672798</td></tr><tr><td>ECL</td><td>1.011452728193966</td><td>0.0</td><td>-3.03232639118935E-4</td><td>0.009241342627513685</td></tr><tr><td>EIX</td><td>0.9104476782297367</td><td>0.0</td><td>-0.0012958656904704091</td><td>1.5880817692451308E-22</td></tr><tr><td>EW</td><td>1.0259715588778382</td><td>0.0</td><td>-7.64527515928283E-5</td><td>0.6199469519031335</td></tr><tr><td>EA</td><td>0.8676355522410641</td><td>0.0</td><td>-0.0021657478980665486</td><td>4.397753873269786E-53</td></tr><tr><td>LLY</td><td>0.8614879983820816</td><td>0.0</td><td>-0.0011048040105243867</td><td>1.900318665870742E-11</td></tr><tr><td>EMR</td><td>0.9948052798204127</td><td>0.0</td><td>1.483054433476504E-4</td><td>0.18447442951128973</td></tr><tr><td>ENPH</td><td>1.2713361345766294</td><td>0.0</td><td>0.004007592496282446</td><td>1.0920912799245659E-26</td></tr><tr><td>ETR</td><td>0.9073772595161094</td><td>0.0</td><td>-0.0015161891211229598</td><td>6.1166367230584806E-33</td></tr><tr><td>EOG</td><td>1.0353356931525044</td><td>0.0</td><td>0.0012798996038833488</td><td>6.90247829342273E-8</td></tr><tr><td>EFX</td><td>1.0391930963590663</td><td>0.0</td><td>5.85669237833948E-4</td><td>7.060770114500775E-5</td></tr><tr><td>EQIX</td><td>0.946704813656568</td><td>0.0</td><td>-0.0010935305851494225</td><td>5.270174091387101E-15</td></tr><tr><td>EQR</td><td>0.9882587565659064</td><td>0.0</td><td>-6.361384204351196E-4</td><td>9.225077532271441E-7</td></tr><tr><td>ESS</td><td>0.9840180830792827</td><td>0.0</td><td>-6.538540946879596E-4</td><td>1.1325203931350689E-6</td></tr><tr><td>EL</td><td>1.1106067534384638</td><td>0.0</td><td>7.489153302040487E-4</td><td>4.0887009574058913E-7</td></tr><tr><td>ETSY</td><td>1.1991948949945537</td><td>0.0</td><td>0.002243652777024195</td><td>1.0186889965637938E-12</td></tr><tr><td>EVRG</td><td>0.8834896544137657</td><td>0.0</td><td>-0.001879072655858826</td><td>1.2786352903857442E-48</td></tr><tr><td>ES</td><td>0.8840952140346346</td><td>0.0</td><td>-0.0020328192227826326</td><td>9.550313236003824E-57</td></tr><tr><td>EXC</td><td>0.9458892548121565</td><td>0.0</td><td>-5.62301001480399E-4</td><td>1.4834686252598429E-6</td></tr><tr><td>EXPE</td><td>1.1608524775661537</td><td>0.0</td><td>0.002084168381524925</td><td>9.569170620409186E-21</td></tr><tr><td>EXPD</td><td>0.9465120334966171</td><td>0.0</td><td>-4.2995301171867254E-4</td><td>2.2648951194176165E-4</td></tr><tr><td>EXR</td><td>0.9878648428273795</td><td>0.0</td><td>-2.9941266739150934E-4</td><td>0.038148861215480376</td></tr><tr><td>XOM</td><td>0.9650173521817205</td><td>0.0</td><td>2.6513552646147146E-5</td><td>0.8809011258806709</td></tr><tr><td>FFIV</td><td>1.0187526560604443</td><td>0.0</td><td>2.718564660966297E-5</td><td>0.8470153995700593</td></tr><tr><td>FAST</td><td>0.976200636547439</td><td>0.0</td><td>-6.6907160074202E-7</td><td>0.9948215125088598</td></tr><tr><td>FRT</td><td>1.0214575499332204</td><td>0.0</td><td>-1.3352663008378347E-5</td><td>0.9345685196013263</td></tr><tr><td>FDX</td><td>1.016498110986094</td><td>0.0</td><td>4.469235038701223E-4</td><td>0.010750910873779239</td></tr><tr><td>FIS</td><td>1.0514083042987683</td><td>0.0</td><td>-0.0010658321523745362</td><td>3.377499755270294E-8</td></tr><tr><td>FITB</td><td>1.1366579418213867</td><td>0.0</td><td>0.0016115908522662788</td><td>9.599497980380268E-18</td></tr><tr><td>FE</td><td>0.8837647094837863</td><td>0.0</td><td>-0.002172413463493488</td><td>1.0973541976073541E-38</td></tr><tr><td>FLT</td><td>1.0364455194366673</td><td>0.0</td><td>-2.5862363498332458E-5</td><td>0.8535128398195918</td></tr><tr><td>FMC</td><td>0.9897761407203324</td><td>0.0</td><td>-4.6293100667877676E-4</td><td>8.483010538923533E-4</td></tr><tr><td>F</td><td>1.135843502678227</td><td>0.0</td><td>0.0019831264422039197</td><td>1.9612656044131708E-22</td></tr><tr><td>FTNT</td><td>1.1301901618760009</td><td>0.0</td><td>0.00196427285651539</td><td>1.330022714024571E-19</td></tr><tr><td>FTV</td><td>0.9936394912119327</td><td>0.0</td><td>-1.121342737579073E-4</td><td>0.3046973650831163</td></tr><tr><td>FOXA</td><td>0.9414931824659714</td><td>0.0</td><td>-0.0011087228577937836</td><td>1.5513804347351518E-10</td></tr><tr><td>FOX</td><td>0.948826193610695</td><td>0.0</td><td>-0.0010250344935531426</td><td>2.1703515598463608E-10</td></tr><tr><td>BEN</td><td>1.0878646363754003</td><td>0.0</td><td>0.001078275371616244</td><td>1.4595916629039547E-11</td></tr><tr><td>FCX</td><td>1.1659913562708153</td><td>0.0</td><td>0.002970877964825642</td><td>6.578335329892226E-38</td></tr><tr><td>GPS</td><td>1.1833013987928604</td><td>0.0</td><td>0.0020298844460224473</td><td>1.983954726080257E-10</td></tr><tr><td>GRMN</td><td>0.9941637575841773</td><td>0.0</td><td>-4.3484392511023773E-4</td><td>4.3095141205826166E-5</td></tr><tr><td>IT</td><td>1.057536413530999</td><td>0.0</td><td>0.0015388278014998756</td><td>4.3798481074865336E-29</td></tr><tr><td>GNRC</td><td>1.2238928391271475</td><td>0.0</td><td>0.00225874690221072</td><td>4.630567761440469E-17</td></tr><tr><td>GD</td><td>0.9322095938381529</td><td>0.0</td><td>-8.692572745113412E-4</td><td>7.194512826184858E-15</td></tr><tr><td>GE</td><td>0.9758846261250139</td><td>0.0</td><td>-3.9085137976207335E-4</td><td>0.0432917599226159</td></tr><tr><td>GIS</td><td>0.8136191506904056</td><td>0.0</td><td>-0.0026498204011986205</td><td>1.9977661157597323E-88</td></tr><tr><td>GM</td><td>1.1126793963759476</td><td>0.0</td><td>0.0010318021619129245</td><td>3.7143623646053834E-8</td></tr><tr><td>GPC</td><td>0.9824282169092595</td><td>0.0</td><td>1.4901524909648336E-4</td><td>0.20702505052697456</td></tr><tr><td>GILD</td><td>0.850843899326094</td><td>0.0</td><td>-0.0025662431366890058</td><td>1.6920533203384224E-89</td></tr><tr><td>GPN</td><td>1.0824146911820076</td><td>0.0</td><td>-3.860202061176844E-6</td><td>0.9804647422265421</td></tr><tr><td>GL</td><td>0.9766976478886256</td><td>0.0</td><td>-4.2933812086853293E-4</td><td>7.170083618656399E-4</td></tr><tr><td>GS</td><td>1.0142506584551543</td><td>0.0</td><td>5.026249783268351E-4</td><td>3.4581246825678724E-5</td></tr><tr><td>HAL</td><td>1.1130539155569905</td><td>0.0</td><td>0.002661302711551313</td><td>1.0815202471495915E-23</td></tr><tr><td>HBI</td><td>1.1227141445149464</td><td>0.0</td><td>3.3259896616149424E-5</td><td>0.9017596676552498</td></tr><tr><td>HAS</td><td>0.9851083532173892</td><td>0.0</td><td>-0.0010867824935514114</td><td>3.5414013115434438E-12</td></tr><tr><td>HCA</td><td>1.0228046542321687</td><td>0.0</td><td>9.291431114012826E-4</td><td>9.208164668608095E-8</td></tr><tr><td>PEAK</td><td>1.0107871394111412</td><td>0.0</td><td>-4.4027468163319536E-4</td><td>0.001302435145038834</td></tr><tr><td>HSIC</td><td>0.9538868956938249</td><td>0.0</td><td>-7.224646387011812E-4</td><td>2.9531225652033974E-7</td></tr><tr><td>HES</td><td>1.0582062565181323</td><td>0.0</td><td>0.0017800927283810211</td><td>9.098188701124834E-14</td></tr><tr><td>HPE</td><td>1.0257207920836935</td><td>0.0</td><td>3.667320571675768E-4</td><td>0.020620576471637998</td></tr><tr><td>HLT</td><td>1.0406645928692781</td><td>0.0</td><td>8.780195681040788E-4</td><td>2.9848810052516147E-9</td></tr><tr><td>HOLX</td><td>0.9306241727714867</td><td>0.0</td><td>-6.71099185290373E-4</td><td>6.781160301700623E-6</td></tr><tr><td>HD</td><td>0.9802965437729115</td><td>0.0</td><td>-5.396102601789226E-6</td><td>0.9581448300535226</td></tr><tr><td>HON</td><td>0.9914275692371154</td><td>0.0</td><td>-2.0312682053890218E-4</td><td>0.041117545736358084</td></tr><tr><td>HRL</td><td>0.8012144210997548</td><td>0.0</td><td>-0.003378910967584909</td><td>4.2702879935985835E-139</td></tr><tr><td>HST</td><td>1.0738721339621524</td><td>0.0</td><td>6.630052237625238E-4</td><td>5.052523767425878E-4</td></tr><tr><td>HWM</td><td>1.097423217259554</td><td>0.0</td><td>0.0021651037696063503</td><td>3.534814408007718E-30</td></tr><tr><td>HPQ</td><td>1.0899186217002776</td><td>0.0</td><td>0.0014458575398501245</td><td>1.0233162533962888E-19</td></tr><tr><td>HUM</td><td>0.883809292704189</td><td>0.0</td><td>-0.001839709565208138</td><td>9.069553389688313E-30</td></tr><tr><td>HBAN</td><td>1.0838844476648886</td><td>0.0</td><td>7.492924923287982E-4</td><td>1.5964037172051888E-4</td></tr><tr><td>HII</td><td>0.8900218716063717</td><td>0.0</td><td>-0.0018861673453429916</td><td>2.6139921995655953E-39</td></tr><tr><td>IBM</td><td>0.9057568818289448</td><td>0.0</td><td>-0.0014749826409163798</td><td>1.689955340915893E-33</td></tr><tr><td>IEX</td><td>0.9572732802113442</td><td>0.0</td><td>-6.155464117963022E-4</td><td>3.3456508544030727E-9</td></tr><tr><td>IDXX</td><td>1.0429373941884925</td><td>0.0</td><td>7.685532720710052E-4</td><td>2.5854659486995893E-7</td></tr><tr><td>ITW</td><td>0.9577184988540718</td><td>0.0</td><td>-5.388131096764939E-4</td><td>3.067406068427438E-9</td></tr><tr><td>ILMN</td><td>1.0725000333857504</td><td>0.0</td><td>-4.629591176765834E-4</td><td>0.03156867542658996</td></tr><tr><td>INCY</td><td>0.9008028696161169</td><td>0.0</td><td>-0.002407261765318997</td><td>8.338102909784631E-50</td></tr><tr><td>IR</td><td>1.043222388580315</td><td>0.0</td><td>9.703992993289088E-4</td><td>1.0404853275691407E-12</td></tr><tr><td>INTC</td><td>1.0099234448470635</td><td>0.0</td><td>-0.0012281969990982293</td><td>5.838014341141445E-13</td></tr><tr><td>ICE</td><td>0.9429905578873629</td><td>0.0</td><td>-9.531522546144749E-4</td><td>1.9780376709868634E-22</td></tr><tr><td>IFF</td><td>1.0310202019542145</td><td>0.0</td><td>-7.775987568903815E-4</td><td>9.13163861325361E-7</td></tr><tr><td>IP</td><td>0.973874329160281</td><td>0.0</td><td>-6.952784273315609E-4</td><td>2.8133234829432755E-6</td></tr><tr><td>IPG</td><td>1.0524496189747947</td><td>0.0</td><td>9.551825006724472E-4</td><td>1.874471794911905E-9</td></tr><tr><td>INTU</td><td>1.1407702583724812</td><td>0.0</td><td>0.0019027607041308976</td><td>2.319052235354772E-40</td></tr><tr><td>ISRG</td><td>1.0765046510994052</td><td>0.0</td><td>0.0011345503933089284</td><td>1.267741729472836E-15</td></tr><tr><td>IVZ</td><td>1.156749207935758</td><td>0.0</td><td>0.00213737934382244</td><td>1.142711757615242E-25</td></tr><tr><td>IPGP</td><td>1.0320522626849902</td><td>0.0</td><td>-6.955208860528062E-4</td><td>6.010712132742498E-4</td></tr><tr><td>IQV</td><td>1.054435951749409</td><td>0.0</td><td>8.205886666938514E-4</td><td>2.1202888269995397E-12</td></tr><tr><td>IRM</td><td>0.9620486379791862</td><td>0.0</td><td>2.2517386202773932E-4</td><td>0.14443610422082118</td></tr><tr><td>JBHT</td><td>0.9629580922366684</td><td>0.0</td><td>-3.3264717640972785E-4</td><td>0.0192595067995691</td></tr><tr><td>JKHY</td><td>0.9383913575454468</td><td>0.0</td><td>-0.0014108865774168989</td><td>1.2919199200042544E-23</td></tr><tr><td>J</td><td>0.9916104986654692</td><td>0.0</td><td>-2.786690736214856E-4</td><td>0.01829291986981962</td></tr><tr><td>SJM</td><td>0.794490015400764</td><td>0.0</td><td>-0.0029096619566952547</td><td>1.2995668939021217E-93</td></tr><tr><td>JNJ</td><td>0.8397480489695561</td><td>0.0</td><td>-0.0023867082027595383</td><td>5.394986842625022E-115</td></tr><tr><td>JCI</td><td>1.0098921001248389</td><td>0.0</td><td>5.670726406566273E-4</td><td>4.91852061342472E-6</td></tr><tr><td>JPM</td><td>0.9779815444433532</td><td>0.0</td><td>-3.5456197572493323E-4</td><td>0.005896031433249331</td></tr><tr><td>JNPR</td><td>0.995014232294039</td><td>0.0</td><td>-3.632456017071704E-4</td><td>0.003776953677366722</td></tr><tr><td>K</td><td>0.7976376716605654</td><td>0.0</td><td>-0.003107948582396924</td><td>9.305885013716079E-123</td></tr><tr><td>KEY</td><td>1.1513980027068595</td><td>0.0</td><td>0.001094087344880281</td><td>4.856842630602645E-6</td></tr><tr><td>KEYS</td><td>1.026766294467519</td><td>0.0</td><td>2.0561928127237303E-4</td><td>0.09546429436087644</td></tr><tr><td>KMB</td><td>0.8169250624621682</td><td>0.0</td><td>-0.002972773426156098</td><td>3.635247578357125E-134</td></tr><tr><td>KIM</td><td>1.0902145600191362</td><td>0.0</td><td>0.0013864479275454682</td><td>5.309973883874942E-13</td></tr><tr><td>KMI</td><td>0.9483866227396723</td><td>0.0</td><td>-8.232009268826553E-4</td><td>4.702480517987664E-10</td></tr><tr><td>KLAC</td><td>1.1548082810872649</td><td>0.0</td><td>0.002620390050857926</td><td>8.582904517749735E-49</td></tr><tr><td>KHC</td><td>0.8645119970961577</td><td>0.0</td><td>-0.001996650167923587</td><td>2.4912820898035897E-49</td></tr><tr><td>KR</td><td>0.7995018929270628</td><td>0.0</td><td>-0.002828950362289096</td><td>8.770822304654697E-58</td></tr><tr><td>LHX</td><td>0.8936396605279323</td><td>0.0</td><td>-0.002116569770241042</td><td>8.60924638026161E-51</td></tr><tr><td>LH</td><td>0.9347720862970673</td><td>0.0</td><td>-6.709718105363644E-4</td><td>5.193183633895626E-7</td></tr><tr><td>LRCX</td><td>1.1692424005857522</td><td>0.0</td><td>0.0025375507768358313</td><td>4.262231927012134E-37</td></tr><tr><td>LW</td><td>0.9591880195784392</td><td>0.0</td><td>-4.912435249956439E-4</td><td>0.004163455538202905</td></tr><tr><td>LVS</td><td>1.023724026281959</td><td>0.0</td><td>-4.2514866672966364E-4</td><td>0.0664640136978609</td></tr><tr><td>LEG</td><td>1.0511011799608525</td><td>0.0</td><td>2.5392669284588014E-4</td><td>0.15333705596613612</td></tr><tr><td>LDOS</td><td>0.9048024283977201</td><td>0.0</td><td>-0.0018324015189974906</td><td>1.229341475602258E-35</td></tr><tr><td>LEN</td><td>1.071329879884834</td><td>0.0</td><td>0.0016966838548489044</td><td>1.2216835052556513E-19</td></tr><tr><td>LNC</td><td>1.263955219032695</td><td>0.0</td><td>0.0023884437751844866</td><td>3.563456768220546E-18</td></tr><tr><td>LIN</td><td>0.9807989123640778</td><td>0.0</td><td>2.0382518661881955E-4</td><td>0.035310962891465236</td></tr><tr><td>LYV</td><td>1.107470915470754</td><td>0.0</td><td>0.0013879120327403855</td><td>3.1566593900212995E-11</td></tr><tr><td>LKQ</td><td>1.0543935125751591</td><td>0.0</td><td>0.0012388164721913624</td><td>4.344995069782056E-18</td></tr></tbody></table></div>"
      ]
     },
     "metadata": {
      "application/vnd.databricks.v1+output": {
       "addedWidgets": {},
       "aggData": [],
       "aggError": "",
       "aggOverflow": false,
       "aggSchema": [],
       "aggSeriesLimitReached": false,
       "aggType": "",
       "arguments": {},
       "columnCustomDisplayInfos": {},
       "data": [
        [
         "MMM",
         0.9427178083213479,
         0.0,
         -0.0015539360426961371,
         1.670622229561558E-38
        ],
        [
         "AOS",
         0.9832066810561861,
         0.0,
         -1.8329952352246748E-4,
         0.17999632812561028
        ],
        [
         "ABT",
         0.9437416800069042,
         0.0,
         -9.724477885143035E-4,
         3.3920310773315196E-18
        ],
        [
         "ABBV",
         0.8681055476238482,
         0.0,
         -0.0014565050303953363,
         7.350443181364701E-29
        ],
        [
         "ACN",
         1.0582471024393767,
         0.0,
         9.112481522191239E-4,
         5.303410964462857E-22
        ],
        [
         "ATVI",
         0.8256361527697422,
         0.0,
         -0.002733113392205081,
         5.688208762751674E-72
        ],
        [
         "ADM",
         0.9525470565469555,
         0.0,
         -1.5889983654266158E-4,
         0.23008884106774014
        ],
        [
         "ADBE",
         1.073428172095016,
         0.0,
         8.681931616285828E-4,
         5.998061637252829E-8
        ],
        [
         "AAP",
         1.090304304910073,
         0.0,
         -6.1123700666051E-5,
         0.790372371306961
        ],
        [
         "AMD",
         1.1849455431520013,
         0.0,
         0.0023017699328884414,
         4.548620447868185E-22
        ],
        [
         "AES",
         1.0626718270094164,
         0.0,
         6.950253852415576E-4,
         9.723239966007948E-6
        ],
        [
         "AFL",
         0.9658377946874049,
         0.0,
         -2.036818141637425E-4,
         0.08010982068240016
        ],
        [
         "A",
         1.0315996660212938,
         0.0,
         4.1550651986933893E-4,
         1.9188029193433292E-4
        ],
        [
         "APD",
         0.951662294102624,
         0.0,
         -6.245830004001359E-4,
         1.4900566318321765E-7
        ],
        [
         "AKAM",
         0.923172754726701,
         0.0,
         -0.0017405459798644075,
         2.518810306886582E-34
        ],
        [
         "ALK",
         1.0961286966489145,
         0.0,
         9.08999859080087E-4,
         3.103420885669883E-5
        ],
        [
         "ALB",
         1.18199406671767,
         0.0,
         0.002905551422193531,
         6.089474479536164E-34
        ],
        [
         "ARE",
         0.999857196015646,
         0.0,
         -6.437937768330804E-4,
         7.104209179715952E-8
        ],
        [
         "ALGN",
         1.1708967962943464,
         0.0,
         0.0021864825378635393,
         4.674231075233415E-19
        ],
        [
         "ALLE",
         1.0146680180137948,
         0.0,
         -2.095197797456359E-4,
         0.08525590916516824
        ],
        [
         "LNT",
         0.8899892195850232,
         0.0,
         -0.0017084154532041994,
         1.7758496856019961E-43
        ],
        [
         "ALL",
         0.9482963704466393,
         0.0,
         -0.0010678877126320673,
         1.1412810386618938E-14
        ],
        [
         "GOOGL",
         1.0631986777848563,
         0.0,
         8.744168932424128E-4,
         2.2592244830435867E-13
        ],
        [
         "GOOG",
         1.063249028835795,
         0.0,
         8.829388951997084E-4,
         1.451311822790651E-13
        ],
        [
         "MO",
         0.8753352852114085,
         0.0,
         -0.0018085117578371392,
         2.578824663878826E-42
        ],
        [
         "AMZN",
         1.0812558554406697,
         0.0,
         3.7738633286123067E-4,
         0.01638653689815735
        ],
        [
         "AMCR",
         0.9918388276250084,
         0.0,
         -2.621979185642417E-4,
         0.019425347974849787
        ],
        [
         "AEE",
         0.880172793420002,
         0.0,
         -0.0017912320438818025,
         1.014975841942482E-51
        ],
        [
         "AAL",
         1.1460790152659928,
         0.0,
         0.00113560010435567,
         1.2561088252241657E-4
        ],
        [
         "AEP",
         0.8836331182667607,
         0.0,
         -0.0018670925896689462,
         5.21521529571221E-53
        ],
        [
         "AXP",
         1.0680143688066623,
         0.0,
         8.993174019158853E-4,
         1.4534779291425182E-9
        ],
        [
         "AIG",
         1.068991682073755,
         0.0,
         0.0013471363368851774,
         1.1389486546490022E-14
        ],
        [
         "AMT",
         0.9705926752180982,
         0.0,
         -0.0013342102232540005,
         4.261372890449026E-25
        ],
        [
         "AWK",
         0.9179652363413778,
         0.0,
         -0.001402429618024103,
         1.872452122037907E-31
        ],
        [
         "AMP",
         1.1106406141285632,
         0.0,
         0.0021776853377490054,
         8.56502348445442E-62
        ],
        [
         "ABC",
         0.8799736255504964,
         0.0,
         -0.001065215964541988,
         2.4213106296430197E-17
        ],
        [
         "AME",
         0.9745025477570242,
         0.0,
         -7.053621080655683E-5,
         0.40801894332180155
        ],
        [
         "AMGN",
         0.8646209995355305,
         0.0,
         -0.002080906485979593,
         2.545013837712949E-59
        ],
        [
         "APH",
         1.038262501240916,
         0.0,
         8.489589493970152E-4,
         2.95046200171531E-24
        ],
        [
         "ADI",
         1.0697612073968152,
         0.0,
         9.794917049349525E-4,
         3.403316862458526E-16
        ],
        [
         "ANSS",
         1.0850354194445417,
         0.0,
         5.808370970209059E-4,
         1.2569624693341268E-5
        ],
        [
         "AON",
         0.9538576978758461,
         0.0,
         -4.952369474200413E-4,
         1.684866972524792E-5
        ],
        [
         "APA",
         1.1849970172430695,
         0.0,
         0.0036232625046840475,
         4.8761554958669805E-29
        ],
        [
         "AAPL",
         1.0679074174565863,
         0.0,
         0.0015175869806323197,
         4.118234967454009E-42
        ],
        [
         "AMAT",
         1.1666530262357808,
         0.0,
         0.0026477761516760672,
         1.3973895559178826E-46
        ],
        [
         "APTV",
         1.175937761205222,
         0.0,
         0.002132117680249102,
         1.4955241128105234E-30
        ],
        [
         "ANET",
         1.0747705781057628,
         0.0,
         0.0015103432840268146,
         1.203743560885424E-16
        ],
        [
         "AJG",
         0.956728840840204,
         0.0,
         4.306039759631989E-5,
         0.6606424864215903
        ],
        [
         "AIZ",
         0.9499264959934512,
         0.0,
         -8.901854528054888E-4,
         9.499650665262134E-10
        ],
        [
         "T",
         0.8955028760612554,
         0.0,
         -0.0024516120195998167,
         1.2916105227256254E-71
        ],
        [
         "ATO",
         0.8666025377571421,
         0.0,
         -0.0021020086232457647,
         8.772775111385622E-63
        ],
        [
         "ADSK",
         1.1526078750212876,
         0.0,
         0.0016260554828251685,
         1.7774619783092997E-23
        ],
        [
         "ADP",
         0.9858199001241821,
         0.0,
         -2.960809487158405E-5,
         0.774000862776911
        ],
        [
         "AZO",
         0.9216935592379473,
         0.0,
         -3.775456168917757E-4,
         0.00412434432618684
        ],
        [
         "AVB",
         0.97213456646979,
         0.0,
         -6.629350230893269E-4,
         5.783230483847686E-8
        ],
        [
         "AVY",
         1.018931157853261,
         0.0,
         4.135786107052149E-4,
         9.012704145658941E-4
        ],
        [
         "BKR",
         0.988870452959704,
         0.0,
         3.994344290262881E-4,
         0.06788987991512341
        ],
        [
         "BAC",
         1.0430064728094735,
         0.0,
         2.6266655469461283E-4,
         0.07127630020616792
        ],
        [
         "BBWI",
         1.1759572507981764,
         0.0,
         0.002674367745573778,
         2.0709109326242084E-22
        ],
        [
         "BAX",
         0.9019431536970507,
         0.0,
         -0.002706494354556376,
         9.164951282962993E-73
        ],
        [
         "BDX",
         0.8364223987614717,
         0.0,
         -0.002546377259588273,
         2.365258765139913E-87
        ],
        [
         "BBY",
         1.0384959680616068,
         0.0,
         2.825951710717799E-4,
         0.10576282267830787
        ],
        [
         "BIO",
         0.9959780071846346,
         0.0,
         -8.741629502951997E-4,
         8.912281961827417E-7
        ],
        [
         "TECH",
         1.0484156011624255,
         0.0,
         5.411449437853357E-4,
         9.68261409127297E-4
        ],
        [
         "BIIB",
         0.9079088531314186,
         0.0,
         -0.0022084825741560438,
         7.415255266217351E-19
        ],
        [
         "BLK",
         1.0541158376087312,
         0.0,
         6.111628434500125E-4,
         4.120654940508942E-9
        ],
        [
         "BK",
         0.9970034629477312,
         0.0,
         -3.989696062666697E-4,
         0.003471466226123743
        ],
        [
         "BA",
         1.0749834222878256,
         0.0,
         5.77911232801151E-4,
         0.008595158669669194
        ],
        [
         "BKNG",
         1.0387854818474171,
         0.0,
         6.337588104555899E-4,
         1.354018180364932E-4
        ],
        [
         "BWA",
         1.0102740646341901,
         0.0,
         1.793579921366781E-5,
         0.9130877059379023
        ],
        [
         "BXP",
         1.0380524501868367,
         0.0,
         -6.106956349819765E-4,
         3.008034881144944E-4
        ],
        [
         "BSX",
         0.9600419547417732,
         0.0,
         -5.877716553506896E-4,
         1.4266099716630115E-6
        ],
        [
         "BMY",
         0.8510562904934342,
         0.0,
         -0.002461320984687629,
         1.7275187882745422E-89
        ],
        [
         "AVGO",
         1.0557413270631464,
         0.0,
         0.0015361015669123125,
         8.024311412137849E-36
        ],
        [
         "BR",
         0.9702231344419212,
         0.0,
         -3.05160517796611E-4,
         0.0021973275985063528
        ],
        [
         "BRO",
         0.9849540353456875,
         0.0,
         4.042419023777978E-5,
         0.7138494999864347
        ],
        [
         "CHRW",
         0.9383090644493625,
         0.0,
         -9.967632454784222E-4,
         1.397017629563035E-11
        ],
        [
         "CDNS",
         1.081334062375469,
         0.0,
         0.0016459245324440873,
         9.23802662966757E-30
        ],
        [
         "CZR",
         1.3528187332088293,
         0.0,
         0.004971593790182746,
         1.1810836099216686E-61
        ],
        [
         "CPB",
         0.794882780605422,
         0.0,
         -0.003308322895839453,
         2.1837108553489862E-108
        ],
        [
         "COF",
         1.1254337596213322,
         0.0,
         0.001703673777252121,
         9.478654358458114E-20
        ],
        [
         "CAH",
         0.8881703741706807,
         0.0,
         -0.0011293963363539262,
         5.025639545166642E-14
        ],
        [
         "KMX",
         1.106802635245183,
         0.0,
         8.133209806762568E-4,
         1.3911996993428284E-4
        ],
        [
         "CCL",
         1.2314163076689761,
         0.0,
         0.0019440832149236458,
         6.237478162207336E-8
        ],
        [
         "CARR",
         1.0229367604143205,
         0.0,
         0.001108309917074729,
         1.7103828698141879E-13
        ],
        [
         "CTLT",
         1.1213252267665235,
         0.0,
         4.2202563251195885E-4,
         0.1260131653342557
        ],
        [
         "CAT",
         0.9692642285742499,
         0.0,
         -4.504813518451733E-5,
         0.7551956504418734
        ],
        [
         "CBOE",
         0.8691106181838384,
         0.0,
         -0.0020562301525580548,
         1.5637599005167235E-49
        ],
        [
         "CBRE",
         1.0931826199984744,
         0.0,
         0.00129729019259102,
         1.3400996874466995E-18
        ],
        [
         "CDW",
         1.0649345190780097,
         0.0,
         0.0010137935718773528,
         2.1237746045830422E-18
        ],
        [
         "CE",
         1.0705933531833687,
         0.0,
         9.833255031823011E-4,
         8.93837220888571E-11
        ],
        [
         "CNC",
         0.9305512161055874,
         0.0,
         -0.001460993177879233,
         3.935333854682269E-17
        ],
        [
         "CNP",
         0.9390708955512393,
         0.0,
         -4.760458267928231E-4,
         3.2562372299163426E-4
        ],
        [
         "CDAY",
         1.1719874571447133,
         0.0,
         0.0017988118988905848,
         2.8854043282778667E-18
        ],
        [
         "CF",
         0.9905814614534079,
         0.0,
         1.4457787728284506E-4,
         0.5210293755707411
        ],
        [
         "CRL",
         1.060424661373489,
         0.0,
         4.901271472758951E-4,
         0.0043219331817342
        ],
        [
         "SCHW",
         1.0519507034498092,
         0.0,
         5.663012965511708E-4,
         0.001819002611965526
        ],
        [
         "CHTR",
         0.9376656737400821,
         0.0,
         -0.0015512180555600115,
         5.116322053187299E-22
        ],
        [
         "CVX",
         0.9636938635466548,
         0.0,
         -3.399638177216951E-4,
         0.02888567748465741
        ],
        [
         "CMG",
         1.0312556180257764,
         0.0,
         9.343052485349747E-4,
         4.5530121557410254E-10
        ],
        [
         "CB",
         0.9480493090106554,
         0.0,
         -5.570636404801702E-4,
         4.21496617485796E-5
        ],
        [
         "CHD",
         0.8195258230781959,
         0.0,
         -0.002532656383552639,
         1.0985168754225553E-85
        ],
        [
         "CI",
         0.925408655632397,
         0.0,
         -0.001023803125349844,
         7.682567288815489E-12
        ],
        [
         "CINF",
         1.0026344865698331,
         0.0,
         -2.906947497283734E-4,
         0.09040424855013375
        ],
        [
         "CTAS",
         1.028726785655074,
         0.0,
         8.887466588486634E-4,
         1.0166232405369335E-16
        ],
        [
         "CSCO",
         0.9525532921178632,
         0.0,
         -8.685500140810965E-4,
         1.542880105961118E-14
        ],
        [
         "C",
         1.0480295448329777,
         0.0,
         -8.594153380131795E-5,
         0.5948641503307656
        ],
        [
         "CFG",
         1.1249140257860981,
         0.0,
         0.0012776248424336326,
         1.9730658163773397E-10
        ],
        [
         "CLX",
         0.7816507533772784,
         0.0,
         -0.0037485130332576442,
         5.25554102246793E-113
        ],
        [
         "CME",
         0.8960655358535027,
         0.0,
         -0.001864185246398846,
         1.4701597804939374E-52
        ],
        [
         "CMS",
         0.8642726069471577,
         0.0,
         -0.0021616116429067477,
         2.8821027862278983E-68
        ],
        [
         "KO",
         0.8979230076204135,
         0.0,
         -0.0014033599494302584,
         6.102514754399328E-50
        ],
        [
         "CTSH",
         1.032697058228088,
         0.0,
         1.9871407618416546E-4,
         0.10966006764489823
        ],
        [
         "CL",
         0.8386521047409848,
         0.0,
         -0.0025148517036448804,
         1.2722283369931172E-121
        ],
        [
         "CMCSA",
         0.9408599636308416,
         0.0,
         -0.0010383016355488492,
         1.868076338871817E-17
        ],
        [
         "CMA",
         1.1670682184252965,
         0.0,
         0.0018897967797374283,
         1.3199442568393488E-12
        ],
        [
         "CAG",
         0.8353103006212967,
         0.0,
         -0.0026109840393507984,
         3.59422751419684E-84
        ],
        [
         "COP",
         1.0197480152110199,
         0.0,
         0.0011324444056878206,
         5.6442158868843577E-8
        ],
        [
         "ED",
         0.8458401944029911,
         0.0,
         -0.002250035339777238,
         4.957250578292323E-74
        ],
        [
         "STZ",
         0.9278971968819616,
         0.0,
         -7.728416027657914E-4,
         1.5573383609449787E-10
        ],
        [
         "CPRT",
         1.019773961476432,
         0.0,
         8.066941870180174E-4,
         4.613946864127121E-13
        ],
        [
         "GLW",
         1.0439038966133407,
         0.0,
         4.514357059979203E-4,
         1.4584270794922773E-4
        ],
        [
         "CTVA",
         0.9688146936925344,
         0.0,
         -4.100709779436854E-5,
         0.7881222081489956
        ],
        [
         "COST",
         0.9427955616663543,
         0.0,
         -6.835409563296167E-4,
         2.9110169522767837E-10
        ],
        [
         "CTRA",
         0.9272654848970795,
         0.0,
         -0.0010606235027599033,
         1.6799466193016621E-6
        ],
        [
         "CCI",
         0.9731574131167628,
         0.0,
         -0.0014523047762905754,
         1.4435926051828522E-28
        ],
        [
         "CSX",
         0.9877497976904877,
         0.0,
         -1.949864263682832E-4,
         0.06797839691496203
        ],
        [
         "CMI",
         0.9586679698095705,
         0.0,
         -5.274337805041959E-4,
         1.455491907784315E-5
        ],
        [
         "CVS",
         0.9371750697472139,
         0.0,
         -0.001044911488025133,
         3.482569352549953E-15
        ],
        [
         "DHI",
         1.0513139714649236,
         0.0,
         0.001418383757944558,
         1.4465452677142168E-15
        ],
        [
         "DHR",
         0.9901284013545842,
         0.0,
         -1.1639125859621743E-4,
         0.33855309458346594
        ],
        [
         "DRI",
         1.0304305543198702,
         0.0,
         0.0011145215819154946,
         7.638723515566308E-11
        ],
        [
         "DVA",
         0.8973783965556736,
         0.0,
         -0.0013492945912018351,
         1.3353866804054423E-11
        ],
        [
         "DE",
         0.9778352298823265,
         0.0,
         3.449113384754614E-4,
         0.0257728138548206
        ],
        [
         "DAL",
         1.0939657955597768,
         0.0,
         9.419746293273998E-4,
         2.047093112273121E-5
        ],
        [
         "XRAY",
         0.9744409888057242,
         0.0,
         -0.0010982640558964362,
         5.2949381874091195E-11
        ],
        [
         "DVN",
         1.168656639746627,
         0.0,
         0.003422766758442972,
         2.498442070015159E-34
        ],
        [
         "DXCM",
         1.085758270331082,
         0.0,
         8.184591299999032E-4,
         1.7260237844130948E-4
        ],
        [
         "FANG",
         1.0979564494232505,
         0.0,
         0.0023064648827781434,
         1.6665161506281318E-16
        ],
        [
         "DLR",
         0.9434430232115504,
         0.0,
         -0.001598970362396844,
         3.2119627736951754E-26
        ],
        [
         "DFS",
         1.1480208271382675,
         0.0,
         0.0024306391002744585,
         2.570425930261288E-35
        ],
        [
         "DISH",
         1.221240476557395,
         0.0,
         5.616824778287388E-4,
         0.03294387054194171
        ],
        [
         "DG",
         0.9184622951216461,
         0.0,
         -0.001809712374177468,
         2.142946002973965E-30
        ],
        [
         "DLTR",
         0.9465910568939567,
         0.0,
         -7.510569689086744E-4,
         7.170675665798535E-5
        ],
        [
         "D",
         0.8968347922857088,
         0.0,
         -0.0020998013282308874,
         1.3569710910039762E-62
        ],
        [
         "DPZ",
         0.8703545476941039,
         0.0,
         -0.002093011371951211,
         1.5288681643193528E-38
        ],
        [
         "DOV",
         1.001974965202729,
         0.0,
         4.239457823739269E-5,
         0.6717872272630395
        ],
        [
         "DOW",
         1.0171288904167124,
         0.0,
         3.556821429070208E-4,
         0.01878991555747929
        ],
        [
         "DTE",
         0.9011998602344337,
         0.0,
         -0.0015497846800567913,
         1.1122070112912932E-33
        ],
        [
         "DUK",
         0.8716923788084108,
         0.0,
         -0.0017957753766422034,
         3.5952925360163975E-51
        ],
        [
         "DD",
         1.024999116571258,
         0.0,
         6.82580139140526E-4,
         4.5842127556251513E-7
        ],
        [
         "DXC",
         1.1781730631990968,
         0.0,
         0.001984315585455547,
         5.063579280599732E-15
        ],
        [
         "EMN",
         1.061743673874849,
         0.0,
         7.498563034330528E-4,
         2.166895679331162E-7
        ],
        [
         "ETN",
         0.9852527034018184,
         0.0,
         3.415843760651816E-4,
         0.0026688817698159472
        ],
        [
         "EBAY",
         1.0092406791440447,
         0.0,
         -3.6002924170130024E-4,
         0.027788788023672798
        ],
        [
         "ECL",
         1.011452728193966,
         0.0,
         -3.03232639118935E-4,
         0.009241342627513685
        ],
        [
         "EIX",
         0.9104476782297367,
         0.0,
         -0.0012958656904704091,
         1.5880817692451308E-22
        ],
        [
         "EW",
         1.0259715588778382,
         0.0,
         -7.64527515928283E-5,
         0.6199469519031335
        ],
        [
         "EA",
         0.8676355522410641,
         0.0,
         -0.0021657478980665486,
         4.397753873269786E-53
        ],
        [
         "LLY",
         0.8614879983820816,
         0.0,
         -0.0011048040105243867,
         1.900318665870742E-11
        ],
        [
         "EMR",
         0.9948052798204127,
         0.0,
         1.483054433476504E-4,
         0.18447442951128973
        ],
        [
         "ENPH",
         1.2713361345766294,
         0.0,
         0.004007592496282446,
         1.0920912799245659E-26
        ],
        [
         "ETR",
         0.9073772595161094,
         0.0,
         -0.0015161891211229598,
         6.1166367230584806E-33
        ],
        [
         "EOG",
         1.0353356931525044,
         0.0,
         0.0012798996038833488,
         6.90247829342273E-8
        ],
        [
         "EFX",
         1.0391930963590663,
         0.0,
         5.85669237833948E-4,
         7.060770114500775E-5
        ],
        [
         "EQIX",
         0.946704813656568,
         0.0,
         -0.0010935305851494225,
         5.270174091387101E-15
        ],
        [
         "EQR",
         0.9882587565659064,
         0.0,
         -6.361384204351196E-4,
         9.225077532271441E-7
        ],
        [
         "ESS",
         0.9840180830792827,
         0.0,
         -6.538540946879596E-4,
         1.1325203931350689E-6
        ],
        [
         "EL",
         1.1106067534384638,
         0.0,
         7.489153302040487E-4,
         4.0887009574058913E-7
        ],
        [
         "ETSY",
         1.1991948949945537,
         0.0,
         0.002243652777024195,
         1.0186889965637938E-12
        ],
        [
         "EVRG",
         0.8834896544137657,
         0.0,
         -0.001879072655858826,
         1.2786352903857442E-48
        ],
        [
         "ES",
         0.8840952140346346,
         0.0,
         -0.0020328192227826326,
         9.550313236003824E-57
        ],
        [
         "EXC",
         0.9458892548121565,
         0.0,
         -5.62301001480399E-4,
         1.4834686252598429E-6
        ],
        [
         "EXPE",
         1.1608524775661537,
         0.0,
         0.002084168381524925,
         9.569170620409186E-21
        ],
        [
         "EXPD",
         0.9465120334966171,
         0.0,
         -4.2995301171867254E-4,
         2.2648951194176165E-4
        ],
        [
         "EXR",
         0.9878648428273795,
         0.0,
         -2.9941266739150934E-4,
         0.038148861215480376
        ],
        [
         "XOM",
         0.9650173521817205,
         0.0,
         2.6513552646147146E-5,
         0.8809011258806709
        ],
        [
         "FFIV",
         1.0187526560604443,
         0.0,
         2.718564660966297E-5,
         0.8470153995700593
        ],
        [
         "FAST",
         0.976200636547439,
         0.0,
         -6.6907160074202E-7,
         0.9948215125088598
        ],
        [
         "FRT",
         1.0214575499332204,
         0.0,
         -1.3352663008378347E-5,
         0.9345685196013263
        ],
        [
         "FDX",
         1.016498110986094,
         0.0,
         4.469235038701223E-4,
         0.010750910873779239
        ],
        [
         "FIS",
         1.0514083042987683,
         0.0,
         -0.0010658321523745362,
         3.377499755270294E-8
        ],
        [
         "FITB",
         1.1366579418213867,
         0.0,
         0.0016115908522662788,
         9.599497980380268E-18
        ],
        [
         "FE",
         0.8837647094837863,
         0.0,
         -0.002172413463493488,
         1.0973541976073541E-38
        ],
        [
         "FLT",
         1.0364455194366673,
         0.0,
         -2.5862363498332458E-5,
         0.8535128398195918
        ],
        [
         "FMC",
         0.9897761407203324,
         0.0,
         -4.6293100667877676E-4,
         8.483010538923533E-4
        ],
        [
         "F",
         1.135843502678227,
         0.0,
         0.0019831264422039197,
         1.9612656044131708E-22
        ],
        [
         "FTNT",
         1.1301901618760009,
         0.0,
         0.00196427285651539,
         1.330022714024571E-19
        ],
        [
         "FTV",
         0.9936394912119327,
         0.0,
         -1.121342737579073E-4,
         0.3046973650831163
        ],
        [
         "FOXA",
         0.9414931824659714,
         0.0,
         -0.0011087228577937836,
         1.5513804347351518E-10
        ],
        [
         "FOX",
         0.948826193610695,
         0.0,
         -0.0010250344935531426,
         2.1703515598463608E-10
        ],
        [
         "BEN",
         1.0878646363754003,
         0.0,
         0.001078275371616244,
         1.4595916629039547E-11
        ],
        [
         "FCX",
         1.1659913562708153,
         0.0,
         0.002970877964825642,
         6.578335329892226E-38
        ],
        [
         "GPS",
         1.1833013987928604,
         0.0,
         0.0020298844460224473,
         1.983954726080257E-10
        ],
        [
         "GRMN",
         0.9941637575841773,
         0.0,
         -4.3484392511023773E-4,
         4.3095141205826166E-5
        ],
        [
         "IT",
         1.057536413530999,
         0.0,
         0.0015388278014998756,
         4.3798481074865336E-29
        ],
        [
         "GNRC",
         1.2238928391271475,
         0.0,
         0.00225874690221072,
         4.630567761440469E-17
        ],
        [
         "GD",
         0.9322095938381529,
         0.0,
         -8.692572745113412E-4,
         7.194512826184858E-15
        ],
        [
         "GE",
         0.9758846261250139,
         0.0,
         -3.9085137976207335E-4,
         0.0432917599226159
        ],
        [
         "GIS",
         0.8136191506904056,
         0.0,
         -0.0026498204011986205,
         1.9977661157597323E-88
        ],
        [
         "GM",
         1.1126793963759476,
         0.0,
         0.0010318021619129245,
         3.7143623646053834E-8
        ],
        [
         "GPC",
         0.9824282169092595,
         0.0,
         1.4901524909648336E-4,
         0.20702505052697456
        ],
        [
         "GILD",
         0.850843899326094,
         0.0,
         -0.0025662431366890058,
         1.6920533203384224E-89
        ],
        [
         "GPN",
         1.0824146911820076,
         0.0,
         -3.860202061176844E-6,
         0.9804647422265421
        ],
        [
         "GL",
         0.9766976478886256,
         0.0,
         -4.2933812086853293E-4,
         7.170083618656399E-4
        ],
        [
         "GS",
         1.0142506584551543,
         0.0,
         5.026249783268351E-4,
         3.4581246825678724E-5
        ],
        [
         "HAL",
         1.1130539155569905,
         0.0,
         0.002661302711551313,
         1.0815202471495915E-23
        ],
        [
         "HBI",
         1.1227141445149464,
         0.0,
         3.3259896616149424E-5,
         0.9017596676552498
        ],
        [
         "HAS",
         0.9851083532173892,
         0.0,
         -0.0010867824935514114,
         3.5414013115434438E-12
        ],
        [
         "HCA",
         1.0228046542321687,
         0.0,
         9.291431114012826E-4,
         9.208164668608095E-8
        ],
        [
         "PEAK",
         1.0107871394111412,
         0.0,
         -4.4027468163319536E-4,
         0.001302435145038834
        ],
        [
         "HSIC",
         0.9538868956938249,
         0.0,
         -7.224646387011812E-4,
         2.9531225652033974E-7
        ],
        [
         "HES",
         1.0582062565181323,
         0.0,
         0.0017800927283810211,
         9.098188701124834E-14
        ],
        [
         "HPE",
         1.0257207920836935,
         0.0,
         3.667320571675768E-4,
         0.020620576471637998
        ],
        [
         "HLT",
         1.0406645928692781,
         0.0,
         8.780195681040788E-4,
         2.9848810052516147E-9
        ],
        [
         "HOLX",
         0.9306241727714867,
         0.0,
         -6.71099185290373E-4,
         6.781160301700623E-6
        ],
        [
         "HD",
         0.9802965437729115,
         0.0,
         -5.396102601789226E-6,
         0.9581448300535226
        ],
        [
         "HON",
         0.9914275692371154,
         0.0,
         -2.0312682053890218E-4,
         0.041117545736358084
        ],
        [
         "HRL",
         0.8012144210997548,
         0.0,
         -0.003378910967584909,
         4.2702879935985835E-139
        ],
        [
         "HST",
         1.0738721339621524,
         0.0,
         6.630052237625238E-4,
         5.052523767425878E-4
        ],
        [
         "HWM",
         1.097423217259554,
         0.0,
         0.0021651037696063503,
         3.534814408007718E-30
        ],
        [
         "HPQ",
         1.0899186217002776,
         0.0,
         0.0014458575398501245,
         1.0233162533962888E-19
        ],
        [
         "HUM",
         0.883809292704189,
         0.0,
         -0.001839709565208138,
         9.069553389688313E-30
        ],
        [
         "HBAN",
         1.0838844476648886,
         0.0,
         7.492924923287982E-4,
         1.5964037172051888E-4
        ],
        [
         "HII",
         0.8900218716063717,
         0.0,
         -0.0018861673453429916,
         2.6139921995655953E-39
        ],
        [
         "IBM",
         0.9057568818289448,
         0.0,
         -0.0014749826409163798,
         1.689955340915893E-33
        ],
        [
         "IEX",
         0.9572732802113442,
         0.0,
         -6.155464117963022E-4,
         3.3456508544030727E-9
        ],
        [
         "IDXX",
         1.0429373941884925,
         0.0,
         7.685532720710052E-4,
         2.5854659486995893E-7
        ],
        [
         "ITW",
         0.9577184988540718,
         0.0,
         -5.388131096764939E-4,
         3.067406068427438E-9
        ],
        [
         "ILMN",
         1.0725000333857504,
         0.0,
         -4.629591176765834E-4,
         0.03156867542658996
        ],
        [
         "INCY",
         0.9008028696161169,
         0.0,
         -0.002407261765318997,
         8.338102909784631E-50
        ],
        [
         "IR",
         1.043222388580315,
         0.0,
         9.703992993289088E-4,
         1.0404853275691407E-12
        ],
        [
         "INTC",
         1.0099234448470635,
         0.0,
         -0.0012281969990982293,
         5.838014341141445E-13
        ],
        [
         "ICE",
         0.9429905578873629,
         0.0,
         -9.531522546144749E-4,
         1.9780376709868634E-22
        ],
        [
         "IFF",
         1.0310202019542145,
         0.0,
         -7.775987568903815E-4,
         9.13163861325361E-7
        ],
        [
         "IP",
         0.973874329160281,
         0.0,
         -6.952784273315609E-4,
         2.8133234829432755E-6
        ],
        [
         "IPG",
         1.0524496189747947,
         0.0,
         9.551825006724472E-4,
         1.874471794911905E-9
        ],
        [
         "INTU",
         1.1407702583724812,
         0.0,
         0.0019027607041308976,
         2.319052235354772E-40
        ],
        [
         "ISRG",
         1.0765046510994052,
         0.0,
         0.0011345503933089284,
         1.267741729472836E-15
        ],
        [
         "IVZ",
         1.156749207935758,
         0.0,
         0.00213737934382244,
         1.142711757615242E-25
        ],
        [
         "IPGP",
         1.0320522626849902,
         0.0,
         -6.955208860528062E-4,
         6.010712132742498E-4
        ],
        [
         "IQV",
         1.054435951749409,
         0.0,
         8.205886666938514E-4,
         2.1202888269995397E-12
        ],
        [
         "IRM",
         0.9620486379791862,
         0.0,
         2.2517386202773932E-4,
         0.14443610422082118
        ],
        [
         "JBHT",
         0.9629580922366684,
         0.0,
         -3.3264717640972785E-4,
         0.0192595067995691
        ],
        [
         "JKHY",
         0.9383913575454468,
         0.0,
         -0.0014108865774168989,
         1.2919199200042544E-23
        ],
        [
         "J",
         0.9916104986654692,
         0.0,
         -2.786690736214856E-4,
         0.01829291986981962
        ],
        [
         "SJM",
         0.794490015400764,
         0.0,
         -0.0029096619566952547,
         1.2995668939021217E-93
        ],
        [
         "JNJ",
         0.8397480489695561,
         0.0,
         -0.0023867082027595383,
         5.394986842625022E-115
        ],
        [
         "JCI",
         1.0098921001248389,
         0.0,
         5.670726406566273E-4,
         4.91852061342472E-6
        ],
        [
         "JPM",
         0.9779815444433532,
         0.0,
         -3.5456197572493323E-4,
         0.005896031433249331
        ],
        [
         "JNPR",
         0.995014232294039,
         0.0,
         -3.632456017071704E-4,
         0.003776953677366722
        ],
        [
         "K",
         0.7976376716605654,
         0.0,
         -0.003107948582396924,
         9.305885013716079E-123
        ],
        [
         "KEY",
         1.1513980027068595,
         0.0,
         0.001094087344880281,
         4.856842630602645E-6
        ],
        [
         "KEYS",
         1.026766294467519,
         0.0,
         2.0561928127237303E-4,
         0.09546429436087644
        ],
        [
         "KMB",
         0.8169250624621682,
         0.0,
         -0.002972773426156098,
         3.635247578357125E-134
        ],
        [
         "KIM",
         1.0902145600191362,
         0.0,
         0.0013864479275454682,
         5.309973883874942E-13
        ],
        [
         "KMI",
         0.9483866227396723,
         0.0,
         -8.232009268826553E-4,
         4.702480517987664E-10
        ],
        [
         "KLAC",
         1.1548082810872649,
         0.0,
         0.002620390050857926,
         8.582904517749735E-49
        ],
        [
         "KHC",
         0.8645119970961577,
         0.0,
         -0.001996650167923587,
         2.4912820898035897E-49
        ],
        [
         "KR",
         0.7995018929270628,
         0.0,
         -0.002828950362289096,
         8.770822304654697E-58
        ],
        [
         "LHX",
         0.8936396605279323,
         0.0,
         -0.002116569770241042,
         8.60924638026161E-51
        ],
        [
         "LH",
         0.9347720862970673,
         0.0,
         -6.709718105363644E-4,
         5.193183633895626E-7
        ],
        [
         "LRCX",
         1.1692424005857522,
         0.0,
         0.0025375507768358313,
         4.262231927012134E-37
        ],
        [
         "LW",
         0.9591880195784392,
         0.0,
         -4.912435249956439E-4,
         0.004163455538202905
        ],
        [
         "LVS",
         1.023724026281959,
         0.0,
         -4.2514866672966364E-4,
         0.0664640136978609
        ],
        [
         "LEG",
         1.0511011799608525,
         0.0,
         2.5392669284588014E-4,
         0.15333705596613612
        ],
        [
         "LDOS",
         0.9048024283977201,
         0.0,
         -0.0018324015189974906,
         1.229341475602258E-35
        ],
        [
         "LEN",
         1.071329879884834,
         0.0,
         0.0016966838548489044,
         1.2216835052556513E-19
        ],
        [
         "LNC",
         1.263955219032695,
         0.0,
         0.0023884437751844866,
         3.563456768220546E-18
        ],
        [
         "LIN",
         0.9807989123640778,
         0.0,
         2.0382518661881955E-4,
         0.035310962891465236
        ],
        [
         "LYV",
         1.107470915470754,
         0.0,
         0.0013879120327403855,
         3.1566593900212995E-11
        ],
        [
         "LKQ",
         1.0543935125751591,
         0.0,
         0.0012388164721913624,
         4.344995069782056E-18
        ]
       ],
       "datasetInfos": [],
       "dbfsResultPath": null,
       "isJsonSchema": true,
       "metadata": {},
       "overflow": false,
       "plotOptions": {
        "customPlotOptions": {},
        "displayType": "table",
        "pivotAggregation": null,
        "pivotColumns": null,
        "xColumns": null,
        "yColumns": null
       },
       "removedWidgets": [],
       "schema": [
        {
         "metadata": "{}",
         "name": "symbol",
         "type": "\"string\""
        },
        {
         "metadata": "{}",
         "name": "alpha_coef",
         "type": "\"double\""
        },
        {
         "metadata": "{}",
         "name": "alpha_pv",
         "type": "\"double\""
        },
        {
         "metadata": "{}",
         "name": "market_coef",
         "type": "\"double\""
        },
        {
         "metadata": "{}",
         "name": "marke_pv",
         "type": "\"double\""
        }
       ],
       "type": "table"
      }
     },
     "output_type": "display_data"
    },
    {
     "output_type": "display_data",
     "data": {
      "text/plain": [
       "Databricks visualization. Run in Databricks to view."
      ]
     },
     "metadata": {
      "application/vnd.databricks.v1.subcommand+json": {
       "bindings": {},
       "collapsed": false,
       "command": "%python\n__backend_agg_display_orig = display\n__backend_agg_dfs = []\ndef __backend_agg_display_new(df):\n    __backend_agg_df_modules = [\"pandas.core.frame\", \"databricks.koalas.frame\", \"pyspark.sql.dataframe\", \"pyspark.pandas.frame\", \"pyspark.sql.connect.dataframe\"]\n    if (type(df).__module__ in __backend_agg_df_modules and type(df).__name__ == 'DataFrame') or isinstance(df, list):\n        __backend_agg_dfs.append(df)\n\ndisplay = __backend_agg_display_new\n\ndef __backend_agg_user_code_fn():\n    import base64\n    exec(base64.standard_b64decode(\"ZGlzcGxheShmaW5hbF9kYXRhX3NpZ25pZmljYW50KQ==\").decode())\n\ntry:\n    # run user code\n    __backend_agg_user_code_fn()\n\n    #reset display function\n    display = __backend_agg_display_orig\n\n    if len(__backend_agg_dfs) > 0:\n        # create a temp view\n        if type(__backend_agg_dfs[0]).__module__ == \"databricks.koalas.frame\":\n            # koalas dataframe\n            __backend_agg_dfs[0].to_spark().createOrReplaceTempView(\"DatabricksView27a06f3\")\n        elif type(__backend_agg_dfs[0]).__module__ == \"pandas.core.frame\" or isinstance(__backend_agg_dfs[0], list):\n            # pandas dataframe\n            spark.createDataFrame(__backend_agg_dfs[0]).createOrReplaceTempView(\"DatabricksView27a06f3\")\n        else:\n            __backend_agg_dfs[0].createOrReplaceTempView(\"DatabricksView27a06f3\")\n        #run backend agg\n        display(spark.sql(\"\"\"WITH q AS (select * from DatabricksView27a06f3) SELECT `market_coef`,`symbol` FROM q\"\"\"))\n    else:\n        displayHTML(\"dataframe no longer exists. If you're using dataframe.display(), use display(dataframe) instead.\")\n\n\nfinally:\n    spark.sql(\"drop view if exists DatabricksView27a06f3\")\n    display = __backend_agg_display_orig\n    del __backend_agg_display_new\n    del __backend_agg_display_orig\n    del __backend_agg_dfs\n    del __backend_agg_user_code_fn\n\n",
       "commandTitle": "Visualization 1",
       "commandType": "auto",
       "commandVersion": 0,
       "commentThread": [],
       "commentsVisible": false,
       "contentSha256Hex": null,
       "customPlotOptions": {
        "redashChart": [
         {
          "key": "type",
          "value": "CHART"
         },
         {
          "key": "options",
          "value": {
           "alignYAxesAtZero": true,
           "coefficient": 1,
           "columnConfigurationMap": {
            "x": {
             "column": "market_coef",
             "id": "column_934e8d2789"
            },
            "y": [
             {
              "column": "symbol",
              "id": "column_934e8d2790"
             }
            ]
           },
           "dateTimeFormat": "DD/MM/YYYY HH:mm",
           "direction": {
            "type": "counterclockwise"
           },
           "error_y": {
            "type": "data",
            "visible": true
           },
           "globalSeriesType": "bubble",
           "legend": {
            "traceorder": "normal"
           },
           "missingValuesAsZero": true,
           "numberFormat": "0,0[.]00000",
           "percentFormat": "0[.]00%",
           "series": {
            "error_y": {
             "type": "data",
             "visible": true
            },
            "stacking": null
           },
           "seriesOptions": {
            "symbol": {
             "type": "bubble",
             "yAxis": 0
            }
           },
           "showDataLabels": false,
           "sizemode": "diameter",
           "sortX": true,
           "sortY": true,
           "swappedAxes": false,
           "textFormat": "",
           "useAggregationsUi": true,
           "valuesOptions": {},
           "version": 2,
           "xAxis": {
            "labels": {
             "enabled": true
            },
            "type": "-"
           },
           "yAxis": [
            {
             "type": "-"
            },
            {
             "opposite": true,
             "type": "-"
            }
           ]
          }
         }
        ]
       },
       "datasetPreviewNameToCmdIdMap": {},
       "diffDeletes": [],
       "diffInserts": [],
       "displayType": "redashChart",
       "error": null,
       "errorSummary": null,
       "errorTraceType": null,
       "finishTime": 0,
       "globalVars": {},
       "guid": "0cce62af-5dd9-4a00-8332-f81160360b64",
       "height": "auto",
       "hideCommandCode": false,
       "hideCommandResult": false,
       "iPythonMetadata": null,
       "inputWidgets": {},
       "isLockedInExamMode": false,
       "latestUser": "a user",
       "latestUserId": null,
       "listResultMetadata": null,
       "metadata": {
        "byteLimit": 2048000,
        "rowLimit": 10000
       },
       "nuid": "08a141fc-55ce-4f22-a08d-89f78dd60e2c",
       "origId": 2735862450495339,
       "parentHierarchy": [
        "d9153e42-809a-4a1a-ab37-d89b4fc11a83"
       ],
       "pivotAggregation": null,
       "pivotColumns": null,
       "position": 3.0,
       "resultDbfsErrorMessage": null,
       "resultDbfsStatus": "INLINED_IN_TREE",
       "results": null,
       "showCommandTitle": false,
       "startTime": 0,
       "state": "finished",
       "streamStates": {},
       "subcommandOptions": {
        "queryPlan": {
         "selects": [
          {
           "column": "market_coef",
           "type": "column"
          },
          {
           "column": "symbol",
           "type": "column"
          }
         ]
        }
       },
       "submitTime": 0,
       "subtype": "tableResultSubCmd.visualization",
       "tableResultIndex": 0,
       "useConsistentColors": false,
       "version": "CommandV1",
       "width": "auto",
       "workflows": [],
       "xColumns": null,
       "yColumns": null
      }
     },
     "output_type": "display_data"
    }
   ],
   "source": [
    "display(final_data_significant)"
   ]
  },
  {
   "cell_type": "code",
   "execution_count": 0,
   "metadata": {
    "application/vnd.databricks.v1+cell": {
     "cellMetadata": {
      "byteLimit": 2048000,
      "rowLimit": 10000
     },
     "inputWidgets": {},
     "nuid": "8e6d94bf-0da5-4584-9771-bb549f4f7acc",
     "showTitle": false,
     "title": ""
    }
   },
   "outputs": [],
   "source": [
    "### thus so far our main results\n",
    "### alphas form two groups\n",
    "### market relation also forms two groups\n",
    "\n",
    "### thus we need to check by industry wise averages\n",
    "### different type of industry should have different alpha\n"
   ]
  },
  {
   "cell_type": "code",
   "execution_count": 0,
   "metadata": {
    "application/vnd.databricks.v1+cell": {
     "cellMetadata": {
      "byteLimit": 2048000,
      "rowLimit": 10000
     },
     "inputWidgets": {},
     "nuid": "9747bd62-e495-4dbb-be68-cdcea2f8be53",
     "showTitle": false,
     "title": ""
    }
   },
   "outputs": [],
   "source": [
    "### lets look into data by industry wise\n",
    "### we look into average alphas for each industry\n",
    "\n",
    "data_final_mr = pd.merge(final_data, data, left_on=\"symbol\", right_on=\"Symbol\")\n",
    "data_final_mr_gr = data_final_mr.groupby(\"Sector\").mean()\n",
    "data_final_mr_gr.reset_index(inplace=True)"
   ]
  },
  {
   "cell_type": "code",
   "execution_count": 0,
   "metadata": {
    "application/vnd.databricks.v1+cell": {
     "cellMetadata": {
      "byteLimit": 2048000,
      "rowLimit": 10000
     },
     "inputWidgets": {},
     "nuid": "288ae77b-7d2d-477e-97db-dc452f99f08c",
     "showTitle": false,
     "title": ""
    }
   },
   "outputs": [
    {
     "output_type": "display_data",
     "data": {
      "text/html": [
       "<style scoped>\n",
       "  .table-result-container {\n",
       "    max-height: 300px;\n",
       "    overflow: auto;\n",
       "  }\n",
       "  table, th, td {\n",
       "    border: 1px solid black;\n",
       "    border-collapse: collapse;\n",
       "  }\n",
       "  th, td {\n",
       "    padding: 5px;\n",
       "  }\n",
       "  th {\n",
       "    text-align: left;\n",
       "  }\n",
       "</style><div class='table-result-container'><table class='table-result'><thead style='background-color: white'><tr><th>Sector</th><th>alpha_coef</th><th>alpha_pv</th><th>market_coef</th><th>marke_pv</th></tr></thead><tbody><tr><td>Communication Services</td><td>0.9887690260119372</td><td>0.0</td><td>-6.176347960536284E-4</td><td>0.0027453227350436975</td></tr><tr><td>Consumer Discretionary</td><td>1.0660359552394278</td><td>0.0</td><td>7.130931998092277E-4</td><td>0.1255952307271121</td></tr><tr><td>Consumer Staples</td><td>0.8644323607738976</td><td>0.0</td><td>-0.002059448748294051</td><td>0.012329089785414438</td></tr><tr><td>Energy</td><td>1.0392656469313688</td><td>0.0</td><td>0.0012006994441430706</td><td>0.08147320743036267</td></tr><tr><td>Financials</td><td>1.0398462677077265</td><td>0.0</td><td>4.11376681554383E-4</td><td>0.06947837807314658</td></tr><tr><td>Health Care</td><td>0.9600701443875963</td><td>0.0</td><td>-7.720224840779571E-4</td><td>0.030317481861112907</td></tr><tr><td>Industrials</td><td>1.0004097043336977</td><td>0.0</td><td>2.239521831201821E-5</td><td>0.100591288235162</td></tr><tr><td>Information Technology</td><td>1.0658617440040925</td><td>0.0</td><td>7.647665388793393E-4</td><td>0.0945505805499622</td></tr><tr><td>Materials</td><td>1.0269500752596488</td><td>0.0</td><td>3.9018914396940957E-4</td><td>0.0871045796832961</td></tr><tr><td>Real Estate</td><td>1.0034779038531958</td><td>0.0</td><td>-3.6672223145153984E-4</td><td>0.06995400999691269</td></tr><tr><td>Utilities</td><td>0.9019449572833251</td><td>0.0</td><td>-0.0015537704606888147</td><td>1.871280175460567E-5</td></tr></tbody></table></div>"
      ]
     },
     "metadata": {
      "application/vnd.databricks.v1+output": {
       "addedWidgets": {},
       "aggData": [],
       "aggError": "",
       "aggOverflow": false,
       "aggSchema": [],
       "aggSeriesLimitReached": false,
       "aggType": "",
       "arguments": {},
       "columnCustomDisplayInfos": {},
       "data": [
        [
         "Communication Services",
         0.9887690260119372,
         0.0,
         -6.176347960536284E-4,
         0.0027453227350436975
        ],
        [
         "Consumer Discretionary",
         1.0660359552394278,
         0.0,
         7.130931998092277E-4,
         0.1255952307271121
        ],
        [
         "Consumer Staples",
         0.8644323607738976,
         0.0,
         -0.002059448748294051,
         0.012329089785414438
        ],
        [
         "Energy",
         1.0392656469313688,
         0.0,
         0.0012006994441430706,
         0.08147320743036267
        ],
        [
         "Financials",
         1.0398462677077265,
         0.0,
         4.11376681554383E-4,
         0.06947837807314658
        ],
        [
         "Health Care",
         0.9600701443875963,
         0.0,
         -7.720224840779571E-4,
         0.030317481861112907
        ],
        [
         "Industrials",
         1.0004097043336977,
         0.0,
         2.239521831201821E-5,
         0.100591288235162
        ],
        [
         "Information Technology",
         1.0658617440040925,
         0.0,
         7.647665388793393E-4,
         0.0945505805499622
        ],
        [
         "Materials",
         1.0269500752596488,
         0.0,
         3.9018914396940957E-4,
         0.0871045796832961
        ],
        [
         "Real Estate",
         1.0034779038531958,
         0.0,
         -3.6672223145153984E-4,
         0.06995400999691269
        ],
        [
         "Utilities",
         0.9019449572833251,
         0.0,
         -0.0015537704606888147,
         1.871280175460567E-5
        ]
       ],
       "datasetInfos": [],
       "dbfsResultPath": null,
       "isJsonSchema": true,
       "metadata": {},
       "overflow": false,
       "plotOptions": {
        "customPlotOptions": {},
        "displayType": "table",
        "pivotAggregation": null,
        "pivotColumns": null,
        "xColumns": null,
        "yColumns": null
       },
       "removedWidgets": [],
       "schema": [
        {
         "metadata": "{}",
         "name": "Sector",
         "type": "\"string\""
        },
        {
         "metadata": "{}",
         "name": "alpha_coef",
         "type": "\"double\""
        },
        {
         "metadata": "{}",
         "name": "alpha_pv",
         "type": "\"double\""
        },
        {
         "metadata": "{}",
         "name": "market_coef",
         "type": "\"double\""
        },
        {
         "metadata": "{}",
         "name": "marke_pv",
         "type": "\"double\""
        }
       ],
       "type": "table"
      }
     },
     "output_type": "display_data"
    },
    {
     "output_type": "display_data",
     "data": {
      "text/plain": [
       "Databricks visualization. Run in Databricks to view."
      ]
     },
     "metadata": {
      "application/vnd.databricks.v1.subcommand+json": {
       "bindings": {},
       "collapsed": false,
       "command": "%python\n__backend_agg_display_orig = display\n__backend_agg_dfs = []\ndef __backend_agg_display_new(df):\n    __backend_agg_df_modules = [\"pandas.core.frame\", \"databricks.koalas.frame\", \"pyspark.sql.dataframe\", \"pyspark.pandas.frame\", \"pyspark.sql.connect.dataframe\"]\n    if (type(df).__module__ in __backend_agg_df_modules and type(df).__name__ == 'DataFrame') or isinstance(df, list):\n        __backend_agg_dfs.append(df)\n\ndisplay = __backend_agg_display_new\n\ndef __backend_agg_user_code_fn():\n    import base64\n    exec(base64.standard_b64decode(\"IyMjIHNvIG9uIGF2ZXJhZ2UgZW5lcmd5LCBpbmZvcm1hdGlvbiB0ZWNobm9sb2d5LCBmaW5hbmNpYWxzIGFuZCBjb25zdW1lciBkaXNjcmV0aW9uYXJ5IHN0b2NrcyBhcmUgc2hvd2luZyBiZXR0ZXIgYWxwaGEKZGlzcGxheShkYXRhX2ZpbmFsX21yX2dyKQ==\").decode())\n\ntry:\n    # run user code\n    __backend_agg_user_code_fn()\n\n    #reset display function\n    display = __backend_agg_display_orig\n\n    if len(__backend_agg_dfs) > 0:\n        # create a temp view\n        if type(__backend_agg_dfs[0]).__module__ == \"databricks.koalas.frame\":\n            # koalas dataframe\n            __backend_agg_dfs[0].to_spark().createOrReplaceTempView(\"DatabricksView9bbbf2c\")\n        elif type(__backend_agg_dfs[0]).__module__ == \"pandas.core.frame\" or isinstance(__backend_agg_dfs[0], list):\n            # pandas dataframe\n            spark.createDataFrame(__backend_agg_dfs[0]).createOrReplaceTempView(\"DatabricksView9bbbf2c\")\n        else:\n            __backend_agg_dfs[0].createOrReplaceTempView(\"DatabricksView9bbbf2c\")\n        #run backend agg\n        display(spark.sql(\"\"\"WITH q AS (select * from DatabricksView9bbbf2c) SELECT `Sector`,`alpha_coef` FROM q\"\"\"))\n    else:\n        displayHTML(\"dataframe no longer exists. If you're using dataframe.display(), use display(dataframe) instead.\")\n\n\nfinally:\n    spark.sql(\"drop view if exists DatabricksView9bbbf2c\")\n    display = __backend_agg_display_orig\n    del __backend_agg_display_new\n    del __backend_agg_display_orig\n    del __backend_agg_dfs\n    del __backend_agg_user_code_fn\n\n",
       "commandTitle": "Visualization 1",
       "commandType": "auto",
       "commandVersion": 0,
       "commentThread": [],
       "commentsVisible": false,
       "contentSha256Hex": null,
       "customPlotOptions": {
        "redashChart": [
         {
          "key": "type",
          "value": "CHART"
         },
         {
          "key": "options",
          "value": {
           "alignYAxesAtZero": true,
           "coefficient": 5,
           "columnConfigurationMap": {
            "x": {
             "column": "Sector",
             "id": "column_4dbf3e9e56"
            },
            "y": [
             {
              "column": "alpha_coef",
              "id": "column_4dbf3e9e57"
             }
            ]
           },
           "dateTimeFormat": "DD/MM/YYYY HH:mm",
           "direction": {
            "type": "counterclockwise"
           },
           "error_y": {
            "type": "data",
            "visible": true
           },
           "globalSeriesType": "bubble",
           "legend": {
            "traceorder": "normal"
           },
           "missingValuesAsZero": true,
           "numBins": 10,
           "numberFormat": "0,0[.]00000",
           "percentFormat": "0[.]00%",
           "series": {
            "error_y": {
             "type": "data",
             "visible": true
            },
            "stacking": null
           },
           "seriesOptions": {
            "alpha_coef": {
             "type": "bubble",
             "yAxis": 0
            },
            "column_4dbf3e9e49": {
             "type": "bubble",
             "yAxis": 0
            }
           },
           "showDataLabels": false,
           "sizemode": "diameter",
           "sortX": true,
           "sortY": true,
           "swappedAxes": false,
           "textFormat": "",
           "useAggregationsUi": true,
           "valuesOptions": {},
           "version": 2,
           "xAxis": {
            "labels": {
             "enabled": true
            },
            "type": "-"
           },
           "yAxis": [
            {
             "type": "-"
            },
            {
             "opposite": true,
             "type": "-"
            }
           ]
          }
         }
        ]
       },
       "datasetPreviewNameToCmdIdMap": {},
       "diffDeletes": [],
       "diffInserts": [],
       "displayType": "redashChart",
       "error": null,
       "errorSummary": null,
       "errorTraceType": null,
       "finishTime": 0,
       "globalVars": {},
       "guid": "7a8f5fc3-b2f7-4f10-83a2-ebe9a87b4d78",
       "height": "auto",
       "hideCommandCode": false,
       "hideCommandResult": false,
       "iPythonMetadata": null,
       "inputWidgets": {},
       "isLockedInExamMode": false,
       "latestUser": "a user",
       "latestUserId": null,
       "listResultMetadata": null,
       "metadata": {
        "byteLimit": 2048000,
        "rowLimit": 10000
       },
       "nuid": "9ac695aa-a8f5-4acd-8cd0-eb1c8b7b651f",
       "origId": 1604641186964249,
       "parentHierarchy": [
        "217ccf11-f226-48da-9538-3d69c29e9199"
       ],
       "pivotAggregation": null,
       "pivotColumns": null,
       "position": 4.25,
       "resultDbfsErrorMessage": null,
       "resultDbfsStatus": "INLINED_IN_TREE",
       "results": null,
       "showCommandTitle": false,
       "startTime": 0,
       "state": "finished",
       "streamStates": {},
       "subcommandOptions": {
        "queryPlan": {
         "selects": [
          {
           "column": "Sector",
           "type": "column"
          },
          {
           "column": "alpha_coef",
           "type": "column"
          }
         ]
        }
       },
       "submitTime": 0,
       "subtype": "tableResultSubCmd.visualization",
       "tableResultIndex": 0,
       "useConsistentColors": false,
       "version": "CommandV1",
       "width": "auto",
       "workflows": [],
       "xColumns": null,
       "yColumns": null
      }
     },
     "output_type": "display_data"
    }
   ],
   "source": [
    "### so on average energy, information technology, financials and consumer discretionary stocks are showing better alpha\n",
    "display(data_final_mr_gr)"
   ]
  },
  {
   "cell_type": "code",
   "execution_count": 0,
   "metadata": {
    "application/vnd.databricks.v1+cell": {
     "cellMetadata": {
      "byteLimit": 2048000,
      "rowLimit": 10000
     },
     "inputWidgets": {},
     "nuid": "95262841-190d-4464-bafc-127dbcca9fad",
     "showTitle": false,
     "title": ""
    }
   },
   "outputs": [
    {
     "output_type": "display_data",
     "data": {
      "text/html": [
       "<style scoped>\n",
       "  .table-result-container {\n",
       "    max-height: 300px;\n",
       "    overflow: auto;\n",
       "  }\n",
       "  table, th, td {\n",
       "    border: 1px solid black;\n",
       "    border-collapse: collapse;\n",
       "  }\n",
       "  th, td {\n",
       "    padding: 5px;\n",
       "  }\n",
       "  th {\n",
       "    text-align: left;\n",
       "  }\n",
       "</style><div class='table-result-container'><table class='table-result'><thead style='background-color: white'><tr><th>Sector</th><th>alpha_coef</th><th>alpha_pv</th><th>market_coef</th><th>marke_pv</th></tr></thead><tbody><tr><td>Communication Services</td><td>0.9887690260119372</td><td>0.0</td><td>-6.176347960536284E-4</td><td>0.0027453227350436975</td></tr><tr><td>Consumer Discretionary</td><td>1.0660359552394278</td><td>0.0</td><td>7.130931998092277E-4</td><td>0.1255952307271121</td></tr><tr><td>Consumer Staples</td><td>0.8644323607738976</td><td>0.0</td><td>-0.002059448748294051</td><td>0.012329089785414438</td></tr><tr><td>Energy</td><td>1.0392656469313688</td><td>0.0</td><td>0.0012006994441430706</td><td>0.08147320743036267</td></tr><tr><td>Financials</td><td>1.0398462677077265</td><td>0.0</td><td>4.11376681554383E-4</td><td>0.06947837807314658</td></tr><tr><td>Health Care</td><td>0.9600701443875963</td><td>0.0</td><td>-7.720224840779571E-4</td><td>0.030317481861112907</td></tr><tr><td>Industrials</td><td>1.0004097043336977</td><td>0.0</td><td>2.239521831201821E-5</td><td>0.100591288235162</td></tr><tr><td>Information Technology</td><td>1.0658617440040925</td><td>0.0</td><td>7.647665388793393E-4</td><td>0.0945505805499622</td></tr><tr><td>Materials</td><td>1.0269500752596488</td><td>0.0</td><td>3.9018914396940957E-4</td><td>0.0871045796832961</td></tr><tr><td>Real Estate</td><td>1.0034779038531958</td><td>0.0</td><td>-3.6672223145153984E-4</td><td>0.06995400999691269</td></tr><tr><td>Utilities</td><td>0.9019449572833251</td><td>0.0</td><td>-0.0015537704606888147</td><td>1.871280175460567E-5</td></tr></tbody></table></div>"
      ]
     },
     "metadata": {
      "application/vnd.databricks.v1+output": {
       "addedWidgets": {},
       "aggData": [],
       "aggError": "",
       "aggOverflow": false,
       "aggSchema": [],
       "aggSeriesLimitReached": false,
       "aggType": "",
       "arguments": {},
       "columnCustomDisplayInfos": {},
       "data": [
        [
         "Communication Services",
         0.9887690260119372,
         0.0,
         -6.176347960536284E-4,
         0.0027453227350436975
        ],
        [
         "Consumer Discretionary",
         1.0660359552394278,
         0.0,
         7.130931998092277E-4,
         0.1255952307271121
        ],
        [
         "Consumer Staples",
         0.8644323607738976,
         0.0,
         -0.002059448748294051,
         0.012329089785414438
        ],
        [
         "Energy",
         1.0392656469313688,
         0.0,
         0.0012006994441430706,
         0.08147320743036267
        ],
        [
         "Financials",
         1.0398462677077265,
         0.0,
         4.11376681554383E-4,
         0.06947837807314658
        ],
        [
         "Health Care",
         0.9600701443875963,
         0.0,
         -7.720224840779571E-4,
         0.030317481861112907
        ],
        [
         "Industrials",
         1.0004097043336977,
         0.0,
         2.239521831201821E-5,
         0.100591288235162
        ],
        [
         "Information Technology",
         1.0658617440040925,
         0.0,
         7.647665388793393E-4,
         0.0945505805499622
        ],
        [
         "Materials",
         1.0269500752596488,
         0.0,
         3.9018914396940957E-4,
         0.0871045796832961
        ],
        [
         "Real Estate",
         1.0034779038531958,
         0.0,
         -3.6672223145153984E-4,
         0.06995400999691269
        ],
        [
         "Utilities",
         0.9019449572833251,
         0.0,
         -0.0015537704606888147,
         1.871280175460567E-5
        ]
       ],
       "datasetInfos": [],
       "dbfsResultPath": null,
       "isJsonSchema": true,
       "metadata": {},
       "overflow": false,
       "plotOptions": {
        "customPlotOptions": {},
        "displayType": "table",
        "pivotAggregation": null,
        "pivotColumns": null,
        "xColumns": null,
        "yColumns": null
       },
       "removedWidgets": [],
       "schema": [
        {
         "metadata": "{}",
         "name": "Sector",
         "type": "\"string\""
        },
        {
         "metadata": "{}",
         "name": "alpha_coef",
         "type": "\"double\""
        },
        {
         "metadata": "{}",
         "name": "alpha_pv",
         "type": "\"double\""
        },
        {
         "metadata": "{}",
         "name": "market_coef",
         "type": "\"double\""
        },
        {
         "metadata": "{}",
         "name": "marke_pv",
         "type": "\"double\""
        }
       ],
       "type": "table"
      }
     },
     "output_type": "display_data"
    },
    {
     "output_type": "display_data",
     "data": {
      "text/plain": [
       "Databricks visualization. Run in Databricks to view."
      ]
     },
     "metadata": {
      "application/vnd.databricks.v1.subcommand+json": {
       "bindings": {},
       "collapsed": false,
       "command": "%python\n__backend_agg_display_orig = display\n__backend_agg_dfs = []\ndef __backend_agg_display_new(df):\n    __backend_agg_df_modules = [\"pandas.core.frame\", \"databricks.koalas.frame\", \"pyspark.sql.dataframe\", \"pyspark.pandas.frame\", \"pyspark.sql.connect.dataframe\"]\n    if (type(df).__module__ in __backend_agg_df_modules and type(df).__name__ == 'DataFrame') or isinstance(df, list):\n        __backend_agg_dfs.append(df)\n\ndisplay = __backend_agg_display_new\n\ndef __backend_agg_user_code_fn():\n    import base64\n    exec(base64.standard_b64decode(\"IyMjIGxldHMgY2hlY2sgdGhlIGFscGhhIGFuZCBtYXJrZXQgcmVsYXRpb24gaW4gb25lIGdyYXBoCiMjIyB0aGlzIGNvbWJpbmF0aW9uIHNob3VsZCBmaW5kIHVzIHRoZSBiZXN0IHBlcmZvcm1pbmcgc2VjdG9yCiMjIyBkaXZpbmcgZGVlcCBpbnRvIHRoYXQgc2hvd3MgdGhhdCB0aGUgZW5lcmd5IHNlY3RvciBzaG93cyB0aGUgYmVzdCBjb21iaW5hdGlvbnMKIyMjIG1lYWluaW5nIHRoYXQgaXQgaGFzIHN0cm9uZ2VyIHJlbGF0aW9uIHdpdGggdGhlIG1hcmtldCBpdHNlbGYgYW5kIGFsc28gaGlnaGVyIGFscGhhCgpkaXNwbGF5KGRhdGFfZmluYWxfbXJfZ3Ip\").decode())\n\ntry:\n    # run user code\n    __backend_agg_user_code_fn()\n\n    #reset display function\n    display = __backend_agg_display_orig\n\n    if len(__backend_agg_dfs) > 0:\n        # create a temp view\n        if type(__backend_agg_dfs[0]).__module__ == \"databricks.koalas.frame\":\n            # koalas dataframe\n            __backend_agg_dfs[0].to_spark().createOrReplaceTempView(\"DatabricksView7184ee3\")\n        elif type(__backend_agg_dfs[0]).__module__ == \"pandas.core.frame\" or isinstance(__backend_agg_dfs[0], list):\n            # pandas dataframe\n            spark.createDataFrame(__backend_agg_dfs[0]).createOrReplaceTempView(\"DatabricksView7184ee3\")\n        else:\n            __backend_agg_dfs[0].createOrReplaceTempView(\"DatabricksView7184ee3\")\n        #run backend agg\n        display(spark.sql(\"\"\"WITH q AS (select * from DatabricksView7184ee3) SELECT `alpha_coef`,`market_coef`,`Sector`,`Sector` FROM q\"\"\"))\n    else:\n        displayHTML(\"dataframe no longer exists. If you're using dataframe.display(), use display(dataframe) instead.\")\n\n\nfinally:\n    spark.sql(\"drop view if exists DatabricksView7184ee3\")\n    display = __backend_agg_display_orig\n    del __backend_agg_display_new\n    del __backend_agg_display_orig\n    del __backend_agg_dfs\n    del __backend_agg_user_code_fn\n\n",
       "commandTitle": "Visualization 1",
       "commandType": "auto",
       "commandVersion": 0,
       "commentThread": [],
       "commentsVisible": false,
       "contentSha256Hex": null,
       "customPlotOptions": {
        "redashChart": [
         {
          "key": "type",
          "value": "CHART"
         },
         {
          "key": "options",
          "value": {
           "alignYAxesAtZero": true,
           "coefficient": 5,
           "columnConfigurationMap": {
            "series": {
             "column": "Sector",
             "id": "column_4dbf3e9e85"
            },
            "size": {
             "column": "Sector",
             "id": "column_4dbf3e9e78"
            },
            "x": {
             "column": "alpha_coef",
             "id": "column_4dbf3e9e74"
            },
            "y": [
             {
              "column": "market_coef",
              "id": "column_4dbf3e9e70"
             }
            ]
           },
           "dateTimeFormat": "DD/MM/YYYY HH:mm",
           "direction": {
            "type": "counterclockwise"
           },
           "error_y": {
            "type": "data",
            "visible": true
           },
           "globalSeriesType": "bubble",
           "legend": {
            "traceorder": "normal"
           },
           "missingValuesAsZero": true,
           "numberFormat": "0,0[.]00000",
           "percentFormat": "0[.]00%",
           "series": {
            "error_y": {
             "type": "data",
             "visible": true
            },
            "stacking": null
           },
           "seriesOptions": {
            "market_coef": {
             "type": "bubble",
             "yAxis": 0
            }
           },
           "showDataLabels": false,
           "sizemode": "diameter",
           "sortX": true,
           "sortY": true,
           "swappedAxes": false,
           "textFormat": "",
           "useAggregationsUi": true,
           "valuesOptions": {},
           "version": 2,
           "xAxis": {
            "labels": {
             "enabled": true
            },
            "type": "-"
           },
           "yAxis": [
            {
             "type": "-"
            },
            {
             "opposite": true,
             "type": "-"
            }
           ]
          }
         }
        ]
       },
       "datasetPreviewNameToCmdIdMap": {},
       "diffDeletes": [],
       "diffInserts": [],
       "displayType": "redashChart",
       "error": null,
       "errorSummary": null,
       "errorTraceType": null,
       "finishTime": 0,
       "globalVars": {},
       "guid": "32813c26-4660-4584-9dc3-702704daf9df",
       "height": "auto",
       "hideCommandCode": false,
       "hideCommandResult": false,
       "iPythonMetadata": null,
       "inputWidgets": {},
       "isLockedInExamMode": false,
       "latestUser": "a user",
       "latestUserId": null,
       "listResultMetadata": null,
       "metadata": {
        "byteLimit": 2048000,
        "rowLimit": 10000
       },
       "nuid": "2dba3ffd-7912-406b-ad21-36208a8df979",
       "origId": 1604641186964251,
       "parentHierarchy": [
        "9290c1ea-f595-4f09-9326-a73e7d88f28e"
       ],
       "pivotAggregation": null,
       "pivotColumns": null,
       "position": 4.375,
       "resultDbfsErrorMessage": null,
       "resultDbfsStatus": "INLINED_IN_TREE",
       "results": null,
       "showCommandTitle": false,
       "startTime": 0,
       "state": "finished",
       "streamStates": {},
       "subcommandOptions": {
        "queryPlan": {
         "selects": [
          {
           "column": "alpha_coef",
           "type": "column"
          },
          {
           "column": "market_coef",
           "type": "column"
          },
          {
           "column": "Sector",
           "type": "column"
          },
          {
           "column": "Sector",
           "type": "column"
          }
         ]
        }
       },
       "submitTime": 0,
       "subtype": "tableResultSubCmd.visualization",
       "tableResultIndex": 0,
       "useConsistentColors": false,
       "version": "CommandV1",
       "width": "auto",
       "workflows": [],
       "xColumns": null,
       "yColumns": null
      }
     },
     "output_type": "display_data"
    }
   ],
   "source": [
    "### lets check the alpha and market relation in one graph\n",
    "### this combination should find us the best performing sector\n",
    "### diving deep into that shows that the energy sector shows the best combinations\n",
    "### meaining that it has stronger relation with the market itself and also higher alpha\n",
    "\n",
    "display(data_final_mr_gr)"
   ]
  },
  {
   "cell_type": "markdown",
   "metadata": {
    "application/vnd.databricks.v1+cell": {
     "cellMetadata": {
      "byteLimit": 2048000,
      "rowLimit": 10000
     },
     "inputWidgets": {},
     "nuid": "7b40c9e8-510a-49e0-9f81-2fe29c5d71df",
     "showTitle": false,
     "title": ""
    }
   },
   "source": [
    "### Industry return\n",
    "\n",
    "Since we found based on alpha and market relation the high performing industry, now it is time to actually dive deeper into industry returns.\n",
    "As we saw earlier, energy sector shows the best combination of alpha and beta relation. So we assume energy sector return should be the best."
   ]
  },
  {
   "cell_type": "code",
   "execution_count": 0,
   "metadata": {
    "application/vnd.databricks.v1+cell": {
     "cellMetadata": {
      "byteLimit": 2048000,
      "rowLimit": 10000
     },
     "inputWidgets": {},
     "nuid": "740e7972-0fe5-4a5f-b6fe-e8bc8f471e7a",
     "showTitle": false,
     "title": ""
    }
   },
   "outputs": [],
   "source": [
    "### construct portfolio of those high performing energy sectors"
   ]
  },
  {
   "cell_type": "code",
   "execution_count": 0,
   "metadata": {
    "application/vnd.databricks.v1+cell": {
     "cellMetadata": {
      "byteLimit": 2048000,
      "rowLimit": 10000
     },
     "inputWidgets": {},
     "nuid": "9e33c5a2-78a0-4991-abad-3e80a482bef4",
     "showTitle": false,
     "title": ""
    }
   },
   "outputs": [],
   "source": [
    "stock_data_all_v1 = pd.DataFrame((stock_data_all.loc[stock_data_all.index[-1]] - stock_data_all.loc[stock_data_all.index[0]]) / stock_data_all.loc[stock_data_all.index[0]], columns=[\"return\"])\n",
    "stock_data_all_v1.index = [a.split(\"_\")[0] for a in stock_data_all_v1.index.tolist()]\n",
    "stock_data_all_v1.reset_index(inplace = True)\n",
    "stock_data_all_v1.rename(columns={\"index\":\"symbol\"}, inplace=True)"
   ]
  },
  {
   "cell_type": "code",
   "execution_count": 0,
   "metadata": {
    "application/vnd.databricks.v1+cell": {
     "cellMetadata": {
      "byteLimit": 2048000,
      "rowLimit": 10000
     },
     "inputWidgets": {},
     "nuid": "d190fa6b-e2a3-4ef5-a9f6-b80baf0b0081",
     "showTitle": false,
     "title": ""
    }
   },
   "outputs": [],
   "source": [
    "data_mr_v1 = pd.merge(data, stock_data_all_v1, left_on=\"Symbol\", right_on=\"symbol\")\n",
    "data_mr_v1 = data_mr_v1.groupby(\"Sector\").mean()\n",
    "data_mr_v1.reset_index(inplace=True)"
   ]
  },
  {
   "cell_type": "code",
   "execution_count": 0,
   "metadata": {
    "application/vnd.databricks.v1+cell": {
     "cellMetadata": {
      "byteLimit": 2048000,
      "rowLimit": 10000
     },
     "inputWidgets": {},
     "nuid": "02834be9-fd35-49dc-b99d-c14d99fcf3ce",
     "showTitle": false,
     "title": ""
    }
   },
   "outputs": [
    {
     "output_type": "display_data",
     "data": {
      "text/html": [
       "<div>\n",
       "<style scoped>\n",
       "    .dataframe tbody tr th:only-of-type {\n",
       "        vertical-align: middle;\n",
       "    }\n",
       "\n",
       "    .dataframe tbody tr th {\n",
       "        vertical-align: top;\n",
       "    }\n",
       "\n",
       "    .dataframe thead th {\n",
       "        text-align: right;\n",
       "    }\n",
       "</style>\n",
       "<table border=\"1\" class=\"dataframe\">\n",
       "  <thead>\n",
       "    <tr style=\"text-align: right;\">\n",
       "      <th></th>\n",
       "      <th>Sector</th>\n",
       "      <th>return</th>\n",
       "    </tr>\n",
       "  </thead>\n",
       "  <tbody>\n",
       "    <tr>\n",
       "      <th>10</th>\n",
       "      <td>Utilities</td>\n",
       "      <td>0.243739</td>\n",
       "    </tr>\n",
       "    <tr>\n",
       "      <th>2</th>\n",
       "      <td>Consumer Staples</td>\n",
       "      <td>0.415121</td>\n",
       "    </tr>\n",
       "    <tr>\n",
       "      <th>9</th>\n",
       "      <td>Real Estate</td>\n",
       "      <td>0.424422</td>\n",
       "    </tr>\n",
       "    <tr>\n",
       "      <th>0</th>\n",
       "      <td>Communication Services</td>\n",
       "      <td>0.521737</td>\n",
       "    </tr>\n",
       "    <tr>\n",
       "      <th>5</th>\n",
       "      <td>Health Care</td>\n",
       "      <td>0.591387</td>\n",
       "    </tr>\n",
       "    <tr>\n",
       "      <th>4</th>\n",
       "      <td>Financials</td>\n",
       "      <td>0.909714</td>\n",
       "    </tr>\n",
       "    <tr>\n",
       "      <th>6</th>\n",
       "      <td>Industrials</td>\n",
       "      <td>0.969772</td>\n",
       "    </tr>\n",
       "    <tr>\n",
       "      <th>7</th>\n",
       "      <td>Information Technology</td>\n",
       "      <td>0.991691</td>\n",
       "    </tr>\n",
       "    <tr>\n",
       "      <th>1</th>\n",
       "      <td>Consumer Discretionary</td>\n",
       "      <td>1.044476</td>\n",
       "    </tr>\n",
       "    <tr>\n",
       "      <th>8</th>\n",
       "      <td>Materials</td>\n",
       "      <td>1.126363</td>\n",
       "    </tr>\n",
       "    <tr>\n",
       "      <th>3</th>\n",
       "      <td>Energy</td>\n",
       "      <td>3.183182</td>\n",
       "    </tr>\n",
       "  </tbody>\n",
       "</table>\n",
       "</div>"
      ]
     },
     "metadata": {
      "application/vnd.databricks.v1+output": {
       "addedWidgets": {},
       "arguments": {},
       "data": "<div>\n<style scoped>\n    .dataframe tbody tr th:only-of-type {\n        vertical-align: middle;\n    }\n\n    .dataframe tbody tr th {\n        vertical-align: top;\n    }\n\n    .dataframe thead th {\n        text-align: right;\n    }\n</style>\n<table border=\"1\" class=\"dataframe\">\n  <thead>\n    <tr style=\"text-align: right;\">\n      <th></th>\n      <th>Sector</th>\n      <th>return</th>\n    </tr>\n  </thead>\n  <tbody>\n    <tr>\n      <th>10</th>\n      <td>Utilities</td>\n      <td>0.243739</td>\n    </tr>\n    <tr>\n      <th>2</th>\n      <td>Consumer Staples</td>\n      <td>0.415121</td>\n    </tr>\n    <tr>\n      <th>9</th>\n      <td>Real Estate</td>\n      <td>0.424422</td>\n    </tr>\n    <tr>\n      <th>0</th>\n      <td>Communication Services</td>\n      <td>0.521737</td>\n    </tr>\n    <tr>\n      <th>5</th>\n      <td>Health Care</td>\n      <td>0.591387</td>\n    </tr>\n    <tr>\n      <th>4</th>\n      <td>Financials</td>\n      <td>0.909714</td>\n    </tr>\n    <tr>\n      <th>6</th>\n      <td>Industrials</td>\n      <td>0.969772</td>\n    </tr>\n    <tr>\n      <th>7</th>\n      <td>Information Technology</td>\n      <td>0.991691</td>\n    </tr>\n    <tr>\n      <th>1</th>\n      <td>Consumer Discretionary</td>\n      <td>1.044476</td>\n    </tr>\n    <tr>\n      <th>8</th>\n      <td>Materials</td>\n      <td>1.126363</td>\n    </tr>\n    <tr>\n      <th>3</th>\n      <td>Energy</td>\n      <td>3.183182</td>\n    </tr>\n  </tbody>\n</table>\n</div>",
       "datasetInfos": [],
       "metadata": {},
       "removedWidgets": [],
       "textData": null,
       "type": "htmlSandbox"
      }
     },
     "output_type": "display_data"
    }
   ],
   "source": [
    "data_mr_v1.sort_values(\"return\")"
   ]
  },
  {
   "cell_type": "code",
   "execution_count": 0,
   "metadata": {
    "application/vnd.databricks.v1+cell": {
     "cellMetadata": {
      "byteLimit": 2048000,
      "rowLimit": 10000
     },
     "inputWidgets": {},
     "nuid": "fc6f3b40-5e03-4444-b2db-49a02dcfb736",
     "showTitle": false,
     "title": ""
    }
   },
   "outputs": [],
   "source": [
    "### based on results we see that energy sector indeed is showing the best return\n",
    "### also materials and consumer discretionary also have high returns"
   ]
  },
  {
   "cell_type": "code",
   "execution_count": 0,
   "metadata": {
    "application/vnd.databricks.v1+cell": {
     "cellMetadata": {
      "byteLimit": 2048000,
      "rowLimit": 10000
     },
     "inputWidgets": {},
     "nuid": "7a24eb0d-f177-4e7a-acba-85a45cb99043",
     "showTitle": false,
     "title": ""
    }
   },
   "outputs": [
    {
     "output_type": "display_data",
     "data": {
      "text/html": [
       "<style scoped>\n",
       "  .table-result-container {\n",
       "    max-height: 300px;\n",
       "    overflow: auto;\n",
       "  }\n",
       "  table, th, td {\n",
       "    border: 1px solid black;\n",
       "    border-collapse: collapse;\n",
       "  }\n",
       "  th, td {\n",
       "    padding: 5px;\n",
       "  }\n",
       "  th {\n",
       "    text-align: left;\n",
       "  }\n",
       "</style><div class='table-result-container'><table class='table-result'><thead style='background-color: white'><tr><th>Sector</th><th>return</th></tr></thead><tbody><tr><td>Utilities</td><td>0.24373865959411992</td></tr><tr><td>Consumer Staples</td><td>0.4151205199386811</td></tr><tr><td>Real Estate</td><td>0.424421898970612</td></tr><tr><td>Communication Services</td><td>0.5217368446832756</td></tr><tr><td>Health Care</td><td>0.5913869372533193</td></tr><tr><td>Financials</td><td>0.9097141694184505</td></tr><tr><td>Industrials</td><td>0.9697719584314548</td></tr><tr><td>Information Technology</td><td>0.9916908284375117</td></tr><tr><td>Consumer Discretionary</td><td>1.0444758167761303</td></tr><tr><td>Materials</td><td>1.1263629562645865</td></tr><tr><td>Energy</td><td>3.1831823765820495</td></tr></tbody></table></div>"
      ]
     },
     "metadata": {
      "application/vnd.databricks.v1+output": {
       "addedWidgets": {},
       "aggData": [],
       "aggError": "",
       "aggOverflow": false,
       "aggSchema": [],
       "aggSeriesLimitReached": false,
       "aggType": "",
       "arguments": {},
       "columnCustomDisplayInfos": {},
       "data": [
        [
         "Utilities",
         0.24373865959411992
        ],
        [
         "Consumer Staples",
         0.4151205199386811
        ],
        [
         "Real Estate",
         0.424421898970612
        ],
        [
         "Communication Services",
         0.5217368446832756
        ],
        [
         "Health Care",
         0.5913869372533193
        ],
        [
         "Financials",
         0.9097141694184505
        ],
        [
         "Industrials",
         0.9697719584314548
        ],
        [
         "Information Technology",
         0.9916908284375117
        ],
        [
         "Consumer Discretionary",
         1.0444758167761303
        ],
        [
         "Materials",
         1.1263629562645865
        ],
        [
         "Energy",
         3.1831823765820495
        ]
       ],
       "datasetInfos": [],
       "dbfsResultPath": null,
       "isJsonSchema": true,
       "metadata": {},
       "overflow": false,
       "plotOptions": {
        "customPlotOptions": {},
        "displayType": "table",
        "pivotAggregation": null,
        "pivotColumns": null,
        "xColumns": null,
        "yColumns": null
       },
       "removedWidgets": [],
       "schema": [
        {
         "metadata": "{}",
         "name": "Sector",
         "type": "\"string\""
        },
        {
         "metadata": "{}",
         "name": "return",
         "type": "\"double\""
        }
       ],
       "type": "table"
      }
     },
     "output_type": "display_data"
    },
    {
     "output_type": "display_data",
     "data": {
      "text/plain": [
       "Databricks visualization. Run in Databricks to view."
      ]
     },
     "metadata": {
      "application/vnd.databricks.v1.subcommand+json": {
       "bindings": {},
       "collapsed": false,
       "command": "%python\n__backend_agg_display_orig = display\n__backend_agg_dfs = []\ndef __backend_agg_display_new(df):\n    __backend_agg_df_modules = [\"pandas.core.frame\", \"databricks.koalas.frame\", \"pyspark.sql.dataframe\", \"pyspark.pandas.frame\", \"pyspark.sql.connect.dataframe\"]\n    if (type(df).__module__ in __backend_agg_df_modules and type(df).__name__ == 'DataFrame') or isinstance(df, list):\n        __backend_agg_dfs.append(df)\n\ndisplay = __backend_agg_display_new\n\ndef __backend_agg_user_code_fn():\n    import base64\n    exec(base64.standard_b64decode(\"ZGlzcGxheShkYXRhX21yX3YxLnNvcnRfdmFsdWVzKCJyZXR1cm4iKSk=\").decode())\n\ntry:\n    # run user code\n    __backend_agg_user_code_fn()\n\n    #reset display function\n    display = __backend_agg_display_orig\n\n    if len(__backend_agg_dfs) > 0:\n        # create a temp view\n        if type(__backend_agg_dfs[0]).__module__ == \"databricks.koalas.frame\":\n            # koalas dataframe\n            __backend_agg_dfs[0].to_spark().createOrReplaceTempView(\"DatabricksView20f2a83\")\n        elif type(__backend_agg_dfs[0]).__module__ == \"pandas.core.frame\" or isinstance(__backend_agg_dfs[0], list):\n            # pandas dataframe\n            spark.createDataFrame(__backend_agg_dfs[0]).createOrReplaceTempView(\"DatabricksView20f2a83\")\n        else:\n            __backend_agg_dfs[0].createOrReplaceTempView(\"DatabricksView20f2a83\")\n        #run backend agg\n        display(spark.sql(\"\"\"WITH q AS (select * from DatabricksView20f2a83) SELECT `Sector`,SUM(`return`) `column_4dbf3e9e116` FROM q GROUP BY `Sector`\"\"\"))\n    else:\n        displayHTML(\"dataframe no longer exists. If you're using dataframe.display(), use display(dataframe) instead.\")\n\n\nfinally:\n    spark.sql(\"drop view if exists DatabricksView20f2a83\")\n    display = __backend_agg_display_orig\n    del __backend_agg_display_new\n    del __backend_agg_display_orig\n    del __backend_agg_dfs\n    del __backend_agg_user_code_fn\n\n",
       "commandTitle": "Visualization 1",
       "commandType": "auto",
       "commandVersion": 0,
       "commentThread": [],
       "commentsVisible": false,
       "contentSha256Hex": null,
       "customPlotOptions": {
        "redashChart": [
         {
          "key": "type",
          "value": "CHART"
         },
         {
          "key": "options",
          "value": {
           "alignYAxesAtZero": true,
           "coefficient": 5,
           "columnConfigurationMap": {
            "x": {
             "column": "Sector",
             "id": "column_4dbf3e9e115"
            },
            "y": [
             {
              "column": "return",
              "id": "column_4dbf3e9e116",
              "transform": "SUM"
             }
            ]
           },
           "dateTimeFormat": "DD/MM/YYYY HH:mm",
           "direction": {
            "type": "counterclockwise"
           },
           "error_y": {
            "type": "data",
            "visible": true
           },
           "globalSeriesType": "column",
           "isAggregationOn": true,
           "legend": {
            "traceorder": "normal"
           },
           "missingValuesAsZero": true,
           "numberFormat": "0,0[.]00000",
           "percentFormat": "0[.]00%",
           "series": {
            "error_y": {
             "type": "data",
             "visible": true
            },
            "stacking": null
           },
           "seriesOptions": {
            "column_4dbf3e9e116": {
             "name": "return",
             "type": "column",
             "yAxis": 0
            },
            "return": {
             "name": "return",
             "type": "column",
             "yAxis": 0
            }
           },
           "showDataLabels": false,
           "sizemode": "diameter",
           "sortX": true,
           "sortY": true,
           "swappedAxes": false,
           "textFormat": "",
           "useAggregationsUi": true,
           "valuesOptions": {},
           "version": 2,
           "xAxis": {
            "labels": {
             "enabled": true
            },
            "type": "-"
           },
           "yAxis": [
            {
             "type": "-"
            },
            {
             "opposite": true,
             "type": "-"
            }
           ]
          }
         }
        ]
       },
       "datasetPreviewNameToCmdIdMap": {},
       "diffDeletes": [],
       "diffInserts": [],
       "displayType": "redashChart",
       "error": null,
       "errorSummary": null,
       "errorTraceType": null,
       "finishTime": 0,
       "globalVars": {},
       "guid": "ffec9e63-06f0-4cca-a958-0cb7e677a244",
       "height": "auto",
       "hideCommandCode": false,
       "hideCommandResult": false,
       "iPythonMetadata": null,
       "inputWidgets": {},
       "isLockedInExamMode": false,
       "latestUser": "a user",
       "latestUserId": null,
       "listResultMetadata": null,
       "metadata": {
        "byteLimit": 2048000,
        "rowLimit": 10000
       },
       "nuid": "9f6f81db-642e-4c56-a4bb-25e7f25849fe",
       "origId": 1604641186964259,
       "parentHierarchy": [
        "e114d205-c9b1-4ecf-a428-bcd05fdb1f41"
       ],
       "pivotAggregation": null,
       "pivotColumns": null,
       "position": 5.625,
       "resultDbfsErrorMessage": null,
       "resultDbfsStatus": "INLINED_IN_TREE",
       "results": null,
       "showCommandTitle": false,
       "startTime": 0,
       "state": "finished",
       "streamStates": {},
       "subcommandOptions": {
        "queryPlan": {
         "groups": [
          {
           "column": "Sector",
           "type": "column"
          }
         ],
         "selects": [
          {
           "column": "Sector",
           "type": "column"
          },
          {
           "alias": "column_4dbf3e9e116",
           "args": [
            {
             "column": "return",
             "type": "column"
            }
           ],
           "function": "SUM",
           "type": "function"
          }
         ]
        }
       },
       "submitTime": 0,
       "subtype": "tableResultSubCmd.visualization",
       "tableResultIndex": 0,
       "useConsistentColors": false,
       "version": "CommandV1",
       "width": "auto",
       "workflows": [],
       "xColumns": null,
       "yColumns": null
      }
     },
     "output_type": "display_data"
    }
   ],
   "source": [
    "display(data_mr_v1.sort_values(\"return\"))"
   ]
  },
  {
   "cell_type": "markdown",
   "metadata": {
    "application/vnd.databricks.v1+cell": {
     "cellMetadata": {
      "byteLimit": 2048000,
      "rowLimit": 10000
     },
     "inputWidgets": {},
     "nuid": "24ac7c2d-e166-4faa-854c-2125a0194b03",
     "showTitle": false,
     "title": ""
    }
   },
   "source": [
    "## Conclusion\n",
    "\n",
    "In this notebook we have seen how to estimate Jensen's alpha, a simple indicator that shows which stocks are doing better than the market.\n",
    "\n",
    "By looking into almost 500 stocks we estimated the alphas and checked the best stock sector based on the alpha and beta relation.\n",
    "\n",
    "Looking into that relation we found that indeed best sector that performed well for the past years is the energy sector stocks."
   ]
  }
 ],
 "metadata": {
  "application/vnd.databricks.v1+notebook": {
   "dashboards": [
    {
     "elements": [
      {
       "dashboardResultIndex": 0,
       "elementNUID": "4b897655-a866-4c7c-8b17-9b30e99d18c6",
       "elementType": "command",
       "guid": "aceb7af9-dc1a-4dbe-9873-fd795f90ad5a",
       "options": null,
       "position": {
        "height": 6,
        "width": 12,
        "x": 0,
        "y": 0,
        "z": null
       },
       "resultIndex": null
      }
     ],
     "globalVars": {},
     "guid": "a7f7b0fc-0169-4850-8104-e2f510c57c2d",
     "layoutOption": {
      "grid": true,
      "stack": true
     },
     "nuid": "3cf1eb5f-51bc-4154-bfbd-bbb7674cb49c",
     "origId": 2735862450495334,
     "title": "Untitled",
     "version": "DashboardViewV1",
     "width": 1024
    }
   ],
   "language": "python",
   "notebookMetadata": {
    "pythonIndentUnit": 4
   },
   "notebookName": "Jensen's Alpha",
   "widgets": {}
  }
 },
 "nbformat": 4,
 "nbformat_minor": 0
}
